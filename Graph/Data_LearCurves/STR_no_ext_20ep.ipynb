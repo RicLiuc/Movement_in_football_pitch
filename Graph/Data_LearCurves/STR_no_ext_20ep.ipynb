{
 "cells": [
  {
   "cell_type": "code",
   "execution_count": 1,
   "id": "081d3fa0",
   "metadata": {},
   "outputs": [],
   "source": [
    "import numpy as np\n",
    "import plotly.express as px"
   ]
  },
  {
   "cell_type": "code",
   "execution_count": 2,
   "id": "b40e82cf",
   "metadata": {},
   "outputs": [],
   "source": [
    "epo_tot = [i for i in range(0, 20)]\n",
    "tra_tot = []\n",
    "val_tot = []"
   ]
  },
  {
   "cell_type": "code",
   "execution_count": 3,
   "id": "27860353",
   "metadata": {},
   "outputs": [],
   "source": [
    "Atalanta = [[0.7304, 0.6312], [0.6101, 0.5943], [0.5825, 0.5753], [0.5626, 0.5597], [0.5449, 0.5446], [0.5277, 0.5298], [0.5111, 0.5141], [0.4949, 0.4995], [0.4799, 0.4879], [0.4657, 0.4811], [0.4528, 0.4704], [0.4407, 0.4608], [0.429, 0.456], [0.418, 0.4373], [0.4075, 0.4298], [0.3976, 0.4236], [0.3883, 0.4193], [0.3797, 0.4145], [0.3714, 0.4051], [0.3631, 0.3985]]\n",
    "\n",
    "tra = [Atalanta[i][0] for i in range(0, len(Atalanta))]\n",
    "val = [Atalanta[i][1] for i in range(0, len(Atalanta))]\n",
    "\n",
    "tra_tot.append(tra)\n",
    "val_tot.append(val)"
   ]
  },
  {
   "cell_type": "code",
   "execution_count": 4,
   "id": "a210cd5a",
   "metadata": {},
   "outputs": [],
   "source": [
    "Bologna = [[0.8166, 0.6435], [0.629, 0.608], [0.5991, 0.5861], [0.5765, 0.5702], [0.5558, 0.5542], [0.5352, 0.5373], [0.515, 0.522], [0.4958, 0.507], [0.4782, 0.4921], [0.462, 0.4819], [0.4471, 0.4682], [0.4336, 0.4526], [0.421, 0.4411], [0.4097, 0.4287], [0.3989, 0.4207], [0.3888, 0.4129], [0.3794, 0.4065], [0.3708, 0.4027], [0.3632, 0.3993], [0.3562, 0.3977]]\n",
    "\n",
    "tra = [Bologna[i][0] for i in range(0, len(Bologna))]\n",
    "val = [Bologna[i][1] for i in range(0, len(Bologna))]\n",
    "\n",
    "tra_tot.append(tra)\n",
    "val_tot.append(val)"
   ]
  },
  {
   "cell_type": "code",
   "execution_count": 5,
   "id": "cf75f17d",
   "metadata": {},
   "outputs": [],
   "source": [
    "Brescia = [[0.7648, 0.6352], [0.6195, 0.598], [0.5859, 0.5763], [0.5611, 0.5566], [0.5394, 0.5356], [0.5191, 0.5185], [0.5, 0.5046], [0.4832, 0.5076], [0.4662, 0.4891], [0.4489, 0.477], [0.4332, 0.4651], [0.4189, 0.4483], [0.4058, 0.4396], [0.3945, 0.4204], [0.3846, 0.4154], [0.3748, 0.4135], [0.3655, 0.3992], [0.3573, 0.3936], [0.3489, 0.3844], [0.3412, 0.3781]]\n",
    "\n",
    "tra = [Brescia[i][0] for i in range(0, len(Brescia))]\n",
    "val = [Brescia[i][1] for i in range(0, len(Brescia))]\n",
    "\n",
    "tra_tot.append(tra)\n",
    "val_tot.append(val)"
   ]
  },
  {
   "cell_type": "code",
   "execution_count": 6,
   "id": "01d98455",
   "metadata": {},
   "outputs": [],
   "source": [
    "Cagliari = [[0.7688, 0.6231], [0.6089, 0.5847], [0.5779, 0.5626], [0.5548, 0.5447], [0.5339, 0.531], [0.5141, 0.517], [0.4953, 0.5041], [0.4773, 0.4918], [0.4605, 0.4766], [0.445, 0.4625], [0.4313, 0.4573], [0.4184, 0.4513], [0.4057, 0.4414], [0.3943, 0.4307], [0.3832, 0.4245], [0.373, 0.4083], [0.3639, 0.4004], [0.3558, 0.3952], [0.3486, 0.3929], [0.3421, 0.3918]]\n",
    "\n",
    "tra = [Cagliari[i][0] for i in range(0, len(Cagliari))]\n",
    "val = [Cagliari[i][1] for i in range(0, len(Cagliari))]\n",
    "\n",
    "tra_tot.append(tra)\n",
    "val_tot.append(val)"
   ]
  },
  {
   "cell_type": "code",
   "execution_count": 7,
   "id": "9b1e735d",
   "metadata": {},
   "outputs": [],
   "source": [
    "Fiorentina = [[0.7743, 0.655], [0.6173, 0.6168], [0.5796, 0.5915], [0.5537, 0.5719], [0.5317, 0.5495], [0.5109, 0.5256], [0.4914, 0.507], [0.4738, 0.4828], [0.4579, 0.4617], [0.4432, 0.4456], [0.43, 0.4342], [0.4178, 0.4304], [0.4051, 0.4186], [0.3934, 0.4099], [0.3831, 0.399], [0.373, 0.3912], [0.3641, 0.3808], [0.3556, 0.3756], [0.348, 0.3727], [0.3411, 0.3696]]\n",
    "\n",
    "tra = [Fiorentina[i][0] for i in range(0, len(Fiorentina))]\n",
    "val = [Fiorentina[i][1] for i in range(0, len(Fiorentina))]\n",
    "\n",
    "tra_tot.append(tra)\n",
    "val_tot.append(val)"
   ]
  },
  {
   "cell_type": "code",
   "execution_count": 8,
   "id": "da71fd6c",
   "metadata": {},
   "outputs": [],
   "source": [
    "Genoa = [[0.781, 0.6467], [0.6271, 0.6056], [0.5977, 0.5826], [0.5758, 0.5638], [0.5565, 0.5484], [0.5386, 0.5335], [0.5215, 0.5214], [0.5051, 0.5084], [0.4899, 0.4987], [0.4757, 0.5015], [0.4629, 0.4966], [0.4513, 0.483], [0.4395, 0.4755], [0.4281, 0.4618], [0.417, 0.4532], [0.4067, 0.4418], [0.3969, 0.4376], [0.3879, 0.4322], [0.3806, 0.4366], [0.3749, 0.4347]]\n",
    "\n",
    "tra = [Genoa[i][0] for i in range(0, len(Genoa))]\n",
    "val = [Genoa[i][1] for i in range(0, len(Genoa))]\n",
    "\n",
    "tra_tot.append(tra)\n",
    "val_tot.append(val)"
   ]
  },
  {
   "cell_type": "code",
   "execution_count": 9,
   "id": "0f0e6044",
   "metadata": {},
   "outputs": [],
   "source": [
    "Inter = [[0.7836, 0.6419], [0.6136, 0.5974], [0.5785, 0.5728], [0.5521, 0.549], [0.5291, 0.5255], [0.5083, 0.5079], [0.489, 0.4925], [0.4714, 0.4795], [0.4546, 0.4659], [0.4395, 0.4503], [0.425, 0.4362], [0.4115, 0.4247], [0.3988, 0.4132], [0.3873, 0.4052], [0.3764, 0.397], [0.3661, 0.3869], [0.3571, 0.3816], [0.3488, 0.3771], [0.3413, 0.3709], [0.3347, 0.3713]]\n",
    "\n",
    "tra = [Inter[i][0] for i in range(0, len(Inter))]\n",
    "val = [Inter[i][1] for i in range(0, len(Inter))]\n",
    "\n",
    "tra_tot.append(tra)\n",
    "val_tot.append(val)"
   ]
  },
  {
   "cell_type": "code",
   "execution_count": 10,
   "id": "562ce63c",
   "metadata": {},
   "outputs": [],
   "source": [
    "Juventus = [[0.7835, 0.6462], [0.6268, 0.606], [0.5936, 0.5805], [0.5683, 0.5578], [0.5463, 0.5359], [0.5257, 0.5193], [0.5076, 0.5044], [0.4901, 0.4932], [0.4728, 0.4831], [0.4574, 0.4723], [0.4429, 0.4627], [0.4295, 0.4551], [0.4176, 0.4533], [0.4064, 0.4455], [0.3965, 0.4443], [0.3873, 0.4419], [0.3791, 0.4325], [0.3719, 0.4159], [0.3634, 0.4089], [0.3547, 0.3979]]\n",
    "\n",
    "tra = [Juventus[i][0] for i in range(0, len(Juventus))]\n",
    "val = [Juventus[i][1] for i in range(0, len(Juventus))]\n",
    "\n",
    "tra_tot.append(tra)\n",
    "val_tot.append(val)"
   ]
  },
  {
   "cell_type": "code",
   "execution_count": 11,
   "id": "81cc19fa",
   "metadata": {},
   "outputs": [],
   "source": [
    "Lazio = [[0.7806, 0.6433], [0.6273, 0.6041], [0.5925, 0.5831], [0.5676, 0.5652], [0.5461, 0.5482], [0.5267, 0.5326], [0.5086, 0.5189], [0.4918, 0.5059], [0.4758, 0.4977], [0.4609, 0.4871], [0.4472, 0.48], [0.4346, 0.4727], [0.4232, 0.4649], [0.4133, 0.4646], [0.4036, 0.4523], [0.3957, 0.4348], [0.3876, 0.4214], [0.3799, 0.4145], [0.3714, 0.4122], [0.363, 0.4103]]\n",
    "\n",
    "tra = [Lazio[i][0] for i in range(0, len(Lazio))]\n",
    "val = [Lazio[i][1] for i in range(0, len(Lazio))]\n",
    "\n",
    "tra_tot.append(tra)\n",
    "val_tot.append(val)"
   ]
  },
  {
   "cell_type": "code",
   "execution_count": 12,
   "id": "71f90ff5",
   "metadata": {},
   "outputs": [],
   "source": [
    "Lecce = [[0.7539, 0.6241], [0.6075, 0.5892], [0.5787, 0.5662], [0.5568, 0.5472], [0.5363, 0.53], [0.5174, 0.5117], [0.4999, 0.498], [0.4836, 0.4848], [0.468, 0.4745], [0.4535, 0.4669], [0.4397, 0.4573], [0.4268, 0.4477], [0.4146, 0.4385], [0.4035, 0.4307], [0.3938, 0.422], [0.3851, 0.4167], [0.3771, 0.4053], [0.3689, 0.395], [0.3605, 0.3873], [0.3527, 0.3796]]\n",
    "\n",
    "tra = [Lecce[i][0] for i in range(0, len(Lecce))]\n",
    "val = [Lecce[i][1] for i in range(0, len(Lecce))]\n",
    "\n",
    "tra_tot.append(tra)\n",
    "val_tot.append(val)"
   ]
  },
  {
   "cell_type": "code",
   "execution_count": 13,
   "id": "2a097d21",
   "metadata": {},
   "outputs": [],
   "source": [
    "Milan = [[0.7588, 0.6333], [0.6163, 0.592], [0.5841, 0.5673], [0.5602, 0.5441], [0.5381, 0.5243], [0.5165, 0.5095], [0.4962, 0.4918], [0.4773, 0.4764], [0.46, 0.461], [0.4443, 0.4499], [0.4298, 0.4394], [0.4167, 0.432], [0.4043, 0.4215], [0.3933, 0.4115], [0.3835, 0.398], [0.374, 0.3903], [0.3651, 0.3875], [0.3572, 0.386], [0.3494, 0.383], [0.3415, 0.3836]]\n",
    "\n",
    "tra = [Milan[i][0] for i in range(0, len(Milan))]\n",
    "val = [Milan[i][1] for i in range(0, len(Milan))]\n",
    "\n",
    "tra_tot.append(tra)\n",
    "val_tot.append(val)"
   ]
  },
  {
   "cell_type": "code",
   "execution_count": 14,
   "id": "e17ee6ce",
   "metadata": {},
   "outputs": [],
   "source": [
    "Napoli = [[0.7557, 0.625], [0.6103, 0.5912], [0.5817, 0.5709], [0.5616, 0.5561], [0.5445, 0.543], [0.5287, 0.5268], [0.514, 0.5124], [0.4989, 0.5051], [0.4843, 0.4963], [0.4699, 0.4857], [0.4563, 0.4754], [0.4439, 0.4648], [0.4321, 0.4536], [0.4217, 0.4475], [0.4118, 0.4436], [0.4028, 0.436], [0.3939, 0.4228], [0.3858, 0.4155], [0.377, 0.4122], [0.3691, 0.4063]]\n",
    "\n",
    "tra = [Napoli[i][0] for i in range(0, len(Napoli))]\n",
    "val = [Napoli[i][1] for i in range(0, len(Napoli))]\n",
    "\n",
    "tra_tot.append(tra)\n",
    "val_tot.append(val)"
   ]
  },
  {
   "cell_type": "code",
   "execution_count": 15,
   "id": "cb3b52b2",
   "metadata": {},
   "outputs": [],
   "source": [
    "Parma = [[0.7498, 0.628], [0.6052, 0.5927], [0.5746, 0.5713], [0.553, 0.5541], [0.5339, 0.5411], [0.5156, 0.5246], [0.4985, 0.5178], [0.4819, 0.5064], [0.4663, 0.4901], [0.4513, 0.4806], [0.4377, 0.469], [0.4254, 0.4667], [0.4145, 0.4638], [0.4047, 0.4363], [0.394, 0.4268], [0.3839, 0.419], [0.3747, 0.4141], [0.3657, 0.4059], [0.3577, 0.398], [0.3503, 0.3937]]\n",
    "\n",
    "\n",
    "tra = [Parma[i][0] for i in range(0, len(Parma))]\n",
    "val = [Parma[i][1] for i in range(0, len(Parma))]\n",
    "\n",
    "tra_tot.append(tra)\n",
    "val_tot.append(val)"
   ]
  },
  {
   "cell_type": "code",
   "execution_count": 16,
   "id": "b803e55f",
   "metadata": {},
   "outputs": [],
   "source": [
    "Roma = [[0.7777, 0.6519], [0.6175, 0.6026], [0.5868, 0.5765], [0.5642, 0.5599], [0.5444, 0.5462], [0.5258, 0.5308], [0.5079, 0.5156], [0.491, 0.5007], [0.4749, 0.4855], [0.4598, 0.4713], [0.446, 0.4592], [0.4333, 0.4478], [0.4214, 0.4344], [0.411, 0.4257], [0.4019, 0.4182], [0.3931, 0.4163], [0.3846, 0.4107], [0.3765, 0.4074], [0.3685, 0.4038], [0.3612, 0.3997]]\n",
    "\n",
    "tra = [Roma[i][0] for i in range(0, len(Roma))]\n",
    "val = [Roma[i][1] for i in range(0, len(Roma))]\n",
    "\n",
    "tra_tot.append(tra)\n",
    "val_tot.append(val)"
   ]
  },
  {
   "cell_type": "code",
   "execution_count": 17,
   "id": "297fc47e",
   "metadata": {},
   "outputs": [],
   "source": [
    "Sampdoria = [[0.749, 0.6378], [0.6092, 0.6], [0.5776, 0.5743], [0.5534, 0.5539], [0.5313, 0.5353], [0.5102, 0.52], [0.4908, 0.5063], [0.4725, 0.49], [0.4557, 0.4745], [0.4407, 0.4571], [0.4264, 0.4425], [0.4134, 0.4319], [0.4016, 0.4202], [0.3908, 0.4114], [0.3802, 0.4051], [0.3708, 0.3987], [0.3613, 0.395], [0.353, 0.3878], [0.3452, 0.3833], [0.3378, 0.3716]]\n",
    "\n",
    "tra = [Sampdoria[i][0] for i in range(0, len(Sampdoria))]\n",
    "val = [Sampdoria[i][1] for i in range(0, len(Sampdoria))]\n",
    "\n",
    "tra_tot.append(tra)\n",
    "val_tot.append(val)"
   ]
  },
  {
   "cell_type": "code",
   "execution_count": 18,
   "id": "6dd86a01",
   "metadata": {},
   "outputs": [],
   "source": [
    "Sassuolo = [[0.7778, 0.6365], [0.6201, 0.5975], [0.5866, 0.577], [0.5631, 0.5598], [0.5427, 0.5464], [0.5237, 0.5275], [0.5056, 0.5122], [0.4889, 0.4976], [0.4729, 0.4843], [0.4586, 0.4683], [0.4459, 0.4544], [0.4348, 0.4434], [0.4237, 0.4353], [0.4123, 0.4237], [0.4018, 0.4175], [0.3922, 0.4097], [0.3828, 0.4015], [0.3744, 0.395], [0.3669, 0.3919], [0.3601, 0.386]]\n",
    "\n",
    "tra = [Sassuolo[i][0] for i in range(0, len(Sassuolo))]\n",
    "val = [Sassuolo[i][1] for i in range(0, len(Sassuolo))]\n",
    "\n",
    "tra_tot.append(tra)\n",
    "val_tot.append(val)"
   ]
  },
  {
   "cell_type": "code",
   "execution_count": 19,
   "id": "7efd033f",
   "metadata": {},
   "outputs": [],
   "source": [
    "Spal = [[0.7559, 0.6182], [0.5998, 0.5817], [0.5637, 0.557], [0.5362, 0.5318], [0.5113, 0.5103], [0.4894, 0.4881], [0.4696, 0.4753], [0.4518, 0.4686], [0.4356, 0.4636], [0.4206, 0.4505], [0.4066, 0.4392], [0.394, 0.4241], [0.382, 0.4163], [0.3713, 0.4042], [0.3614, 0.3923], [0.3523, 0.3841], [0.3442, 0.3722], [0.3365, 0.3654], [0.3294, 0.3583], [0.3233, 0.3516]]\n",
    "\n",
    "tra = [Spal[i][0] for i in range(0, len(Spal))]\n",
    "val = [Spal[i][1] for i in range(0, len(Spal))]\n",
    "\n",
    "tra_tot.append(tra)\n",
    "val_tot.append(val)"
   ]
  },
  {
   "cell_type": "code",
   "execution_count": 20,
   "id": "a0764ba7",
   "metadata": {},
   "outputs": [],
   "source": [
    "Torino = [[0.7326, 0.6109], [0.5909, 0.5725], [0.5542, 0.5416], [0.5239, 0.5145], [0.4969, 0.4904], [0.4724, 0.4694], [0.4502, 0.4512], [0.4304, 0.4343], [0.4124, 0.4203], [0.3965, 0.409], [0.3824, 0.4026], [0.3699, 0.3958], [0.3588, 0.3907], [0.3488, 0.3816], [0.3397, 0.3736], [0.3317, 0.3738], [0.3245, 0.3718], [0.3178, 0.3689], [0.3104, 0.3655], [0.304, 0.362]]\n",
    "\n",
    "tra = [Torino[i][0] for i in range(0, len(Torino))]\n",
    "val = [Torino[i][1] for i in range(0, len(Torino))]\n",
    "\n",
    "tra_tot.append(tra)\n",
    "val_tot.append(val)"
   ]
  },
  {
   "cell_type": "code",
   "execution_count": 21,
   "id": "90d60119",
   "metadata": {},
   "outputs": [],
   "source": [
    "Udinese = [[0.7841, 0.641], [0.6116, 0.6064], [0.5777, 0.5836], [0.5516, 0.5638], [0.5282, 0.5405], [0.5065, 0.5243], [0.4873, 0.5106], [0.4697, 0.4925], [0.4528, 0.4786], [0.4372, 0.4659], [0.4234, 0.4562], [0.4109, 0.4449], [0.3994, 0.4293], [0.3891, 0.4118], [0.3794, 0.4025], [0.3704, 0.4058], [0.3621, 0.4029], [0.3546, 0.3963], [0.3472, 0.3872], [0.3406, 0.3793]]\n",
    "\n",
    "tra = [Udinese[i][0] for i in range(0, len(Udinese))]\n",
    "val = [Udinese[i][1] for i in range(0, len(Udinese))]\n",
    "\n",
    "tra_tot.append(tra)\n",
    "val_tot.append(val)"
   ]
  },
  {
   "cell_type": "code",
   "execution_count": 22,
   "id": "183e19f7",
   "metadata": {},
   "outputs": [],
   "source": [
    "Verona = [[0.7734, 0.6398], [0.6081, 0.5927], [0.5726, 0.5669], [0.5469, 0.5467], [0.5241, 0.5247], [0.5024, 0.5074], [0.4821, 0.4894], [0.4634, 0.4777], [0.4459, 0.4667], [0.4296, 0.452], [0.4147, 0.4431], [0.401, 0.4311], [0.3885, 0.4219], [0.3773, 0.4082], [0.367, 0.3973], [0.3579, 0.3883], [0.3494, 0.3795], [0.3411, 0.373], [0.3339, 0.3709], [0.3274, 0.3667]]\n",
    "tra = [Verona[i][0] for i in range(0, len(Verona))]\n",
    "val = [Verona[i][1] for i in range(0, len(Verona))]\n",
    "\n",
    "tra_tot.append(tra)\n",
    "val_tot.append(val)"
   ]
  },
  {
   "cell_type": "code",
   "execution_count": 23,
   "id": "a347f38d",
   "metadata": {},
   "outputs": [],
   "source": [
    "all_tra = np.zeros((20, 20))\n",
    "\n",
    "for j in range(0, 20):\n",
    "    all_tra[j] = [tra_tot[i][j] for i in range(0, len(tra_tot))]\n",
    "    \n",
    "all_val = np.zeros((20, 20))\n",
    "\n",
    "for j in range(0, 20):\n",
    "    all_val[j] = [val_tot[i][j] for i in range(0, len(val_tot))]"
   ]
  },
  {
   "cell_type": "code",
   "execution_count": 26,
   "id": "32a745a8",
   "metadata": {},
   "outputs": [
    {
     "data": {
      "image/png": "[encoded data removed]",
      "text/plain": [
       "<Figure size 1440x720 with 1 Axes>"
      ]
     },
     "metadata": {
      "needs_background": "light"
     },
     "output_type": "display_data"
    }
   ],
   "source": [
    "from matplotlib import pyplot as plt\n",
    "from matplotlib.pyplot import figure\n",
    "\n",
    "\n",
    "\n",
    "\n",
    "x = epo_tot\n",
    "y_val = np.mean(all_val, axis = 1)\n",
    "y_tra = np.mean(all_tra, axis = 1)\n",
    "\n",
    "\n",
    "ci_tra = np.std(all_tra, axis = 1) \n",
    "ci_val = np.std(all_val, axis = 1)\n",
    "\n",
    "fig, ax = plt.subplots(figsize=(20, 10))\n",
    "\n",
    "ax.set_xticks(x, minor=False)\n",
    "\n",
    "\n",
    "line1 = ax.plot(x,y_tra, label='Training')\n",
    "ax.fill_between(x, (y_tra-ci_tra), (y_tra+ci_tra), color='b', alpha=.1)\n",
    "\n",
    "line2 = ax.plot(x,y_val, label='Validation')\n",
    "ax.fill_between(x, (y_val-ci_val), (y_val+ci_val), color='r', alpha=.1)\n",
    "\n",
    "handles, labels = ax.get_legend_handles_labels()\n",
    "\n",
    "ax.set_ylabel('RMSE', fontsize=18)\n",
    "ax.set_xlabel('Epochs', fontsize=18)\n",
    "ax.legend(fontsize=18)\n",
    "plt.grid()\n",
    "plt.show()"
   ]
  },
  {
   "cell_type": "code",
   "execution_count": 25,
   "id": "1b2ac99b",
   "metadata": {},
   "outputs": [
    {
     "name": "stdout",
     "output_type": "stream",
     "text": [
      "The training result is: 0.347 +/- 0.0166\n",
      "The validation result is: 0.3865 +/- 0.0188\n"
     ]
    }
   ],
   "source": [
    "print(f'The training result is: {np.round(np.mean(all_tra, axis = 1)[-1], 4)} +/- {np.round(np.std(all_tra, axis = 1)[-1], 4)}')\n",
    "print(f'The validation result is: {np.round(np.mean(all_val, axis = 1)[-1], 4)} +/- {np.round(np.std(all_val, axis = 1)[-1], 4)}')\n"
   ]
  },
  {
   "cell_type": "code",
   "execution_count": 29,
   "id": "49f90f10",
   "metadata": {},
   "outputs": [
    {
     "data": {
      "text/plain": [
       "array([0.7676, 0.6138, 0.5813, 0.5572, 0.5358, 0.5157, 0.4971, 0.4796,\n",
       "       0.4632, 0.448 , 0.4341, 0.4213, 0.4093, 0.3984, 0.3883, 0.3789,\n",
       "       0.3701, 0.362 , 0.3541, 0.347 ])"
      ]
     },
     "execution_count": 29,
     "metadata": {},
     "output_type": "execute_result"
    }
   ],
   "source": [
    "np.round(np.mean(all_tra, axis = 1), 4)"
   ]
  },
  {
   "cell_type": "code",
   "execution_count": 31,
   "id": "945bc16f",
   "metadata": {},
   "outputs": [
    {
     "data": {
      "text/plain": [
       "array([0.0195, 0.0095, 0.0104, 0.012 , 0.0137, 0.0151, 0.0162, 0.0169,\n",
       "       0.0175, 0.0178, 0.0181, 0.0183, 0.0183, 0.0182, 0.018 , 0.0179,\n",
       "       0.0175, 0.0172, 0.017 , 0.0166])"
      ]
     },
     "execution_count": 31,
     "metadata": {},
     "output_type": "execute_result"
    }
   ],
   "source": [
    "np.round(np.std(all_tra, axis = 1), 4)"
   ]
  },
  {
   "cell_type": "code",
   "execution_count": 30,
   "id": "8a7ee60e",
   "metadata": {},
   "outputs": [
    {
     "data": {
      "text/plain": [
       "array([0.6356, 0.5967, 0.5732, 0.5535, 0.5353, 0.5181, 0.5035, 0.4905,\n",
       "       0.4774, 0.4658, 0.4554, 0.4455, 0.4365, 0.4248, 0.4167, 0.4097,\n",
       "       0.4021, 0.3959, 0.3912, 0.3865])"
      ]
     },
     "execution_count": 30,
     "metadata": {},
     "output_type": "execute_result"
    }
   ],
   "source": [
    "np.round(np.mean(all_val, axis = 1), 4)"
   ]
  },
  {
   "cell_type": "code",
   "execution_count": 32,
   "id": "8680fd3d",
   "metadata": {},
   "outputs": [
    {
     "data": {
      "text/plain": [
       "array([0.0112, 0.01  , 0.0109, 0.013 , 0.0148, 0.0159, 0.0167, 0.0174,\n",
       "       0.0176, 0.0196, 0.0199, 0.0194, 0.0203, 0.02  , 0.0208, 0.0194,\n",
       "       0.0187, 0.0176, 0.0185, 0.0188])"
      ]
     },
     "execution_count": 32,
     "metadata": {},
     "output_type": "execute_result"
    }
   ],
   "source": [
    "np.round(np.std(all_val, axis = 1), 4)"
   ]
  },
  {
   "cell_type": "code",
   "execution_count": null,
   "id": "9b1428e4",
   "metadata": {},
   "outputs": [],
   "source": []
  }
 ],
 "metadata": {
  "kernelspec": {
   "display_name": "Python 3 (ipykernel)",
   "language": "python",
   "name": "python3"
  },
  "language_info": {
   "codemirror_mode": {
    "name": "ipython",
    "version": 3
   },
   "file_extension": ".py",
   "mimetype": "text/x-python",
   "name": "python",
   "nbconvert_exporter": "python",
   "pygments_lexer": "ipython3",
   "version": "3.7.4"
  }
 },
 "nbformat": 4,
 "nbformat_minor": 5
}
