{
 "cells": [
  {
   "cell_type": "code",
   "execution_count": 1,
   "id": "081d3fa0",
   "metadata": {},
   "outputs": [],
   "source": [
    "import numpy as np\n",
    "import plotly.express as px"
   ]
  },
  {
   "cell_type": "code",
   "execution_count": 2,
   "id": "b40e82cf",
   "metadata": {},
   "outputs": [],
   "source": [
    "epo_tot = [i for i in range(0, 30)]\n",
    "tra_tot = []\n",
    "val_tot = []"
   ]
  },
  {
   "cell_type": "code",
   "execution_count": 3,
   "id": "27860353",
   "metadata": {},
   "outputs": [],
   "source": [
    "Atalanta = [[0.8528, 0.6646], [0.6539, 0.6454], [0.6409, 0.6365], [0.6324, 0.6286], [0.6254, 0.621], [0.6188, 0.6147], [0.6144, 0.6111], [0.6116, 0.6085], [0.6094, 0.6065], [0.6077, 0.6049], [0.6063, 0.6035], [0.6049, 0.6023], [0.6036, 0.601], [0.6022, 0.5999], [0.6008, 0.5984], [0.5995, 0.597], [0.5982, 0.5958], [0.597, 0.5948], [0.596, 0.5938], [0.595, 0.5928], [0.5942, 0.592], [0.5935, 0.5914], [0.5929, 0.5909], [0.5923, 0.5903], [0.5917, 0.5898], [0.5912, 0.5893], [0.5907, 0.5889], [0.5902, 0.5885], [0.5898, 0.5879], [0.5894, 0.5873]]\n",
    "\n",
    "tra = [Atalanta[i][0] for i in range(0, len(Atalanta))]\n",
    "val = [Atalanta[i][1] for i in range(0, len(Atalanta))]\n",
    "\n",
    "tra_tot.append(tra)\n",
    "val_tot.append(val)"
   ]
  },
  {
   "cell_type": "code",
   "execution_count": 4,
   "id": "a210cd5a",
   "metadata": {},
   "outputs": [],
   "source": [
    "Bologna = [[0.9138, 0.6957], [0.6784, 0.6624], [0.6569, 0.6475], [0.6446, 0.6371], [0.6355, 0.6286], [0.6278, 0.6221], [0.6225, 0.6177], [0.6184, 0.6143], [0.6152, 0.6115], [0.6126, 0.6091], [0.6104, 0.607], [0.6085, 0.6051], [0.6068, 0.6035], [0.6053, 0.6021], [0.604, 0.6009], [0.6028, 0.5995], [0.6017, 0.5982], [0.6007, 0.5973], [0.5998, 0.5967], [0.5991, 0.5965], [0.5983, 0.5959], [0.5976, 0.595], [0.597, 0.5943], [0.5964, 0.5936], [0.5958, 0.593], [0.5953, 0.5924], [0.5948, 0.5919], [0.5943, 0.5914], [0.5939, 0.591], [0.5934, 0.5906]]\n",
    "\n",
    "tra = [Bologna[i][0] for i in range(0, len(Bologna))]\n",
    "val = [Bologna[i][1] for i in range(0, len(Bologna))]\n",
    "\n",
    "tra_tot.append(tra)\n",
    "val_tot.append(val)"
   ]
  },
  {
   "cell_type": "code",
   "execution_count": 5,
   "id": "cf75f17d",
   "metadata": {},
   "outputs": [],
   "source": [
    "Brescia = [[0.8927, 0.6994], [0.6789, 0.6688], [0.6555, 0.6506], [0.6424, 0.6404], [0.6332, 0.6317], [0.6268, 0.6259], [0.6222, 0.6215], [0.6184, 0.6181], [0.6152, 0.6152], [0.6126, 0.6129], [0.6105, 0.6111], [0.6087, 0.6095], [0.6071, 0.6083], [0.6057, 0.6077], [0.6045, 0.6077], [0.6034, 0.607], [0.6025, 0.6055], [0.6016, 0.6044], [0.6009, 0.6037], [0.6001, 0.603], [0.5995, 0.6023], [0.5989, 0.6015], [0.5984, 0.6011], [0.5979, 0.6004], [0.5974, 0.6001], [0.5969, 0.5999], [0.5964, 0.5996], [0.596, 0.5994], [0.5956, 0.5991], [0.5953, 0.5989]]\n",
    "\n",
    "tra = [Brescia[i][0] for i in range(0, len(Brescia))]\n",
    "val = [Brescia[i][1] for i in range(0, len(Brescia))]\n",
    "\n",
    "tra_tot.append(tra)\n",
    "val_tot.append(val)"
   ]
  },
  {
   "cell_type": "code",
   "execution_count": 6,
   "id": "fd502ccc",
   "metadata": {},
   "outputs": [],
   "source": [
    "Cagliari = [[0.9201, 0.6966], [0.6765, 0.6669], [0.6548, 0.6512], [0.6429, 0.6396], [0.6343, 0.6307], [0.6268, 0.6222], [0.6198, 0.6154], [0.615, 0.6114], [0.6114, 0.6083], [0.6086, 0.6058], [0.6061, 0.6037], [0.604, 0.6019], [0.6022, 0.6003], [0.6006, 0.5989], [0.5991, 0.5977], [0.5978, 0.5966], [0.5967, 0.5958], [0.5957, 0.5951], [0.5948, 0.5945], [0.594, 0.5938], [0.5933, 0.5928], [0.5926, 0.592], [0.5919, 0.5913], [0.5912, 0.5907], [0.5905, 0.5901], [0.5899, 0.5896], [0.5894, 0.5891], [0.5889, 0.5886], [0.5885, 0.5882], [0.5881, 0.5879]]\n",
    "\n",
    "tra = [Cagliari[i][0] for i in range(0, len(Cagliari))]\n",
    "val = [Cagliari[i][1] for i in range(0, len(Cagliari))]\n",
    "\n",
    "tra_tot.append(tra)\n",
    "val_tot.append(val)"
   ]
  },
  {
   "cell_type": "code",
   "execution_count": 7,
   "id": "3ac0094e",
   "metadata": {},
   "outputs": [],
   "source": [
    "Fiorentina = [[0.9053, 0.6956], [0.6753, 0.667], [0.6521, 0.6512], [0.6371, 0.6377], [0.6258, 0.6282], [0.6187, 0.6224], [0.6138, 0.6181], [0.6101, 0.6145], [0.6071, 0.6114], [0.6046, 0.6088], [0.6023, 0.6064], [0.6003, 0.6043], [0.5986, 0.6025], [0.597, 0.6009], [0.5955, 0.5995], [0.5943, 0.5983], [0.5932, 0.5972], [0.5922, 0.5962], [0.5913, 0.5953], [0.5905, 0.5945], [0.5897, 0.5938], [0.589, 0.5931], [0.5884, 0.5925], [0.5878, 0.5919], [0.5873, 0.5915], [0.5868, 0.5911], [0.5863, 0.5907], [0.5859, 0.5903], [0.5854, 0.5899], [0.585, 0.5895]]\n",
    "\n",
    "tra = [Fiorentina[i][0] for i in range(0, len(Fiorentina))]\n",
    "val = [Fiorentina[i][1] for i in range(0, len(Fiorentina))]\n",
    "\n",
    "tra_tot.append(tra)\n",
    "val_tot.append(val)"
   ]
  },
  {
   "cell_type": "code",
   "execution_count": 8,
   "id": "a2f6666c",
   "metadata": {},
   "outputs": [],
   "source": [
    "Genoa = [[0.9232, 0.7192], [0.6874, 0.681], [0.6646, 0.6634], [0.6517, 0.6529], [0.6428, 0.6441], [0.6355, 0.636], [0.6282, 0.6293], [0.6233, 0.6249], [0.6199, 0.6218], [0.6172, 0.6195], [0.615, 0.6178], [0.613, 0.6165], [0.6113, 0.6153], [0.6098, 0.6143], [0.6084, 0.6133], [0.607, 0.6121], [0.6058, 0.611], [0.6046, 0.6101], [0.6035, 0.6096], [0.6025, 0.6088], [0.6016, 0.6083], [0.6007, 0.6071], [0.5999, 0.6059], [0.5991, 0.6049], [0.5984, 0.6041], [0.5977, 0.6033], [0.5971, 0.6026], [0.5965, 0.602], [0.596, 0.6015], [0.5955, 0.601]]\n",
    "\n",
    "tra = [Genoa[i][0] for i in range(0, len(Genoa))]\n",
    "val = [Genoa[i][1] for i in range(0, len(Genoa))]\n",
    "\n",
    "tra_tot.append(tra)\n",
    "val_tot.append(val)"
   ]
  },
  {
   "cell_type": "code",
   "execution_count": 9,
   "id": "b75da6b9",
   "metadata": {},
   "outputs": [],
   "source": [
    "Inter = [[0.9159, 0.7106], [0.6785, 0.6743], [0.6538, 0.6549], [0.6399, 0.644], [0.632, 0.6374], [0.6263, 0.6319], [0.6205, 0.6257], [0.6142, 0.6198], [0.6095, 0.6159], [0.6062, 0.6129], [0.6036, 0.6103], [0.6014, 0.6082], [0.5996, 0.6064], [0.598, 0.6048], [0.5967, 0.6037], [0.5955, 0.6027], [0.5944, 0.6015], [0.5934, 0.6004], [0.5925, 0.5993], [0.5916, 0.5983], [0.5908, 0.5975], [0.5901, 0.5967], [0.5894, 0.5962], [0.5887, 0.5956], [0.5881, 0.5949], [0.5875, 0.5943], [0.587, 0.5939], [0.5865, 0.5936], [0.5861, 0.5933], [0.5857, 0.593]]\n",
    "\n",
    "tra = [Inter[i][0] for i in range(0, len(Inter))]\n",
    "val = [Inter[i][1] for i in range(0, len(Inter))]\n",
    "\n",
    "tra_tot.append(tra)\n",
    "val_tot.append(val)"
   ]
  },
  {
   "cell_type": "code",
   "execution_count": 10,
   "id": "898c505a",
   "metadata": {},
   "outputs": [],
   "source": [
    "Juventus = [[0.9151, 0.7021], [0.6798, 0.6735], [0.6578, 0.6612], [0.6462, 0.6515], [0.6378, 0.6413], [0.6316, 0.6343], [0.627, 0.6299], [0.6233, 0.6267], [0.6203, 0.6242], [0.6178, 0.6221], [0.6156, 0.6202], [0.6138, 0.6183], [0.6122, 0.6165], [0.6108, 0.6147], [0.6095, 0.6129], [0.6083, 0.6115], [0.6072, 0.6106], [0.6062, 0.61], [0.6052, 0.6096], [0.6043, 0.6092], [0.6035, 0.6087], [0.6027, 0.6082], [0.6019, 0.6072], [0.6012, 0.606], [0.6005, 0.6048], [0.5999, 0.6038], [0.5992, 0.6029], [0.5986, 0.6022], [0.5981, 0.6015], [0.5975, 0.6008]]\n",
    "\n",
    "tra = [Juventus[i][0] for i in range(0, len(Juventus))]\n",
    "val = [Juventus[i][1] for i in range(0, len(Juventus))]\n",
    "\n",
    "tra_tot.append(tra)\n",
    "val_tot.append(val)"
   ]
  },
  {
   "cell_type": "code",
   "execution_count": 11,
   "id": "de800207",
   "metadata": {},
   "outputs": [],
   "source": [
    "Lazio = [[0.9163, 0.7033], [0.6846, 0.669], [0.6602, 0.6513], [0.6464, 0.64], [0.6374, 0.6315], [0.6303, 0.6245], [0.6241, 0.6193], [0.6197, 0.6158], [0.6165, 0.6132], [0.6141, 0.6111], [0.612, 0.6092], [0.6102, 0.6074], [0.6087, 0.6058], [0.6072, 0.6044], [0.6059, 0.6031], [0.6047, 0.602], [0.6036, 0.6009], [0.6026, 0.5999], [0.6016, 0.5992], [0.6007, 0.5986], [0.5998, 0.5978], [0.599, 0.597], [0.5982, 0.5963], [0.5975, 0.5956], [0.5968, 0.5949], [0.5962, 0.5944], [0.5955, 0.5938], [0.595, 0.5933], [0.5944, 0.5928], [0.5939, 0.5924]]\n",
    "\n",
    "tra = [Lazio[i][0] for i in range(0, len(Lazio))]\n",
    "val = [Lazio[i][1] for i in range(0, len(Lazio))]\n",
    "\n",
    "tra_tot.append(tra)\n",
    "val_tot.append(val)"
   ]
  },
  {
   "cell_type": "code",
   "execution_count": 12,
   "id": "25820463",
   "metadata": {},
   "outputs": [],
   "source": [
    "Lecce = [[0.9003, 0.6867], [0.6677, 0.653], [0.6435, 0.6368], [0.6303, 0.6264], [0.6216, 0.6181], [0.615, 0.6117], [0.6091, 0.606], [0.6043, 0.602], [0.6009, 0.5995], [0.5985, 0.5975], [0.5966, 0.5959], [0.595, 0.5945], [0.5936, 0.5933], [0.5923, 0.5922], [0.5912, 0.5912], [0.5902, 0.5903], [0.5892, 0.5895], [0.5883, 0.5888], [0.5874, 0.5882], [0.5866, 0.5877], [0.5859, 0.5873], [0.5852, 0.5867], [0.5845, 0.5858], [0.5839, 0.585], [0.5834, 0.5844], [0.5829, 0.5839], [0.5823, 0.5839], [0.5818, 0.5841], [0.5814, 0.5844], [0.5809, 0.5843]]\n",
    "\n",
    "tra = [Lecce[i][0] for i in range(0, len(Lecce))]\n",
    "val = [Lecce[i][1] for i in range(0, len(Lecce))]\n",
    "\n",
    "tra_tot.append(tra)\n",
    "val_tot.append(val)"
   ]
  },
  {
   "cell_type": "code",
   "execution_count": 13,
   "id": "7d3424e0",
   "metadata": {},
   "outputs": [],
   "source": [
    "Milan = [[0.9188, 0.7009], [0.6824, 0.6745], [0.6602, 0.6571], [0.6467, 0.6454], [0.6364, 0.6355], [0.6274, 0.6272], [0.6212, 0.6222], [0.6173, 0.6184], [0.6144, 0.6155], [0.612, 0.6133], [0.6101, 0.6116], [0.6083, 0.6103], [0.6068, 0.6095], [0.6054, 0.609], [0.6041, 0.6087], [0.603, 0.6066], [0.602, 0.6016], [0.601, 0.5999], [0.6, 0.5991], [0.5992, 0.5984], [0.5984, 0.5977], [0.5977, 0.597], [0.597, 0.5962], [0.5964, 0.5956], [0.5958, 0.5952], [0.5952, 0.5947], [0.5946, 0.5942], [0.5941, 0.5938], [0.5936, 0.5933], [0.5931, 0.5928]]\n",
    "\n",
    "tra = [Milan[i][0] for i in range(0, len(Milan))]\n",
    "val = [Milan[i][1] for i in range(0, len(Milan))]\n",
    "\n",
    "tra_tot.append(tra)\n",
    "val_tot.append(val)"
   ]
  },
  {
   "cell_type": "code",
   "execution_count": 14,
   "id": "c62814cf",
   "metadata": {},
   "outputs": [],
   "source": [
    "Napoli = [[0.8999, 0.6889], [0.6669, 0.6557], [0.6447, 0.6381], [0.6322, 0.6269], [0.6234, 0.6191], [0.6175, 0.6135], [0.6131, 0.6091], [0.6094, 0.6053], [0.6063, 0.6021], [0.6036, 0.5995], [0.6013, 0.5973], [0.5992, 0.5955], [0.5974, 0.594], [0.5959, 0.5928], [0.5945, 0.5919], [0.5933, 0.5912], [0.5922, 0.5904], [0.5912, 0.5896], [0.5903, 0.5888], [0.5894, 0.588], [0.5887, 0.5873], [0.588, 0.5866], [0.5874, 0.5861], [0.5868, 0.5857], [0.5863, 0.5854], [0.5858, 0.5851], [0.5853, 0.5848], [0.5849, 0.5846], [0.5845, 0.5842], [0.5841, 0.5838]]\n",
    "\n",
    "tra = [Napoli[i][0] for i in range(0, len(Napoli))]\n",
    "val = [Napoli[i][1] for i in range(0, len(Napoli))]\n",
    "\n",
    "tra_tot.append(tra)\n",
    "val_tot.append(val)"
   ]
  },
  {
   "cell_type": "code",
   "execution_count": 15,
   "id": "9d5130ce",
   "metadata": {},
   "outputs": [],
   "source": [
    "Parma = [[0.9227, 0.6982], [0.677, 0.6634], [0.6522, 0.6467], [0.6363, 0.6324], [0.6244, 0.6199], [0.616, 0.6129], [0.6105, 0.6079], [0.6063, 0.604], [0.603, 0.6009], [0.6003, 0.5983], [0.5982, 0.596], [0.5963, 0.5942], [0.5948, 0.5925], [0.5934, 0.5911], [0.5922, 0.5897], [0.5911, 0.5885], [0.5902, 0.5875], [0.5894, 0.5866], [0.5886, 0.5859], [0.588, 0.5854], [0.5874, 0.5849], [0.5868, 0.585], [0.5863, 0.5852], [0.5859, 0.5854], [0.5855, 0.5858], [0.5851, 0.5858], [0.5847, 0.5854], [0.5843, 0.5849], [0.584, 0.5845], [0.5837, 0.584]]\n",
    "\n",
    "tra = [Parma[i][0] for i in range(0, len(Parma))]\n",
    "val = [Parma[i][1] for i in range(0, len(Parma))]\n",
    "\n",
    "tra_tot.append(tra)\n",
    "val_tot.append(val)"
   ]
  },
  {
   "cell_type": "code",
   "execution_count": 16,
   "id": "9b40dd0b",
   "metadata": {},
   "outputs": [],
   "source": [
    "Roma = [[0.9044, 0.6835], [0.674, 0.6547], [0.6511, 0.6395], [0.6388, 0.6303], [0.6298, 0.6233], [0.6223, 0.6182], [0.6168, 0.6148], [0.6131, 0.6123], [0.6103, 0.6102], [0.6081, 0.6083], [0.6061, 0.6064], [0.6045, 0.6048], [0.603, 0.6035], [0.6016, 0.6023], [0.6004, 0.6012], [0.5992, 0.6001], [0.5982, 0.5991], [0.5972, 0.598], [0.5962, 0.5969], [0.5953, 0.5959], [0.5945, 0.5951], [0.5937, 0.5946], [0.5929, 0.5945], [0.5921, 0.5937], [0.5914, 0.5926], [0.5908, 0.5917], [0.5902, 0.5907], [0.5897, 0.5899], [0.5892, 0.5894], [0.5888, 0.5892]]\n",
    "\n",
    "tra = [Roma[i][0] for i in range(0, len(Roma))]\n",
    "val = [Roma[i][1] for i in range(0, len(Roma))]\n",
    "\n",
    "tra_tot.append(tra)\n",
    "val_tot.append(val)"
   ]
  },
  {
   "cell_type": "code",
   "execution_count": 17,
   "id": "75fb6d4a",
   "metadata": {},
   "outputs": [],
   "source": [
    "Sampdoria = [[0.9094, 0.6951], [0.6739, 0.6606], [0.6516, 0.6455], [0.6389, 0.6355], [0.6305, 0.6286], [0.6242, 0.623], [0.6187, 0.618], [0.6138, 0.6138], [0.6103, 0.6108], [0.6078, 0.6083], [0.6057, 0.6063], [0.604, 0.6046], [0.6024, 0.6031], [0.6011, 0.6018], [0.5999, 0.6007], [0.5988, 0.5996], [0.5977, 0.5987], [0.5966, 0.5979], [0.5957, 0.5971], [0.5948, 0.5963], [0.594, 0.5955], [0.5932, 0.5948], [0.5925, 0.5942], [0.5918, 0.5936], [0.5911, 0.593], [0.5905, 0.5924], [0.5899, 0.5919], [0.5894, 0.5913], [0.5889, 0.5908], [0.5884, 0.5903]]\n",
    "\n",
    "tra = [Sampdoria[i][0] for i in range(0, len(Sampdoria))]\n",
    "val = [Sampdoria[i][1] for i in range(0, len(Sampdoria))]\n",
    "\n",
    "tra_tot.append(tra)\n",
    "val_tot.append(val)"
   ]
  },
  {
   "cell_type": "code",
   "execution_count": 18,
   "id": "49b6d2c0",
   "metadata": {},
   "outputs": [],
   "source": [
    "Sassuolo = [[0.9097, 0.6922], [0.6781, 0.6589], [0.655, 0.6433], [0.6421, 0.6334], [0.6334, 0.6266], [0.6268, 0.6207], [0.6208, 0.6159], [0.6165, 0.6125], [0.6135, 0.6097], [0.6111, 0.6075], [0.609, 0.6057], [0.6072, 0.6042], [0.6055, 0.6027], [0.604, 0.6014], [0.6026, 0.6002], [0.6014, 0.5991], [0.6002, 0.5981], [0.5992, 0.5972], [0.5983, 0.5965], [0.5975, 0.5961], [0.5967, 0.5962], [0.596, 0.5964], [0.5954, 0.5959], [0.5947, 0.595], [0.5942, 0.5941], [0.5937, 0.5934], [0.5932, 0.5929], [0.5928, 0.5923], [0.5923, 0.5916], [0.592, 0.5908]]\n",
    "\n",
    "tra = [Sassuolo[i][0] for i in range(0, len(Sassuolo))]\n",
    "val = [Sassuolo[i][1] for i in range(0, len(Sassuolo))]\n",
    "\n",
    "tra_tot.append(tra)\n",
    "val_tot.append(val)"
   ]
  },
  {
   "cell_type": "code",
   "execution_count": 19,
   "id": "8cf580e0",
   "metadata": {},
   "outputs": [],
   "source": [
    "Spal = [[0.9142, 0.6929], [0.6754, 0.6588], [0.6515, 0.6426], [0.6383, 0.6333], [0.63, 0.6272], [0.6238, 0.6222], [0.618, 0.6177], [0.6129, 0.6141], [0.6091, 0.6114], [0.606, 0.6089], [0.6036, 0.6067], [0.6014, 0.6045], [0.5995, 0.6024], [0.5979, 0.6005], [0.5963, 0.5988], [0.5949, 0.5973], [0.5936, 0.5959], [0.5924, 0.5949], [0.5913, 0.5941], [0.5903, 0.5934], [0.5893, 0.5926], [0.5884, 0.5918], [0.5876, 0.5909], [0.5869, 0.5898], [0.5863, 0.5891], [0.5856, 0.5884], [0.585, 0.5879], [0.5844, 0.5876], [0.5838, 0.5874], [0.5833, 0.5872]]\n",
    "\n",
    "tra = [Spal[i][0] for i in range(0, len(Spal))]\n",
    "val = [Spal[i][1] for i in range(0, len(Spal))]\n",
    "\n",
    "tra_tot.append(tra)\n",
    "val_tot.append(val)"
   ]
  },
  {
   "cell_type": "code",
   "execution_count": 20,
   "id": "2cd08ef5",
   "metadata": {},
   "outputs": [],
   "source": [
    "Torino = [[0.9186, 0.7068], [0.6741, 0.6703], [0.6483, 0.6515], [0.6313, 0.638], [0.6208, 0.6286], [0.6141, 0.6225], [0.6093, 0.6177], [0.6053, 0.6133], [0.6021, 0.6094], [0.5993, 0.606], [0.5969, 0.6031], [0.5948, 0.6007], [0.593, 0.5987], [0.5915, 0.5975], [0.5901, 0.596], [0.5888, 0.5942], [0.5877, 0.593], [0.5867, 0.5919], [0.5858, 0.5908], [0.585, 0.5902], [0.5843, 0.5903], [0.5836, 0.5899], [0.5829, 0.5889], [0.5823, 0.5875], [0.5818, 0.5862], [0.5813, 0.5852], [0.5808, 0.5846], [0.5803, 0.5843], [0.5799, 0.584], [0.5795, 0.5837]]\n",
    "\n",
    "tra = [Torino[i][0] for i in range(0, len(Torino))]\n",
    "val = [Torino[i][1] for i in range(0, len(Torino))]\n",
    "\n",
    "tra_tot.append(tra)\n",
    "val_tot.append(val)"
   ]
  },
  {
   "cell_type": "code",
   "execution_count": 21,
   "id": "f84dc170",
   "metadata": {},
   "outputs": [],
   "source": [
    "Udinese = [[0.9145, 0.6979], [0.6817, 0.6639], [0.6574, 0.6462], [0.6426, 0.6342], [0.6321, 0.6252], [0.6232, 0.6178], [0.6168, 0.6135], [0.6128, 0.6108], [0.6097, 0.6086], [0.6071, 0.6066], [0.6049, 0.6048], [0.603, 0.6031], [0.6013, 0.6015], [0.5998, 0.6001], [0.5985, 0.5988], [0.5973, 0.5973], [0.5963, 0.596], [0.5954, 0.5951], [0.5945, 0.5945], [0.5937, 0.5939], [0.593, 0.5933], [0.5923, 0.5928], [0.5917, 0.5923], [0.5911, 0.5919], [0.5906, 0.5916], [0.5902, 0.5916], [0.5897, 0.5917], [0.5893, 0.5916], [0.5889, 0.5912], [0.5885, 0.5905]]\n",
    "\n",
    "tra = [Udinese[i][0] for i in range(0, len(Udinese))]\n",
    "val = [Udinese[i][1] for i in range(0, len(Udinese))]\n",
    "\n",
    "tra_tot.append(tra)\n",
    "val_tot.append(val)"
   ]
  },
  {
   "cell_type": "code",
   "execution_count": 22,
   "id": "976fe037",
   "metadata": {},
   "outputs": [],
   "source": [
    "Verona = [[0.9085, 0.6925], [0.6711, 0.6585], [0.6461, 0.6411], [0.6327, 0.6305], [0.6243, 0.6232], [0.6176, 0.6174], [0.6125, 0.6134], [0.6089, 0.6103], [0.6062, 0.6078], [0.604, 0.6059], [0.6022, 0.6042], [0.6006, 0.6029], [0.5992, 0.6019], [0.598, 0.6011], [0.5968, 0.6001], [0.5957, 0.5986], [0.5947, 0.5971], [0.5938, 0.596], [0.593, 0.595], [0.5922, 0.5942], [0.5915, 0.5936], [0.5909, 0.5931], [0.5904, 0.5929], [0.5899, 0.5927], [0.5894, 0.5919], [0.5889, 0.5912], [0.5885, 0.5908], [0.5881, 0.5905], [0.5877, 0.5902], [0.5873, 0.5899]]\n",
    "\n",
    "tra = [Verona[i][0] for i in range(0, len(Verona))]\n",
    "val = [Verona[i][1] for i in range(0, len(Verona))]\n",
    "\n",
    "tra_tot.append(tra)\n",
    "val_tot.append(val)"
   ]
  },
  {
   "cell_type": "code",
   "execution_count": 23,
   "id": "1ed08fa9",
   "metadata": {},
   "outputs": [],
   "source": [
    "all_tra = np.zeros((30, 20))\n",
    "\n",
    "for j in range(0, 30):\n",
    "    all_tra[j] = [tra_tot[i][j] for i in range(0, len(tra_tot))]\n",
    "    \n",
    "all_val = np.zeros((30, 20))\n",
    "\n",
    "for j in range(0, 30):\n",
    "    all_val[j] = [val_tot[i][j] for i in range(0, len(val_tot))]"
   ]
  },
  {
   "cell_type": "code",
   "execution_count": 30,
   "id": "32a745a8",
   "metadata": {},
   "outputs": [
    {
     "data": {
      "image/png": "[encoded data removed]",
      "text/plain": [
       "<Figure size 1440x720 with 1 Axes>"
      ]
     },
     "metadata": {
      "needs_background": "light"
     },
     "output_type": "display_data"
    }
   ],
   "source": [
    "from matplotlib import pyplot as plt\n",
    "from matplotlib.pyplot import figure\n",
    "\n",
    "\n",
    "\n",
    "\n",
    "x = epo_tot\n",
    "y_val = np.mean(all_val, axis = 1)\n",
    "y_tra = np.mean(all_tra, axis = 1)\n",
    "\n",
    "\n",
    "ci_tra = np.std(all_tra, axis = 1) \n",
    "ci_val = np.std(all_val, axis = 1)\n",
    "\n",
    "fig, ax = plt.subplots(figsize=(20, 10))\n",
    "\n",
    "ax.set_xticks(x, minor=False)\n",
    "\n",
    "\n",
    "line1 = ax.plot(x,y_tra, label='Training')\n",
    "ax.fill_between(x, (y_tra-ci_tra), (y_tra+ci_tra), color='b', alpha=.1)\n",
    "\n",
    "line2 = ax.plot(x,y_val, label='Validation')\n",
    "ax.fill_between(x, (y_val-ci_val), (y_val+ci_val), color='r', alpha=.1)\n",
    "\n",
    "handles, labels = ax.get_legend_handles_labels()\n",
    "\n",
    "ax.set_ylabel('RMSE', fontsize=18)\n",
    "ax.set_xlabel('Epochs', fontsize=18)\n",
    "ax.legend(fontsize=18)\n",
    "plt.grid()\n",
    "plt.show()"
   ]
  },
  {
   "cell_type": "code",
   "execution_count": 25,
   "id": "1b2ac99b",
   "metadata": {},
   "outputs": [
    {
     "name": "stdout",
     "output_type": "stream",
     "text": [
      "The training result is: 0.5887 +/-0.005\n",
      "The validation result is: 0.5904 +/-0.005\n"
     ]
    }
   ],
   "source": [
    "print(f'The training result is: {np.round(np.mean(all_tra, axis = 1)[-1], 4)} +/-{np.round(np.std(all_tra, axis = 1)[-1], 4)}')\n",
    "print(f'The validation result is: {np.round(np.mean(all_val, axis = 1)[-1], 4)} +/-{np.round(np.std(all_val, axis = 1)[-1], 4)}')\n"
   ]
  },
  {
   "cell_type": "code",
   "execution_count": 26,
   "id": "e5793a28",
   "metadata": {},
   "outputs": [
    {
     "data": {
      "text/plain": [
       "array([0.9088, 0.6758, 0.6529, 0.6397, 0.6305, 0.6235, 0.618 , 0.6137,\n",
       "       0.6105, 0.608 , 0.6058, 0.604 , 0.6023, 0.6009, 0.5996, 0.5984,\n",
       "       0.5973, 0.5963, 0.5953, 0.5945, 0.5937, 0.593 , 0.5923, 0.5917,\n",
       "       0.5911, 0.5906, 0.59  , 0.5896, 0.5891, 0.5887])"
      ]
     },
     "execution_count": 26,
     "metadata": {},
     "output_type": "execute_result"
    }
   ],
   "source": [
    "np.round(np.mean(all_tra, axis = 1), 4)\n"
   ]
  },
  {
   "cell_type": "code",
   "execution_count": 27,
   "id": "b4db8740",
   "metadata": {},
   "outputs": [
    {
     "data": {
      "text/plain": [
       "array([0.0151, 0.007 , 0.0059, 0.0058, 0.0059, 0.0058, 0.0054, 0.0053,\n",
       "       0.0053, 0.0053, 0.0053, 0.0054, 0.0054, 0.0054, 0.0054, 0.0054,\n",
       "       0.0053, 0.0053, 0.0053, 0.0053, 0.0052, 0.0052, 0.0052, 0.0051,\n",
       "       0.0051, 0.0051, 0.005 , 0.005 , 0.005 , 0.005 ])"
      ]
     },
     "execution_count": 27,
     "metadata": {},
     "output_type": "execute_result"
    }
   ],
   "source": [
    "np.round(np.std(all_tra, axis = 1), 4)\n"
   ]
  },
  {
   "cell_type": "code",
   "execution_count": 28,
   "id": "3d38b489",
   "metadata": {},
   "outputs": [
    {
     "data": {
      "text/plain": [
       "array([0.6961, 0.664 , 0.6478, 0.6369, 0.6285, 0.6221, 0.6172, 0.6135,\n",
       "       0.6107, 0.6084, 0.6064, 0.6046, 0.6031, 0.6019, 0.6007, 0.5995,\n",
       "       0.5982, 0.5972, 0.5964, 0.5958, 0.5951, 0.5945, 0.5939, 0.5932,\n",
       "       0.5926, 0.5921, 0.5916, 0.5912, 0.5908, 0.5904])"
      ]
     },
     "execution_count": 28,
     "metadata": {},
     "output_type": "execute_result"
    }
   ],
   "source": [
    "np.round(np.mean(all_val, axis = 1), 4)\n"
   ]
  },
  {
   "cell_type": "code",
   "execution_count": 29,
   "id": "8b39270a",
   "metadata": {},
   "outputs": [
    {
     "data": {
      "text/plain": [
       "array([0.0108, 0.0084, 0.0075, 0.0072, 0.0069, 0.0066, 0.0063, 0.0061,\n",
       "       0.006 , 0.006 , 0.006 , 0.0061, 0.0061, 0.0061, 0.0062, 0.0061,\n",
       "       0.0059, 0.0059, 0.006 , 0.006 , 0.006 , 0.0058, 0.0057, 0.0056,\n",
       "       0.0054, 0.0054, 0.0053, 0.0052, 0.0051, 0.005 ])"
      ]
     },
     "execution_count": 29,
     "metadata": {},
     "output_type": "execute_result"
    }
   ],
   "source": [
    "np.round(np.std(all_val, axis = 1), 4)\n"
   ]
  }
 ],
 "metadata": {
  "kernelspec": {
   "display_name": "Python 3 (ipykernel)",
   "language": "python",
   "name": "python3"
  },
  "language_info": {
   "codemirror_mode": {
    "name": "ipython",
    "version": 3
   },
   "file_extension": ".py",
   "mimetype": "text/x-python",
   "name": "python",
   "nbconvert_exporter": "python",
   "pygments_lexer": "ipython3",
   "version": "3.7.4"
  }
 },
 "nbformat": 4,
 "nbformat_minor": 5
}
