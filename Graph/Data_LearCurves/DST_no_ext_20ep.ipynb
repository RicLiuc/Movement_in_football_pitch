{
 "cells": [
  {
   "cell_type": "code",
   "execution_count": 1,
   "id": "081d3fa0",
   "metadata": {},
   "outputs": [],
   "source": [
    "import numpy as np\n",
    "import plotly.express as px"
   ]
  },
  {
   "cell_type": "code",
   "execution_count": 2,
   "id": "b40e82cf",
   "metadata": {},
   "outputs": [],
   "source": [
    "epo_tot = [i for i in range(0, 20)]\n",
    "tra_tot = []\n",
    "val_tot = []"
   ]
  },
  {
   "cell_type": "code",
   "execution_count": 3,
   "id": "27860353",
   "metadata": {},
   "outputs": [],
   "source": [
    "Atalanta = [[1.6573, 0.8362], [0.8113, 0.7934], [0.7726, 0.7381], [0.7137, 0.6986], [0.6895, 0.684], [0.677, 0.6736], [0.6675, 0.665], [0.6596, 0.6577], [0.6531, 0.6516], [0.6477, 0.6467], [0.6435, 0.6426], [0.64, 0.6393], [0.6372, 0.6365], [0.6346, 0.634], [0.6324, 0.6317], [0.6303, 0.6296], [0.6284, 0.6277], [0.6265, 0.6258], [0.6247, 0.624], [0.623, 0.6222]]\n",
    "\n",
    "tra = [Atalanta[i][0] for i in range(0, len(Atalanta))]\n",
    "val = [Atalanta[i][1] for i in range(0, len(Atalanta))]\n",
    "\n",
    "tra_tot.append(tra)\n",
    "val_tot.append(val)"
   ]
  },
  {
   "cell_type": "code",
   "execution_count": 4,
   "id": "a210cd5a",
   "metadata": {},
   "outputs": [],
   "source": [
    "Bologna = [[1.8502, 0.876], [0.8253, 0.7926], [0.7596, 0.7432], [0.7324, 0.7262], [0.7186, 0.7137], [0.7075, 0.7033], [0.698, 0.6941], [0.6896, 0.686], [0.6821, 0.6788], [0.6754, 0.6724], [0.6696, 0.6668], [0.6644, 0.662], [0.6601, 0.6578], [0.6563, 0.6543], [0.6531, 0.6512], [0.6504, 0.6486], [0.648, 0.6462], [0.6458, 0.6441], [0.6439, 0.6422], [0.6421, 0.6404]]\n",
    "\n",
    "tra = [Bologna[i][0] for i in range(0, len(Bologna))]\n",
    "val = [Bologna[i][1] for i in range(0, len(Bologna))]\n",
    "\n",
    "tra_tot.append(tra)\n",
    "val_tot.append(val)"
   ]
  },
  {
   "cell_type": "code",
   "execution_count": 5,
   "id": "cf75f17d",
   "metadata": {},
   "outputs": [],
   "source": [
    "Brescia = [[1.7114, 0.8737], [0.8261, 0.7932], [0.7628, 0.7517], [0.7387, 0.7356], [0.725, 0.7232], [0.7136, 0.7125], [0.7036, 0.703], [0.6946, 0.6945], [0.6867, 0.6871], [0.6799, 0.6807], [0.6741, 0.6754], [0.6693, 0.6708], [0.6652, 0.6669], [0.6616, 0.6635], [0.6584, 0.6604], [0.6556, 0.6576], [0.653, 0.6549], [0.6506, 0.6525], [0.6483, 0.6502], [0.6461, 0.648]]\n",
    "\n",
    "tra = [Brescia[i][0] for i in range(0, len(Brescia))]\n",
    "val = [Brescia[i][1] for i in range(0, len(Brescia))]\n",
    "\n",
    "tra_tot.append(tra)\n",
    "val_tot.append(val)"
   ]
  },
  {
   "cell_type": "code",
   "execution_count": 6,
   "id": "fd502ccc",
   "metadata": {},
   "outputs": [],
   "source": [
    "Cagliari = [[1.8725, 0.8888], [0.8381, 0.7922], [0.7603, 0.7445], [0.7333, 0.7278], [0.7185, 0.7149], [0.7066, 0.7042], [0.6965, 0.695], [0.6877, 0.6868], [0.68, 0.6795], [0.673, 0.673], [0.667, 0.6672], [0.6617, 0.6622], [0.6571, 0.6578], [0.6533, 0.6541], [0.65, 0.6508], [0.6471, 0.6479], [0.6446, 0.6454], [0.6423, 0.6431], [0.6403, 0.641], [0.6385, 0.6391]]\n",
    "\n",
    "tra = [Cagliari[i][0] for i in range(0, len(Cagliari))]\n",
    "val = [Cagliari[i][1] for i in range(0, len(Cagliari))]\n",
    "\n",
    "tra_tot.append(tra)\n",
    "val_tot.append(val)"
   ]
  },
  {
   "cell_type": "code",
   "execution_count": 7,
   "id": "3ac0094e",
   "metadata": {},
   "outputs": [],
   "source": [
    "Fiorentina = [[1.8376, 0.8535], [0.8085, 0.7734], [0.7464, 0.7304], [0.7209, 0.7162], [0.7084, 0.7061], [0.6989, 0.6979], [0.6909, 0.6908], [0.6839, 0.6845], [0.6776, 0.6787], [0.6717, 0.6733], [0.6664, 0.6684], [0.6615, 0.6639], [0.657, 0.6598], [0.6531, 0.6562], [0.6495, 0.653], [0.6464, 0.6501], [0.6435, 0.6475], [0.641, 0.6451], [0.6386, 0.643], [0.6364, 0.6409]]\n",
    "\n",
    "tra = [Fiorentina[i][0] for i in range(0, len(Fiorentina))]\n",
    "val = [Fiorentina[i][1] for i in range(0, len(Fiorentina))]\n",
    "\n",
    "tra_tot.append(tra)\n",
    "val_tot.append(val)"
   ]
  },
  {
   "cell_type": "code",
   "execution_count": 8,
   "id": "a2f6666c",
   "metadata": {},
   "outputs": [],
   "source": [
    "Genoa = [[1.8596, 0.8758], [0.8302, 0.7936], [0.766, 0.7475], [0.7399, 0.7313], [0.7266, 0.7195], [0.7159, 0.7097], [0.7066, 0.701], [0.6983, 0.6933], [0.6909, 0.6864], [0.6842, 0.6802], [0.6783, 0.6747], [0.6732, 0.67], [0.6688, 0.6661], [0.6651, 0.6627], [0.662, 0.6598], [0.6592, 0.6573], [0.6567, 0.6549], [0.6544, 0.6528], [0.6523, 0.6509], [0.6504, 0.649]]\n",
    "\n",
    "tra = [Genoa[i][0] for i in range(0, len(Genoa))]\n",
    "val = [Genoa[i][1] for i in range(0, len(Genoa))]\n",
    "\n",
    "tra_tot.append(tra)\n",
    "val_tot.append(val)"
   ]
  },
  {
   "cell_type": "code",
   "execution_count": 9,
   "id": "b75da6b9",
   "metadata": {},
   "outputs": [],
   "source": [
    "Inter = [[1.863, 0.8852], [0.8289, 0.7894], [0.7527, 0.7437], [0.7272, 0.7301], [0.7153, 0.7203], [0.7062, 0.7122], [0.6985, 0.7049], [0.6916, 0.6981], [0.6852, 0.6917], [0.6793, 0.6857], [0.6738, 0.6801], [0.6687, 0.6751], [0.6641, 0.6705], [0.66, 0.6665], [0.6564, 0.6629], [0.6532, 0.6598], [0.6503, 0.657], [0.6477, 0.6545], [0.6454, 0.6523], [0.6433, 0.6503]]\n",
    "\n",
    "tra = [Inter[i][0] for i in range(0, len(Inter))]\n",
    "val = [Inter[i][1] for i in range(0, len(Inter))]\n",
    "\n",
    "tra_tot.append(tra)\n",
    "val_tot.append(val)"
   ]
  },
  {
   "cell_type": "code",
   "execution_count": 10,
   "id": "898c505a",
   "metadata": {},
   "outputs": [],
   "source": [
    "Juventus = [[1.8553, 0.8666], [0.8166, 0.7856], [0.7541, 0.74], [0.7278, 0.724], [0.7149, 0.713], [0.705, 0.7042], [0.6966, 0.6967], [0.6892, 0.6901], [0.6826, 0.6842], [0.6767, 0.6791], [0.6715, 0.6746], [0.667, 0.6707], [0.663, 0.6674], [0.6596, 0.6645], [0.6566, 0.662], [0.654, 0.6598], [0.6517, 0.6577], [0.6495, 0.6559], [0.6476, 0.6541], [0.6457, 0.6525]]\n",
    "\n",
    "tra = [Juventus[i][0] for i in range(0, len(Juventus))]\n",
    "val = [Juventus[i][1] for i in range(0, len(Juventus))]\n",
    "\n",
    "tra_tot.append(tra)\n",
    "val_tot.append(val)"
   ]
  },
  {
   "cell_type": "code",
   "execution_count": 11,
   "id": "de800207",
   "metadata": {},
   "outputs": [],
   "source": [
    "Lazio = [[1.854, 0.855], [0.8175, 0.7788], [0.7567, 0.7406], [0.7322, 0.7265], [0.7199, 0.7161], [0.7101, 0.7073], [0.7017, 0.6994], [0.6941, 0.6922], [0.6871, 0.6855], [0.6806, 0.6794], [0.6749, 0.6738], [0.6697, 0.6689], [0.6652, 0.6646], [0.6612, 0.6608], [0.6578, 0.6575], [0.6547, 0.6545], [0.6519, 0.6518], [0.6494, 0.6493], [0.6471, 0.6471], [0.645, 0.645]]\n",
    "\n",
    "tra = [Lazio[i][0] for i in range(0, len(Lazio))]\n",
    "val = [Lazio[i][1] for i in range(0, len(Lazio))]\n",
    "\n",
    "tra_tot.append(tra)\n",
    "val_tot.append(val)"
   ]
  },
  {
   "cell_type": "code",
   "execution_count": 12,
   "id": "25820463",
   "metadata": {},
   "outputs": [],
   "source": [
    "Lecce = [[1.8428, 0.8563], [0.808, 0.7623], [0.7368, 0.7232], [0.7139, 0.7098], [0.7022, 0.7001], [0.6932, 0.692], [0.6855, 0.6849], [0.6786, 0.6783], [0.6723, 0.6722], [0.6666, 0.6665], [0.6613, 0.6614], [0.6566, 0.6569], [0.6524, 0.6529], [0.6487, 0.6493], [0.6454, 0.6461], [0.6423, 0.6432], [0.6396, 0.6406], [0.637, 0.6382], [0.6346, 0.636], [0.6324, 0.6339]]\n",
    "\n",
    "tra = [Lecce[i][0] for i in range(0, len(Lecce))]\n",
    "val = [Lecce[i][1] for i in range(0, len(Lecce))]\n",
    "\n",
    "tra_tot.append(tra)\n",
    "val_tot.append(val)"
   ]
  },
  {
   "cell_type": "code",
   "execution_count": 13,
   "id": "7d3424e0",
   "metadata": {},
   "outputs": [],
   "source": [
    "Milan = [[1.8569, 0.8725], [0.8266, 0.7903], [0.7585, 0.7426], [0.7312, 0.7277], [0.7185, 0.717], [0.7085, 0.7081], [0.7, 0.7004], [0.6925, 0.6933], [0.6857, 0.687], [0.6795, 0.6812], [0.674, 0.6759], [0.6691, 0.6713], [0.6648, 0.6671], [0.661, 0.6635], [0.6577, 0.6603], [0.6548, 0.6575], [0.6521, 0.6549], [0.6498, 0.6525], [0.6476, 0.6503], [0.6456, 0.6483]]\n",
    "\n",
    "tra = [Milan[i][0] for i in range(0, len(Milan))]\n",
    "val = [Milan[i][1] for i in range(0, len(Milan))]\n",
    "\n",
    "tra_tot.append(tra)\n",
    "val_tot.append(val)"
   ]
  },
  {
   "cell_type": "code",
   "execution_count": 14,
   "id": "c62814cf",
   "metadata": {},
   "outputs": [],
   "source": [
    "Napoli = [[1.8332, 0.8464], [0.803, 0.7729], [0.7433, 0.7242], [0.7135, 0.7088], [0.7012, 0.6985], [0.692, 0.6899], [0.6841, 0.6823], [0.677, 0.6753], [0.6706, 0.6689], [0.6648, 0.6632], [0.6596, 0.6581], [0.6551, 0.6536], [0.6512, 0.6499], [0.6478, 0.6467], [0.6449, 0.6439], [0.6423, 0.6414], [0.64, 0.6392], [0.6379, 0.6372], [0.636, 0.6354], [0.6342, 0.6336]]\n",
    "\n",
    "tra = [Napoli[i][0] for i in range(0, len(Napoli))]\n",
    "val = [Napoli[i][1] for i in range(0, len(Napoli))]\n",
    "\n",
    "tra_tot.append(tra)\n",
    "val_tot.append(val)"
   ]
  },
  {
   "cell_type": "code",
   "execution_count": 15,
   "id": "9d5130ce",
   "metadata": {},
   "outputs": [],
   "source": [
    "Parma = [[1.8665, 0.9046], [0.8465, 0.8002], [0.7664, 0.747], [0.7377, 0.7285], [0.7226, 0.7155], [0.7108, 0.7045], [0.7004, 0.6947], [0.6911, 0.6858], [0.6825, 0.6776], [0.6749, 0.6704], [0.6681, 0.6641], [0.6623, 0.6587], [0.6573, 0.6541], [0.653, 0.6502], [0.6493, 0.6468], [0.6461, 0.6439], [0.6432, 0.6413], [0.6406, 0.6389], [0.6383, 0.6368], [0.6361, 0.6348]]\n",
    "\n",
    "tra = [Parma[i][0] for i in range(0, len(Parma))]\n",
    "val = [Parma[i][1] for i in range(0, len(Parma))]\n",
    "\n",
    "tra_tot.append(tra)\n",
    "val_tot.append(val)"
   ]
  },
  {
   "cell_type": "code",
   "execution_count": 16,
   "id": "9b40dd0b",
   "metadata": {},
   "outputs": [],
   "source": [
    "Roma = [[1.8405, 0.8523], [0.806, 0.7696], [0.7439, 0.7231], [0.7188, 0.7079], [0.7063, 0.6975], [0.6967, 0.689], [0.6887, 0.6817], [0.6816, 0.6753], [0.6752, 0.6694], [0.6695, 0.6641], [0.6642, 0.6594], [0.6595, 0.6551], [0.6554, 0.6513], [0.6517, 0.6479], [0.6484, 0.6449], [0.6455, 0.6423], [0.6428, 0.6399], [0.6405, 0.6377], [0.6383, 0.6358], [0.6363, 0.634]]\n",
    "\n",
    "tra = [Roma[i][0] for i in range(0, len(Roma))]\n",
    "val = [Roma[i][1] for i in range(0, len(Roma))]\n",
    "\n",
    "tra_tot.append(tra)\n",
    "val_tot.append(val)"
   ]
  },
  {
   "cell_type": "code",
   "execution_count": 17,
   "id": "75fb6d4a",
   "metadata": {},
   "outputs": [],
   "source": [
    "Sampdoria = [[1.8458, 0.8664], [0.8169, 0.7813], [0.7521, 0.7356], [0.7271, 0.7198], [0.7136, 0.7078], [0.7023, 0.6976], [0.6922, 0.6884], [0.6831, 0.6801], [0.6748, 0.6727], [0.6673, 0.6661], [0.6607, 0.6604], [0.6552, 0.6557], [0.6506, 0.6519], [0.6467, 0.6486], [0.6434, 0.6459], [0.6406, 0.6434], [0.6381, 0.6413], [0.6358, 0.6394], [0.6338, 0.6376], [0.632, 0.636]]\n",
    "\n",
    "tra = [Sampdoria[i][0] for i in range(0, len(Sampdoria))]\n",
    "val = [Sampdoria[i][1] for i in range(0, len(Sampdoria))]\n",
    "\n",
    "tra_tot.append(tra)\n",
    "val_tot.append(val)"
   ]
  },
  {
   "cell_type": "code",
   "execution_count": 18,
   "id": "49b6d2c0",
   "metadata": {},
   "outputs": [],
   "source": [
    "Sassuolo = [[1.8419, 0.8497], [0.8131, 0.7691], [0.7504, 0.7284], [0.7263, 0.7143], [0.714, 0.7039], [0.7042, 0.6952], [0.6958, 0.6876], [0.6883, 0.6807], [0.6815, 0.6745], [0.6753, 0.6688], [0.6697, 0.6636], [0.6647, 0.6591], [0.6603, 0.6551], [0.6564, 0.6516], [0.6531, 0.6486], [0.6501, 0.6459], [0.6474, 0.6434], [0.645, 0.6412], [0.6428, 0.6391], [0.6408, 0.6372]]\n",
    "\n",
    "tra = [Sassuolo[i][0] for i in range(0, len(Sassuolo))]\n",
    "val = [Sassuolo[i][1] for i in range(0, len(Sassuolo))]\n",
    "\n",
    "tra_tot.append(tra)\n",
    "val_tot.append(val)"
   ]
  },
  {
   "cell_type": "code",
   "execution_count": 19,
   "id": "8cf580e0",
   "metadata": {},
   "outputs": [],
   "source": [
    "Spal = [[1.8554, 0.8819], [0.8293, 0.7856], [0.7573, 0.7405], [0.7318, 0.7237], [0.7177, 0.7114], [0.7065, 0.7011], [0.6969, 0.6921], [0.6883, 0.6839], [0.6805, 0.6766], [0.6735, 0.6701], [0.6674, 0.6645], [0.662, 0.6598], [0.6574, 0.6557], [0.6533, 0.6521], [0.6498, 0.649], [0.6466, 0.6462], [0.6438, 0.6436], [0.6412, 0.6413], [0.6388, 0.6392], [0.6366, 0.6372]]\n",
    "\n",
    "tra = [Spal[i][0] for i in range(0, len(Spal))]\n",
    "val = [Spal[i][1] for i in range(0, len(Spal))]\n",
    "\n",
    "tra_tot.append(tra)\n",
    "val_tot.append(val)"
   ]
  },
  {
   "cell_type": "code",
   "execution_count": 20,
   "id": "2cd08ef5",
   "metadata": {},
   "outputs": [],
   "source": [
    "Torino = [[1.866, 0.887], [0.8397, 0.7931], [0.7613, 0.7393], [0.7316, 0.7234], [0.7173, 0.7115], [0.7059, 0.7016], [0.6962, 0.693], [0.6878, 0.6853], [0.6802, 0.6783], [0.6734, 0.6721], [0.6673, 0.6665], [0.6619, 0.6616], [0.6572, 0.6572], [0.653, 0.6534], [0.6493, 0.65], [0.646, 0.647], [0.6431, 0.6442], [0.6403, 0.6417], [0.6378, 0.6393], [0.6354, 0.6371]]\n",
    "tra = [Torino[i][0] for i in range(0, len(Torino))]\n",
    "val = [Torino[i][1] for i in range(0, len(Torino))]\n",
    "\n",
    "tra_tot.append(tra)\n",
    "val_tot.append(val)"
   ]
  },
  {
   "cell_type": "code",
   "execution_count": 21,
   "id": "f84dc170",
   "metadata": {},
   "outputs": [],
   "source": [
    "Udinese = [[1.8424, 0.8602], [0.8192, 0.784], [0.7585, 0.7382], [0.7315, 0.7234], [0.7186, 0.7124], [0.708, 0.7029], [0.6987, 0.6945], [0.6903, 0.6868], [0.6826, 0.6798], [0.6757, 0.6734], [0.6695, 0.6678], [0.664, 0.6628], [0.6592, 0.6585], [0.6551, 0.6548], [0.6516, 0.6515], [0.6485, 0.6486], [0.6457, 0.6459], [0.6432, 0.6434], [0.641, 0.6412], [0.6388, 0.6391]]\n",
    "\n",
    "tra = [Udinese[i][0] for i in range(0, len(Udinese))]\n",
    "val = [Udinese[i][1] for i in range(0, len(Udinese))]\n",
    "\n",
    "tra_tot.append(tra)\n",
    "val_tot.append(val)"
   ]
  },
  {
   "cell_type": "code",
   "execution_count": 22,
   "id": "976fe037",
   "metadata": {},
   "outputs": [],
   "source": [
    "Verona = [[1.8537, 0.8738], [0.8146, 0.7793], [0.7441, 0.735], [0.7207, 0.7194], [0.7075, 0.7071], [0.6966, 0.6965], [0.687, 0.6872], [0.6784, 0.6788], [0.6708, 0.6712], [0.6639, 0.6645], [0.6578, 0.6586], [0.6526, 0.6535], [0.6481, 0.6492], [0.6443, 0.6455], [0.641, 0.6422], [0.6381, 0.6393], [0.6355, 0.6367], [0.6331, 0.6344], [0.631, 0.6323], [0.629, 0.6304]]\n",
    "\n",
    "tra = [Verona[i][0] for i in range(0, len(Verona))]\n",
    "val = [Verona[i][1] for i in range(0, len(Verona))]\n",
    "\n",
    "tra_tot.append(tra)\n",
    "val_tot.append(val)"
   ]
  },
  {
   "cell_type": "code",
   "execution_count": 23,
   "id": "1ed08fa9",
   "metadata": {},
   "outputs": [],
   "source": [
    "all_tra = np.zeros((20, 20))\n",
    "\n",
    "for j in range(0, 20):\n",
    "    all_tra[j] = [tra_tot[i][j] for i in range(0, len(tra_tot))]\n",
    "    \n",
    "all_val = np.zeros((20, 20))\n",
    "\n",
    "for j in range(0, 20):\n",
    "    all_val[j] = [val_tot[i][j] for i in range(0, len(val_tot))]"
   ]
  },
  {
   "cell_type": "code",
   "execution_count": 24,
   "id": "32a745a8",
   "metadata": {},
   "outputs": [
    {
     "data": {
      "text/plain": [
       "<Figure size 2000x1000 with 1 Axes>"
      ]
     },
     "metadata": {},
     "output_type": "display_data"
    }
   ],
   "source": [
    "from matplotlib import pyplot as plt\n",
    "from matplotlib.pyplot import figure\n",
    "\n",
    "\n",
    "\n",
    "\n",
    "x = epo_tot\n",
    "y_val = np.mean(all_val, axis = 1)\n",
    "y_tra = np.mean(all_tra, axis = 1)\n",
    "\n",
    "\n",
    "ci_tra = np.std(all_tra, axis = 1) \n",
    "ci_val = np.std(all_val, axis = 1)\n",
    "\n",
    "fig, ax = plt.subplots(figsize=(20, 10))\n",
    "\n",
    "ax.set_xticks(x, minor=False)\n",
    "\n",
    "\n",
    "line1 = ax.plot(x,y_tra, label='Training')\n",
    "ax.fill_between(x, (y_tra-ci_tra), (y_tra+ci_tra), color='b', alpha=.1)\n",
    "\n",
    "line2 = ax.plot(x,y_val, label='Validation')\n",
    "ax.fill_between(x, (y_val-ci_val), (y_val+ci_val), color='r', alpha=.1)\n",
    "\n",
    "handles, labels = ax.get_legend_handles_labels()\n",
    "\n",
    "ax.set_ylabel('RMSE', fontsize=18)\n",
    "ax.set_xlabel('Epochs', fontsize=18)\n",
    "ax.legend(fontsize=18)\n",
    "plt.grid()\n",
    "plt.show()"
   ]
  },
  {
   "cell_type": "code",
   "execution_count": 25,
   "id": "1b2ac99b",
   "metadata": {},
   "outputs": [
    {
     "name": "stdout",
     "output_type": "stream",
     "text": [
      "The training result is: 0.6384 +/-0.0065\n",
      "The validation result is: 0.6394 +/-0.0074\n"
     ]
    }
   ],
   "source": [
    "print(f'The training result is: {np.round(np.mean(all_tra, axis = 1)[-1], 4)} +/-{np.round(np.std(all_tra, axis = 1)[-1], 4)}')\n",
    "print(f'The validation result is: {np.round(np.mean(all_val, axis = 1)[-1], 4)} +/-{np.round(np.std(all_val, axis = 1)[-1], 4)}')\n"
   ]
  },
  {
   "cell_type": "code",
   "execution_count": 26,
   "id": "e5793a28",
   "metadata": {},
   "outputs": [
    {
     "data": {
      "text/plain": [
       "array([1.8353, 0.8213, 0.7552, 0.7275, 0.7138, 0.7033, 0.6943, 0.6863,\n",
       "       0.6791, 0.6726, 0.6669, 0.6619, 0.6576, 0.6538, 0.6505, 0.6476,\n",
       "       0.645 , 0.6426, 0.6404, 0.6384])"
      ]
     },
     "execution_count": 26,
     "metadata": {},
     "output_type": "execute_result"
    }
   ],
   "source": [
    "np.round(np.mean(all_tra, axis = 1), 4)\n"
   ]
  },
  {
   "cell_type": "code",
   "execution_count": 27,
   "id": "b4db8740",
   "metadata": {},
   "outputs": [
    {
     "data": {
      "text/plain": [
       "array([0.052 , 0.0116, 0.0088, 0.008 , 0.0088, 0.0087, 0.0085, 0.0083,\n",
       "       0.008 , 0.0078, 0.0076, 0.0073, 0.0071, 0.0069, 0.0068, 0.0067,\n",
       "       0.0066, 0.0066, 0.0065, 0.0065])"
      ]
     },
     "execution_count": 27,
     "metadata": {},
     "output_type": "execute_result"
    }
   ],
   "source": [
    "np.round(np.std(all_tra, axis = 1), 4)\n"
   ]
  },
  {
   "cell_type": "code",
   "execution_count": 28,
   "id": "3d38b489",
   "metadata": {},
   "outputs": [
    {
     "data": {
      "text/plain": [
       "array([0.8681, 0.784 , 0.7378, 0.7212, 0.7097, 0.7002, 0.6918, 0.6843,\n",
       "       0.6776, 0.6715, 0.6662, 0.6616, 0.6575, 0.654 , 0.6509, 0.6482,\n",
       "       0.6457, 0.6434, 0.6414, 0.6394])"
      ]
     },
     "execution_count": 28,
     "metadata": {},
     "output_type": "execute_result"
    }
   ],
   "source": [
    "np.round(np.mean(all_val, axis = 1), 4)\n"
   ]
  },
  {
   "cell_type": "code",
   "execution_count": 29,
   "id": "8b39270a",
   "metadata": {},
   "outputs": [
    {
     "data": {
      "text/plain": [
       "array([0.0165, 0.01  , 0.0081, 0.0091, 0.0091, 0.009 , 0.0089, 0.0088,\n",
       "       0.0086, 0.0085, 0.0083, 0.0081, 0.0079, 0.0078, 0.0077, 0.0076,\n",
       "       0.0075, 0.0074, 0.0074, 0.0074])"
      ]
     },
     "execution_count": 29,
     "metadata": {},
     "output_type": "execute_result"
    }
   ],
   "source": [
    "np.round(np.std(all_val, axis = 1), 4)\n"
   ]
  }
 ],
 "metadata": {
  "kernelspec": {
   "display_name": "Python 3 (ipykernel)",
   "language": "python",
   "name": "python3"
  },
  "language_info": {
   "codemirror_mode": {
    "name": "ipython",
    "version": 3
   },
   "file_extension": ".py",
   "mimetype": "text/x-python",
   "name": "python",
   "nbconvert_exporter": "python",
   "pygments_lexer": "ipython3",
   "version": "3.7.4"
  }
 },
 "nbformat": 4,
 "nbformat_minor": 5
}
