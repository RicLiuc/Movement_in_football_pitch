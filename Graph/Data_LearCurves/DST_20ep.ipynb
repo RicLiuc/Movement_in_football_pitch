{
 "cells": [
  {
   "cell_type": "code",
   "execution_count": 1,
   "id": "081d3fa0",
   "metadata": {},
   "outputs": [],
   "source": [
    "import numpy as np\n",
    "import plotly.express as px"
   ]
  },
  {
   "cell_type": "code",
   "execution_count": 2,
   "id": "b40e82cf",
   "metadata": {},
   "outputs": [],
   "source": [
    "epo_tot = [i for i in range(0, 20)]\n",
    "tra_tot = []\n",
    "val_tot = []"
   ]
  },
  {
   "cell_type": "code",
   "execution_count": 3,
   "id": "27860353",
   "metadata": {},
   "outputs": [],
   "source": [
    "Atalanta =[[1.5911, 0.8836], [0.8378, 0.8013], [0.7738, 0.7416], [0.7148, 0.7006], [0.6903, 0.687], [0.6802, 0.6791], [0.6733, 0.6731], [0.6678, 0.6681], [0.6631, 0.6635], [0.6587, 0.6594], [0.6548, 0.6555], [0.6511, 0.6518], [0.6476, 0.6484], [0.6444, 0.6453], [0.6416, 0.6425], [0.6389, 0.6399], [0.6365, 0.6376], [0.6343, 0.6354], [0.6322, 0.6333], [0.6303, 0.6314]] \n",
    "\n",
    "tra = [Atalanta[i][0] for i in range(0, len(Atalanta))]\n",
    "val = [Atalanta[i][1] for i in range(0, len(Atalanta))]\n",
    "\n",
    "tra_tot.append(tra)\n",
    "val_tot.append(val)"
   ]
  },
  {
   "cell_type": "code",
   "execution_count": 4,
   "id": "a210cd5a",
   "metadata": {},
   "outputs": [],
   "source": [
    "Bologna = [[1.7851, 0.8678], [0.8133, 0.7663], [0.7393, 0.7254], [0.716, 0.7085], [0.7026, 0.6968], [0.6927, 0.6877], [0.6848, 0.6804], [0.6784, 0.6745], [0.6729, 0.6694], [0.6682, 0.665], [0.6639, 0.6609], [0.66, 0.6573], [0.6565, 0.654], [0.6533, 0.651], [0.6504, 0.6482], [0.6477, 0.6456], [0.6451, 0.6431], [0.6428, 0.6409], [0.6407, 0.6388], [0.6387, 0.6398]]\n",
    "\n",
    "tra = [Bologna[i][0] for i in range(0, len(Bologna))]\n",
    "val = [Bologna[i][1] for i in range(0, len(Bologna))]\n",
    "\n",
    "tra_tot.append(tra)\n",
    "val_tot.append(val)"
   ]
  },
  {
   "cell_type": "code",
   "execution_count": 5,
   "id": "cf75f17d",
   "metadata": {},
   "outputs": [],
   "source": [
    "Brescia = [[1.6546, 0.8584], [0.81, 0.7691], [0.7433, 0.7321], [0.7187, 0.7139], [0.7038, 0.7016], [0.6933, 0.6924], [0.6851, 0.6849], [0.6782, 0.6784], [0.6721, 0.6726], [0.6667, 0.6675], [0.6618, 0.6628], [0.6574, 0.6586], [0.6534, 0.6547], [0.6497, 0.6512], [0.6464, 0.648], [0.6433, 0.645], [0.6405, 0.6423], [0.6379, 0.6398], [0.6356, 0.6376], [0.6334, 0.6355]]\n",
    "\n",
    "tra = [Brescia[i][0] for i in range(0, len(Brescia))]\n",
    "val = [Brescia[i][1] for i in range(0, len(Brescia))]\n",
    "\n",
    "tra_tot.append(tra)\n",
    "val_tot.append(val)"
   ]
  },
  {
   "cell_type": "code",
   "execution_count": 6,
   "id": "fd502ccc",
   "metadata": {},
   "outputs": [],
   "source": [
    "Cagliari = [[1.81, 0.882], [0.82, 0.76], [0.7373, 0.7242], [0.7137, 0.7074], [0.6996, 0.6957], [0.6891, 0.6866], [0.6807, 0.6793], [0.6739, 0.6731], [0.668, 0.6677], [0.6629, 0.6629], [0.6584, 0.6586], [0.6543, 0.6547], [0.6506, 0.6512], [0.6473, 0.6479], [0.6443, 0.6449], [0.6416, 0.6421], [0.639, 0.6395], [0.6366, 0.6372], [0.6344, 0.635], [0.6324, 0.6329]]\n",
    "\n",
    "tra = [Cagliari[i][0] for i in range(0, len(Cagliari))]\n",
    "val = [Cagliari[i][1] for i in range(0, len(Cagliari))]\n",
    "\n",
    "tra_tot.append(tra)\n",
    "val_tot.append(val)"
   ]
  },
  {
   "cell_type": "code",
   "execution_count": 7,
   "id": "3ac0094e",
   "metadata": {},
   "outputs": [],
   "source": [
    "Fiorentina = [[1.7824, 0.8465], [0.7993, 0.7532], [0.7296, 0.7174], [0.7065, 0.7025], [0.694, 0.6929], [0.6851, 0.6855], [0.6778, 0.679], [0.6715, 0.6734], [0.6659, 0.6683], [0.6607, 0.6637], [0.6561, 0.6594], [0.6519, 0.6555], [0.648, 0.652], [0.6446, 0.6488], [0.6414, 0.6459], [0.6385, 0.6431], [0.6358, 0.6405], [0.6332, 0.6381], [0.6308, 0.6358], [0.6286, 0.6337]]\n",
    "\n",
    "tra = [Fiorentina[i][0] for i in range(0, len(Fiorentina))]\n",
    "val = [Fiorentina[i][1] for i in range(0, len(Fiorentina))]\n",
    "\n",
    "tra_tot.append(tra)\n",
    "val_tot.append(val)"
   ]
  },
  {
   "cell_type": "code",
   "execution_count": 8,
   "id": "a2f6666c",
   "metadata": {},
   "outputs": [],
   "source": [
    "Genoa = [[1.7984, 0.8624], [0.8196, 0.7738], [0.7483, 0.7332], [0.7231, 0.7157], [0.7089, 0.7039], [0.6987, 0.695], [0.6908, 0.6878], [0.6842, 0.6816], [0.6785, 0.676], [0.6733, 0.6711], [0.6687, 0.6667], [0.6647, 0.6627], [0.661, 0.6593], [0.6578, 0.6561], [0.6547, 0.6532], [0.6517, 0.6504], [0.649, 0.6478], [0.6464, 0.6454], [0.6441, 0.6432], [0.6419, 0.6431]]\n",
    "\n",
    "tra = [Genoa[i][0] for i in range(0, len(Genoa))]\n",
    "val = [Genoa[i][1] for i in range(0, len(Genoa))]\n",
    "\n",
    "tra_tot.append(tra)\n",
    "val_tot.append(val)"
   ]
  },
  {
   "cell_type": "code",
   "execution_count": 9,
   "id": "b75da6b9",
   "metadata": {},
   "outputs": [],
   "source": [
    "Inter = [[1.8008, 0.8713], [0.8115, 0.7608], [0.7318, 0.727], [0.7107, 0.713], [0.6983, 0.7024], [0.6885, 0.6933], [0.6799, 0.6852], [0.6725, 0.6781], [0.666, 0.672], [0.6604, 0.6666], [0.6555, 0.6619], [0.6511, 0.6577], [0.6472, 0.6539], [0.6438, 0.6506], [0.6407, 0.6475], [0.6378, 0.6447], [0.6351, 0.642], [0.6325, 0.6395], [0.6302, 0.6372], [0.628, 0.635]]\n",
    "\n",
    "tra = [Inter[i][0] for i in range(0, len(Inter))]\n",
    "val = [Inter[i][1] for i in range(0, len(Inter))]\n",
    "\n",
    "tra_tot.append(tra)\n",
    "val_tot.append(val)"
   ]
  },
  {
   "cell_type": "code",
   "execution_count": 10,
   "id": "898c505a",
   "metadata": {},
   "outputs": [],
   "source": [
    "Juventus = [[1.7832, 0.8548], [0.806, 0.7638], [0.7359, 0.7249], [0.7122, 0.709], [0.6992, 0.6986], [0.6897, 0.6906], [0.682, 0.684], [0.6755, 0.6783], [0.6698, 0.6732], [0.6647, 0.6687], [0.6601, 0.6645], [0.6559, 0.6606], [0.6521, 0.6572], [0.6487, 0.6541], [0.6457, 0.6514], [0.6431, 0.6489], [0.6407, 0.6467], [0.6385, 0.6446], [0.6365, 0.6427], [0.6346, 0.641]]\n",
    "\n",
    "tra = [Juventus[i][0] for i in range(0, len(Juventus))]\n",
    "val = [Juventus[i][1] for i in range(0, len(Juventus))]\n",
    "\n",
    "tra_tot.append(tra)\n",
    "val_tot.append(val)"
   ]
  },
  {
   "cell_type": "code",
   "execution_count": 11,
   "id": "de800207",
   "metadata": {},
   "outputs": [],
   "source": [
    "Lazio = [[1.793, 0.8475], [0.8078, 0.7602], [0.7387, 0.7252], [0.7169, 0.7109], [0.7051, 0.701], [0.6962, 0.693], [0.6887, 0.6861], [0.6821, 0.6799], [0.6761, 0.6744], [0.6706, 0.6692], [0.6656, 0.6644], [0.661, 0.66], [0.6569, 0.656], [0.6532, 0.6524], [0.6499, 0.6491], [0.647, 0.6462], [0.6443, 0.6435], [0.6418, 0.641], [0.6395, 0.6387], [0.6373, 0.6385]]\n",
    "\n",
    "tra = [Lazio[i][0] for i in range(0, len(Lazio))]\n",
    "val = [Lazio[i][1] for i in range(0, len(Lazio))]\n",
    "\n",
    "tra_tot.append(tra)\n",
    "val_tot.append(val)"
   ]
  },
  {
   "cell_type": "code",
   "execution_count": 12,
   "id": "25820463",
   "metadata": {},
   "outputs": [],
   "source": [
    "Lecce = [[1.7793, 0.8427], [0.7932, 0.7404], [0.7195, 0.7094], [0.6989, 0.6958], [0.6872, 0.6862], [0.6782, 0.6783], [0.6706, 0.6713], [0.6638, 0.665], [0.6578, 0.6593], [0.6523, 0.654], [0.6474, 0.6493], [0.643, 0.645], [0.6389, 0.641], [0.6354, 0.6376], [0.6323, 0.6345], [0.6295, 0.6317], [0.627, 0.6291], [0.6246, 0.6267], [0.6224, 0.6245], [0.6204, 0.6224]]\n",
    "\n",
    "tra = [Lecce[i][0] for i in range(0, len(Lecce))]\n",
    "val = [Lecce[i][1] for i in range(0, len(Lecce))]\n",
    "\n",
    "tra_tot.append(tra)\n",
    "val_tot.append(val)"
   ]
  },
  {
   "cell_type": "code",
   "execution_count": 13,
   "id": "c62814cf",
   "metadata": {},
   "outputs": [],
   "source": [
    "Napoli = [[1.7846, 0.8371], [0.7976, 0.7544], [0.7259, 0.711], [0.7018, 0.6968], [0.69, 0.6871], [0.6811, 0.6792], [0.6738, 0.6724], [0.6674, 0.6663], [0.6618, 0.6609], [0.6569, 0.656], [0.6526, 0.6516], [0.6488, 0.6478], [0.6455, 0.6446], [0.6426, 0.6417], [0.6401, 0.6391], [0.6377, 0.6367], [0.6355, 0.6345], [0.6334, 0.6323], [0.6315, 0.6303], [0.6296, 0.6314]]\n",
    "\n",
    "tra = [Napoli[i][0] for i in range(0, len(Napoli))]\n",
    "val = [Napoli[i][1] for i in range(0, len(Napoli))]\n",
    "\n",
    "tra_tot.append(tra)\n",
    "val_tot.append(val)"
   ]
  },
  {
   "cell_type": "code",
   "execution_count": 14,
   "id": "7d3424e0",
   "metadata": {},
   "outputs": [],
   "source": [
    "Milan = [[1.7951, 0.864], [0.8185, 0.77], [0.7411, 0.7281], [0.716, 0.7115], [0.7024, 0.7], [0.6923, 0.691], [0.6842, 0.6837], [0.6774, 0.6775], [0.6715, 0.672], [0.6663, 0.6671], [0.6616, 0.6626], [0.6572, 0.6584], [0.6533, 0.6546], [0.6496, 0.6511], [0.6463, 0.6479], [0.6433, 0.6449], [0.6405, 0.6422], [0.638, 0.6397], [0.6356, 0.6374], [0.6334, 0.6353]]\n",
    "\n",
    "tra = [Milan[i][0] for i in range(0, len(Milan))]\n",
    "val = [Milan[i][1] for i in range(0, len(Milan))]\n",
    "\n",
    "tra_tot.append(tra)\n",
    "val_tot.append(val)"
   ]
  },
  {
   "cell_type": "code",
   "execution_count": 15,
   "id": "9d5130ce",
   "metadata": {},
   "outputs": [],
   "source": [
    "Parma = [[1.8145, 0.8912], [0.822, 0.7626], [0.7389, 0.7239], [0.7148, 0.7063], [0.7006, 0.6942], [0.6901, 0.6848], [0.6817, 0.677], [0.6747, 0.6704], [0.6685, 0.6646], [0.663, 0.6592], [0.6579, 0.6543], [0.6533, 0.6499], [0.6491, 0.6458], [0.6453, 0.6422], [0.6419, 0.639], [0.6388, 0.636], [0.636, 0.6334], [0.6335, 0.6309], [0.6311, 0.6287], [0.6289, 0.6296]]\n",
    "\n",
    "tra = [Parma[i][0] for i in range(0, len(Parma))]\n",
    "val = [Parma[i][1] for i in range(0, len(Parma))]\n",
    "\n",
    "tra_tot.append(tra)\n",
    "val_tot.append(val)"
   ]
  },
  {
   "cell_type": "code",
   "execution_count": 16,
   "id": "9b40dd0b",
   "metadata": {},
   "outputs": [],
   "source": [
    "Roma = [[1.781, 0.8424], [0.7977, 0.7531], [0.7307, 0.7123], [0.7079, 0.6969], [0.6958, 0.6867], [0.6869, 0.6787], [0.6795, 0.6719], [0.673, 0.6659], [0.6673, 0.6606], [0.662, 0.6558], [0.6572, 0.6515], [0.6529, 0.6477], [0.6491, 0.6443], [0.6457, 0.6413], [0.6426, 0.6387], [0.6399, 0.6363], [0.6374, 0.634], [0.6351, 0.632], [0.633, 0.6301], [0.631, 0.6283]]\n",
    "\n",
    "tra = [Roma[i][0] for i in range(0, len(Roma))]\n",
    "val = [Roma[i][1] for i in range(0, len(Roma))]\n",
    "\n",
    "tra_tot.append(tra)\n",
    "val_tot.append(val)"
   ]
  },
  {
   "cell_type": "code",
   "execution_count": 17,
   "id": "75fb6d4a",
   "metadata": {},
   "outputs": [],
   "source": [
    "Sampdoria = [[1.7843, 0.8633], [0.8096, 0.7645], [0.7379, 0.7238], [0.7128, 0.7062], [0.6981, 0.6944], [0.6874, 0.6855], [0.6789, 0.6782], [0.672, 0.6721], [0.666, 0.6667], [0.6608, 0.6619], [0.6562, 0.6576], [0.6521, 0.6537], [0.6484, 0.6502], [0.645, 0.6471], [0.6419, 0.6441], [0.639, 0.6414], [0.6363, 0.6389], [0.6337, 0.6365], [0.6313, 0.6342], [0.629, 0.6322]]\n",
    "\n",
    "tra = [Sampdoria[i][0] for i in range(0, len(Sampdoria))]\n",
    "val = [Sampdoria[i][1] for i in range(0, len(Sampdoria))]\n",
    "\n",
    "tra_tot.append(tra)\n",
    "val_tot.append(val)"
   ]
  },
  {
   "cell_type": "code",
   "execution_count": 18,
   "id": "49b6d2c0",
   "metadata": {},
   "outputs": [],
   "source": [
    "Sassuolo = [[1.7837, 0.8388], [0.8068, 0.7537], [0.7377, 0.7167], [0.7136, 0.7009], [0.7005, 0.6901], [0.6908, 0.6817], [0.683, 0.6748], [0.6766, 0.669], [0.671, 0.664], [0.6661, 0.6595], [0.6616, 0.6555], [0.6576, 0.6518], [0.654, 0.6485], [0.6506, 0.6455], [0.6475, 0.6426], [0.6446, 0.6399], [0.6419, 0.6373], [0.6392, 0.6348], [0.6365, 0.6323], [0.634, 0.6299]]\n",
    "\n",
    "tra = [Sassuolo[i][0] for i in range(0, len(Sassuolo))]\n",
    "val = [Sassuolo[i][1] for i in range(0, len(Sassuolo))]\n",
    "\n",
    "tra_tot.append(tra)\n",
    "val_tot.append(val)"
   ]
  },
  {
   "cell_type": "code",
   "execution_count": 19,
   "id": "8cf580e0",
   "metadata": {},
   "outputs": [],
   "source": [
    "Spal = [[1.7899, 0.8625], [0.8091, 0.7572], [0.7366, 0.7212], [0.7131, 0.7044], [0.6993, 0.6927], [0.6887, 0.6832], [0.6799, 0.6753], [0.6724, 0.6684], [0.6658, 0.6623], [0.6599, 0.6568], [0.6547, 0.652], [0.6501, 0.6479], [0.6462, 0.6443], [0.6427, 0.6412], [0.6395, 0.6383], [0.6366, 0.6356], [0.6339, 0.6331], [0.6314, 0.6309], [0.629, 0.6287], [0.6268, 0.6277]]\n",
    "\n",
    "tra = [Spal[i][0] for i in range(0, len(Spal))]\n",
    "val = [Spal[i][1] for i in range(0, len(Spal))]\n",
    "\n",
    "tra_tot.append(tra)\n",
    "val_tot.append(val)"
   ]
  },
  {
   "cell_type": "code",
   "execution_count": 20,
   "id": "2cd08ef5",
   "metadata": {},
   "outputs": [],
   "source": [
    "Torino = [[1.8071, 0.8825], [0.8269, 0.76], [0.7382, 0.7226], [0.7151, 0.7069], [0.7014, 0.6955], [0.6909, 0.6864], [0.6824, 0.679], [0.6753, 0.6726], [0.6688, 0.6668], [0.663, 0.6615], [0.6576, 0.6566], [0.6528, 0.6522], [0.6484, 0.6482], [0.6444, 0.6444], [0.6407, 0.641], [0.6373, 0.6378], [0.6342, 0.6348], [0.6313, 0.6321], [0.6285, 0.6295], [0.626, 0.6271]]\n",
    "tra = [Torino[i][0] for i in range(0, len(Torino))]\n",
    "val = [Torino[i][1] for i in range(0, len(Torino))]\n",
    "\n",
    "tra_tot.append(tra)\n",
    "val_tot.append(val)"
   ]
  },
  {
   "cell_type": "code",
   "execution_count": 21,
   "id": "f84dc170",
   "metadata": {},
   "outputs": [],
   "source": [
    "Udinese = [[1.7818, 0.8534], [0.8166, 0.7673], [0.7433, 0.723], [0.7171, 0.7069], [0.703, 0.6959], [0.6927, 0.6875], [0.6847, 0.6807], [0.678, 0.6748], [0.6722, 0.6695], [0.667, 0.6648], [0.6623, 0.6605], [0.658, 0.6565], [0.654, 0.6528], [0.6504, 0.6494], [0.647, 0.6462], [0.6438, 0.6432], [0.6409, 0.6404], [0.6381, 0.6378], [0.6356, 0.6353], [0.6332, 0.6331]]\n",
    "\n",
    "tra = [Udinese[i][0] for i in range(0, len(Udinese))]\n",
    "val = [Udinese[i][1] for i in range(0, len(Udinese))]\n",
    "\n",
    "tra_tot.append(tra)\n",
    "val_tot.append(val)"
   ]
  },
  {
   "cell_type": "code",
   "execution_count": 22,
   "id": "976fe037",
   "metadata": {},
   "outputs": [],
   "source": [
    "Verona = [[1.7921, 0.8643], [0.8067, 0.7608], [0.7315, 0.7225], [0.7072, 0.7049], [0.6932, 0.693], [0.683, 0.6838], [0.6748, 0.6764], [0.6679, 0.6699], [0.6617, 0.6638], [0.6559, 0.6581], [0.6503, 0.6526], [0.6451, 0.6476], [0.6405, 0.6433], [0.6366, 0.6397], [0.6332, 0.6365], [0.6303, 0.6336], [0.6276, 0.6311], [0.6252, 0.6287], [0.623, 0.6266], [0.621, 0.6246]]\n",
    "\n",
    "tra = [Verona[i][0] for i in range(0, len(Verona))]\n",
    "val = [Verona[i][1] for i in range(0, len(Verona))]\n",
    "\n",
    "tra_tot.append(tra)\n",
    "val_tot.append(val)"
   ]
  },
  {
   "cell_type": "code",
   "execution_count": 23,
   "id": "1ed08fa9",
   "metadata": {},
   "outputs": [],
   "source": [
    "all_tra = np.zeros((20, 20))\n",
    "\n",
    "for j in range(0, 20):\n",
    "    all_tra[j] = [tra_tot[i][j] for i in range(0, len(tra_tot))]\n",
    "    \n",
    "all_val = np.zeros((20, 20))\n",
    "\n",
    "for j in range(0, 20):\n",
    "    all_val[j] = [val_tot[i][j] for i in range(0, len(val_tot))]"
   ]
  },
  {
   "cell_type": "code",
   "execution_count": 24,
   "id": "32a745a8",
   "metadata": {},
   "outputs": [
    {
     "data": {
      "text/plain": [
       "<Figure size 2000x1000 with 1 Axes>"
      ]
     },
     "metadata": {},
     "output_type": "display_data"
    }
   ],
   "source": [
    "from matplotlib import pyplot as plt\n",
    "from matplotlib.pyplot import figure\n",
    "\n",
    "\n",
    "\n",
    "\n",
    "x = epo_tot\n",
    "y_val = np.mean(all_val, axis = 1)\n",
    "y_tra = np.mean(all_tra, axis = 1)\n",
    "\n",
    "\n",
    "ci_tra = np.std(all_tra, axis = 1) \n",
    "ci_val = np.std(all_val, axis = 1)\n",
    "\n",
    "fig, ax = plt.subplots(figsize=(20, 10))\n",
    "\n",
    "ax.set_xticks(x, minor=False)\n",
    "\n",
    "\n",
    "line1 = ax.plot(x,y_tra, label='Training')\n",
    "ax.fill_between(x, (y_tra-ci_tra), (y_tra+ci_tra), color='b', alpha=.1)\n",
    "\n",
    "line2 = ax.plot(x,y_val, label='Validation')\n",
    "ax.fill_between(x, (y_val-ci_val), (y_val+ci_val), color='r', alpha=.1)\n",
    "\n",
    "handles, labels = ax.get_legend_handles_labels()\n",
    "\n",
    "ax.set_ylabel('RMSE', fontsize=18)\n",
    "ax.set_xlabel('Epochs', fontsize=18)\n",
    "ax.legend(fontsize=18)\n",
    "plt.grid()\n",
    "plt.show()"
   ]
  },
  {
   "cell_type": "code",
   "execution_count": 25,
   "id": "1b2ac99b",
   "metadata": {},
   "outputs": [
    {
     "name": "stdout",
     "output_type": "stream",
     "text": [
      "The training result is: 0.6309 +/-0.0052\n",
      "The validation result is: 0.6326 +/-0.0052\n"
     ]
    }
   ],
   "source": [
    "print(f'The training result is: {np.round(np.mean(all_tra, axis = 1)[-1], 4)} +/-{np.round(np.std(all_tra, axis = 1)[-1], 4)}')\n",
    "print(f'The validation result is: {np.round(np.mean(all_val, axis = 1)[-1], 4)} +/-{np.round(np.std(all_val, axis = 1)[-1], 4)}')\n"
   ]
  },
  {
   "cell_type": "code",
   "execution_count": 26,
   "id": "e5793a28",
   "metadata": {},
   "outputs": [
    {
     "data": {
      "text/plain": [
       "array([1.7746, 0.8115, 0.738 , 0.7125, 0.6987, 0.6888, 0.6808, 0.6741,\n",
       "       0.6682, 0.663 , 0.6582, 0.6539, 0.65  , 0.6466, 0.6434, 0.6405,\n",
       "       0.6379, 0.6354, 0.6331, 0.6309])"
      ]
     },
     "execution_count": 26,
     "metadata": {},
     "output_type": "execute_result"
    }
   ],
   "source": [
    "np.round(np.mean(all_tra, axis = 1), 4)\n"
   ]
  },
  {
   "cell_type": "code",
   "execution_count": 27,
   "id": "9c03a9b6",
   "metadata": {},
   "outputs": [
    {
     "data": {
      "text/plain": [
       "array([0.0525, 0.0105, 0.0104, 0.0056, 0.0054, 0.0051, 0.005 , 0.0049,\n",
       "       0.0049, 0.005 , 0.005 , 0.0051, 0.0052, 0.0052, 0.0053, 0.0052,\n",
       "       0.0052, 0.0052, 0.0052, 0.0052])"
      ]
     },
     "execution_count": 27,
     "metadata": {},
     "output_type": "execute_result"
    }
   ],
   "source": [
    "np.round(np.std(all_tra, axis = 1), 4)\n"
   ]
  },
  {
   "cell_type": "code",
   "execution_count": 28,
   "id": "d8dae476",
   "metadata": {},
   "outputs": [
    {
     "data": {
      "text/plain": [
       "array([0.8608, 0.7626, 0.7233, 0.7059, 0.6948, 0.6862, 0.679 , 0.6729,\n",
       "       0.6674, 0.6624, 0.6579, 0.6539, 0.6502, 0.6469, 0.6439, 0.6412,\n",
       "       0.6386, 0.6362, 0.634 , 0.6326])"
      ]
     },
     "execution_count": 28,
     "metadata": {},
     "output_type": "execute_result"
    }
   ],
   "source": [
    "np.round(np.mean(all_val, axis = 1), 4)\n"
   ]
  },
  {
   "cell_type": "code",
   "execution_count": 29,
   "id": "987f3b4b",
   "metadata": {},
   "outputs": [
    {
     "data": {
      "text/plain": [
       "array([0.0154, 0.0115, 0.0074, 0.0056, 0.0053, 0.0051, 0.0049, 0.0048,\n",
       "       0.0048, 0.0049, 0.0049, 0.005 , 0.005 , 0.005 , 0.005 , 0.005 ,\n",
       "       0.005 , 0.005 , 0.005 , 0.0052])"
      ]
     },
     "execution_count": 29,
     "metadata": {},
     "output_type": "execute_result"
    }
   ],
   "source": [
    "np.round(np.std(all_val, axis = 1), 4)\n"
   ]
  }
 ],
 "metadata": {
  "kernelspec": {
   "display_name": "Python 3 (ipykernel)",
   "language": "python",
   "name": "python3"
  },
  "language_info": {
   "codemirror_mode": {
    "name": "ipython",
    "version": 3
   },
   "file_extension": ".py",
   "mimetype": "text/x-python",
   "name": "python",
   "nbconvert_exporter": "python",
   "pygments_lexer": "ipython3",
   "version": "3.7.4"
  }
 },
 "nbformat": 4,
 "nbformat_minor": 5
}
