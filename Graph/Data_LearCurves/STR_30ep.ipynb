{
 "cells": [
  {
   "cell_type": "code",
   "execution_count": 1,
   "id": "081d3fa0",
   "metadata": {},
   "outputs": [],
   "source": [
    "import numpy as np\n",
    "import plotly.express as px"
   ]
  },
  {
   "cell_type": "code",
   "execution_count": 2,
   "id": "b40e82cf",
   "metadata": {},
   "outputs": [],
   "source": [
    "epo_tot = [i for i in range(0, 30)]\n",
    "tra_tot = []\n",
    "val_tot = []"
   ]
  },
  {
   "cell_type": "code",
   "execution_count": 3,
   "id": "27860353",
   "metadata": {},
   "outputs": [],
   "source": [
    "Atalanta = [[0.7243, 0.5951], [0.5884, 0.5654], [0.5431, 0.57], [0.4996, 0.5103], [0.4571, 0.4624], [0.4211, 0.4271], [0.3921, 0.411], [0.3698, 0.4084], [0.3529, 0.3856], [0.3372, 0.3697], [0.3234, 0.3698], [0.3117, 0.348], [0.3033, 0.3567], [0.2968, 0.3387], [0.2883, 0.3412], [0.2807, 0.3399], [0.2724, 0.3207], [0.2669, 0.3195], [0.2622, 0.3263], [0.259, 0.3197], [0.2528, 0.3037], [0.2484, 0.2985], [0.2438, 0.3004], [0.2408, 0.2944], [0.2381, 0.2877], [0.2347, 0.2822], [0.2297, 0.2809], [0.2256, 0.2842], [0.2216, 0.2768], [0.2189, 0.2719]]\n",
    "\n",
    "tra = [Atalanta[i][0] for i in range(0, len(Atalanta))]\n",
    "val = [Atalanta[i][1] for i in range(0, len(Atalanta))]\n",
    "\n",
    "tra_tot.append(tra)\n",
    "val_tot.append(val)"
   ]
  },
  {
   "cell_type": "code",
   "execution_count": 4,
   "id": "a210cd5a",
   "metadata": {},
   "outputs": [],
   "source": [
    "Bologna = [[0.7373, 0.613], [0.5966, 0.583], [0.5519, 0.5452], [0.5055, 0.519], [0.4594, 0.4773], [0.4198, 0.4367], [0.3883, 0.4082], [0.3644, 0.3986], [0.3455, 0.3748], [0.33, 0.3629], [0.3178, 0.3575], [0.3078, 0.3462], [0.2986, 0.3565], [0.2906, 0.3296], [0.2821, 0.3152], [0.2774, 0.3261], [0.2707, 0.3371], [0.2648, 0.3196], [0.2567, 0.3041], [0.2522, 0.3026], [0.2474, 0.2972], [0.2425, 0.2986], [0.239, 0.2965], [0.2346, 0.297], [0.2321, 0.2817], [0.2292, 0.2854], [0.2238, 0.2791], [0.2207, 0.2717], [0.2175, 0.2758], [0.2143, 0.2651]]\n",
    "\n",
    "tra = [Bologna[i][0] for i in range(0, len(Bologna))]\n",
    "val = [Bologna[i][1] for i in range(0, len(Bologna))]\n",
    "\n",
    "tra_tot.append(tra)\n",
    "val_tot.append(val)"
   ]
  },
  {
   "cell_type": "code",
   "execution_count": 5,
   "id": "cf75f17d",
   "metadata": {},
   "outputs": [],
   "source": [
    "Brescia = [[0.7238, 0.6177], [0.5857, 0.5772], [0.532, 0.5419], [0.4801, 0.4997], [0.4334, 0.4732], [0.3984, 0.4448], [0.3717, 0.4106], [0.35, 0.3707], [0.3329, 0.3553], [0.3207, 0.355], [0.3093, 0.3355], [0.2975, 0.3268], [0.2895, 0.3219], [0.2818, 0.3165], [0.2753, 0.3103], [0.2678, 0.3025], [0.261, 0.3032], [0.2556, 0.2968], [0.2514, 0.2878], [0.2471, 0.2792], [0.2422, 0.2805], [0.2367, 0.2833], [0.2319, 0.2704], [0.2282, 0.2757], [0.2247, 0.2735], [0.2211, 0.2669], [0.2181, 0.2658], [0.2145, 0.2623], [0.2122, 0.2696], [0.2096, 0.2551]]\n",
    "\n",
    "tra = [Brescia[i][0] for i in range(0, len(Brescia))]\n",
    "val = [Brescia[i][1] for i in range(0, len(Brescia))]\n",
    "\n",
    "tra_tot.append(tra)\n",
    "val_tot.append(val)"
   ]
  },
  {
   "cell_type": "code",
   "execution_count": 6,
   "id": "01d98455",
   "metadata": {},
   "outputs": [],
   "source": [
    "Cagliari = [[0.7343, 0.6122], [0.5852, 0.5835], [0.5288, 0.5514], [0.4755, 0.4966], [0.4303, 0.4509], [0.3949, 0.4093], [0.3682, 0.425], [0.3462, 0.3966], [0.3292, 0.3658], [0.3174, 0.3472], [0.3049, 0.3317], [0.2949, 0.329], [0.2839, 0.3172], [0.2767, 0.3121], [0.27, 0.3042], [0.2666, 0.3003], [0.2601, 0.2994], [0.2533, 0.2901], [0.2471, 0.286], [0.2408, 0.288], [0.2367, 0.2745], [0.2324, 0.2767], [0.2289, 0.2683], [0.2254, 0.2691], [0.2222, 0.2722], [0.2212, 0.2711], [0.2171, 0.2626], [0.2117, 0.2663], [0.2085, 0.2633], [0.2048, 0.2604]]\n",
    "\n",
    "tra = [Cagliari[i][0] for i in range(0, len(Cagliari))]\n",
    "val = [Cagliari[i][1] for i in range(0, len(Cagliari))]\n",
    "\n",
    "tra_tot.append(tra)\n",
    "val_tot.append(val)"
   ]
  },
  {
   "cell_type": "code",
   "execution_count": 7,
   "id": "9b1e735d",
   "metadata": {},
   "outputs": [],
   "source": [
    "Fiorentina = [[0.7271, 0.6626], [0.5842, 0.5956], [0.5339, 0.587], [0.4836, 0.5246], [0.4381, 0.4476], [0.4034, 0.4352], [0.3743, 0.4083], [0.3532, 0.3817], [0.3353, 0.3652], [0.3219, 0.3486], [0.3108, 0.342], [0.3015, 0.3293], [0.2908, 0.329], [0.2831, 0.3246], [0.2748, 0.3141], [0.2697, 0.3122], [0.2647, 0.3046], [0.2589, 0.3055], [0.2522, 0.2978], [0.2462, 0.2882], [0.242, 0.2857], [0.2386, 0.2825], [0.234, 0.2772], [0.2322, 0.2721], [0.2282, 0.2824], [0.2224, 0.2667], [0.2195, 0.2725], [0.2153, 0.273], [0.213, 0.262], [0.2107, 0.2736]]\n",
    "\n",
    "tra = [Fiorentina[i][0] for i in range(0, len(Fiorentina))]\n",
    "val = [Fiorentina[i][1] for i in range(0, len(Fiorentina))]\n",
    "\n",
    "tra_tot.append(tra)\n",
    "val_tot.append(val)"
   ]
  },
  {
   "cell_type": "code",
   "execution_count": 8,
   "id": "da71fd6c",
   "metadata": {},
   "outputs": [],
   "source": [
    "Genoa = [[0.7457, 0.6237], [0.5977, 0.57], [0.5476, 0.5312], [0.4986, 0.493], [0.4534, 0.4598], [0.4159, 0.4383], [0.3869, 0.4187], [0.3634, 0.392], [0.3461, 0.3781], [0.3295, 0.3748], [0.3176, 0.3458], [0.3062, 0.3528], [0.2981, 0.3372], [0.2884, 0.3239], [0.281, 0.3159], [0.2734, 0.3186], [0.2693, 0.3174], [0.2629, 0.3097], [0.2565, 0.3026], [0.2492, 0.3039], [0.2439, 0.291], [0.2395, 0.2945], [0.2355, 0.287], [0.2313, 0.2852], [0.2289, 0.2845], [0.2265, 0.2796], [0.223, 0.2775], [0.2191, 0.2778], [0.2143, 0.2709], [0.2118, 0.2666]]\n",
    "\n",
    "tra = [Genoa[i][0] for i in range(0, len(Genoa))]\n",
    "val = [Genoa[i][1] for i in range(0, len(Genoa))]\n",
    "\n",
    "tra_tot.append(tra)\n",
    "val_tot.append(val)"
   ]
  },
  {
   "cell_type": "code",
   "execution_count": 9,
   "id": "0f0e6044",
   "metadata": {},
   "outputs": [],
   "source": [
    "Inter = [[0.7278, 0.6221], [0.5874, 0.6004], [0.5356, 0.5483], [0.4845, 0.4818], [0.4403, 0.454], [0.4036, 0.4223], [0.3752, 0.397], [0.3516, 0.3749], [0.3341, 0.3569], [0.3219, 0.347], [0.3094, 0.3381], [0.2988, 0.3302], [0.2899, 0.3257], [0.2801, 0.3129], [0.273, 0.3048], [0.2656, 0.3058], [0.2616, 0.3002], [0.2574, 0.2973], [0.2501, 0.2865], [0.2438, 0.2833], [0.2403, 0.2872], [0.2358, 0.2786], [0.2306, 0.275], [0.2272, 0.2695], [0.2241, 0.2738], [0.2224, 0.2703], [0.2207, 0.2719], [0.2144, 0.2703], [0.2105, 0.2658], [0.2075, 0.2548]]\n",
    "\n",
    "tra = [Inter[i][0] for i in range(0, len(Inter))]\n",
    "val = [Inter[i][1] for i in range(0, len(Inter))]\n",
    "\n",
    "tra_tot.append(tra)\n",
    "val_tot.append(val)"
   ]
  },
  {
   "cell_type": "code",
   "execution_count": 10,
   "id": "562ce63c",
   "metadata": {},
   "outputs": [],
   "source": [
    "Juventus = [[0.7389, 0.6697], [0.6009, 0.5931], [0.5487, 0.5495], [0.4986, 0.5147], [0.4511, 0.5008], [0.413, 0.4454], [0.3831, 0.4166], [0.3602, 0.381], [0.3421, 0.3724], [0.3279, 0.3517], [0.3171, 0.3407], [0.3066, 0.3282], [0.2981, 0.3274], [0.2887, 0.316], [0.2806, 0.3139], [0.2733, 0.3151], [0.2682, 0.3119], [0.2627, 0.3074], [0.2564, 0.2981], [0.2514, 0.2885], [0.2477, 0.2866], [0.2436, 0.2965], [0.2372, 0.2874], [0.2334, 0.2776], [0.2283, 0.2757], [0.224, 0.2781], [0.2207, 0.2717], [0.2175, 0.2703], [0.214, 0.2682], [0.2124, 0.2605]]\n",
    "\n",
    "tra = [Juventus[i][0] for i in range(0, len(Juventus))]\n",
    "val = [Juventus[i][1] for i in range(0, len(Juventus))]\n",
    "\n",
    "tra_tot.append(tra)\n",
    "val_tot.append(val)"
   ]
  },
  {
   "cell_type": "code",
   "execution_count": 11,
   "id": "81cc19fa",
   "metadata": {},
   "outputs": [],
   "source": [
    "Lazio = [[0.7346, 0.6255], [0.5931, 0.5672], [0.5474, 0.555], [0.5034, 0.5186], [0.4628, 0.4618], [0.427, 0.4384], [0.3976, 0.4322], [0.3751, 0.3924], [0.356, 0.3947], [0.341, 0.3808], [0.3274, 0.3579], [0.3174, 0.361], [0.3077, 0.3452], [0.2985, 0.3287], [0.2897, 0.3209], [0.2831, 0.32], [0.2757, 0.3224], [0.271, 0.3182], [0.2665, 0.3105], [0.2619, 0.3144], [0.2564, 0.3088], [0.2531, 0.2998], [0.2468, 0.3007], [0.2408, 0.2888], [0.2364, 0.284], [0.2329, 0.2837], [0.23, 0.279], [0.2262, 0.2775], [0.223, 0.278], [0.2215, 0.2763]]\n",
    "\n",
    "tra = [Lazio[i][0] for i in range(0, len(Lazio))]\n",
    "val = [Lazio[i][1] for i in range(0, len(Lazio))]\n",
    "\n",
    "tra_tot.append(tra)\n",
    "val_tot.append(val)"
   ]
  },
  {
   "cell_type": "code",
   "execution_count": 12,
   "id": "71f90ff5",
   "metadata": {},
   "outputs": [],
   "source": [
    "Lecce = [[0.7244, 0.6639], [0.5836, 0.6192], [0.5388, 0.5455], [0.4932, 0.507], [0.4522, 0.4618], [0.4142, 0.4343], [0.3832, 0.3986], [0.3615, 0.389], [0.3412, 0.363], [0.3265, 0.3648], [0.3143, 0.3434], [0.3043, 0.3309], [0.2935, 0.3268], [0.2867, 0.3167], [0.2794, 0.3115], [0.2707, 0.2977], [0.264, 0.3002], [0.2586, 0.2997], [0.2546, 0.2904], [0.2504, 0.2931], [0.2463, 0.2926], [0.2408, 0.2854], [0.2362, 0.2786], [0.2309, 0.2768], [0.2265, 0.2763], [0.2237, 0.2812], [0.2211, 0.268], [0.2172, 0.2674], [0.2151, 0.2718], [0.2128, 0.2659]]\n",
    "\n",
    "tra = [Lecce[i][0] for i in range(0, len(Lecce))]\n",
    "val = [Lecce[i][1] for i in range(0, len(Lecce))]\n",
    "\n",
    "tra_tot.append(tra)\n",
    "val_tot.append(val)"
   ]
  },
  {
   "cell_type": "code",
   "execution_count": 13,
   "id": "482a997b",
   "metadata": {},
   "outputs": [],
   "source": [
    "Milan = [[0.7328, 0.6173], [0.5885, 0.5779], [0.5359, 0.5331], [0.4849, 0.5139], [0.4384, 0.477], [0.4013, 0.4134], [0.374, 0.3946], [0.3503, 0.3719], [0.3347, 0.3593], [0.3203, 0.3428], [0.3074, 0.3365], [0.2962, 0.3297], [0.2895, 0.3225], [0.2826, 0.3198], [0.275, 0.3036], [0.2672, 0.301], [0.2619, 0.2964], [0.2543, 0.294], [0.2497, 0.2906], [0.2466, 0.29], [0.2435, 0.2809], [0.2392, 0.2769], [0.2335, 0.2711], [0.2289, 0.269], [0.2251, 0.2642], [0.2215, 0.2658], [0.2177, 0.2703], [0.2143, 0.2608], [0.2115, 0.257], [0.2086, 0.2556]]\n",
    "\n",
    "tra = [Milan[i][0] for i in range(0, len(Milan))]\n",
    "val = [Milan[i][1] for i in range(0, len(Milan))]\n",
    "\n",
    "tra_tot.append(tra)\n",
    "val_tot.append(val)"
   ]
  },
  {
   "cell_type": "code",
   "execution_count": 14,
   "id": "e17ee6ce",
   "metadata": {},
   "outputs": [],
   "source": [
    "Napoli = [[0.7303, 0.624], [0.5937, 0.5914], [0.5551, 0.5838], [0.5166, 0.5081], [0.4748, 0.4636], [0.4369, 0.4468], [0.4059, 0.4356], [0.3812, 0.4091], [0.3615, 0.393], [0.345, 0.3634], [0.331, 0.3608], [0.319, 0.3606], [0.311, 0.3585], [0.3011, 0.3298], [0.2922, 0.3375], [0.2839, 0.3313], [0.277, 0.3229], [0.2714, 0.3103], [0.266, 0.307], [0.2636, 0.3015], [0.2597, 0.2941], [0.2526, 0.3031], [0.2465, 0.2839], [0.244, 0.2873], [0.2408, 0.2898], [0.2362, 0.2876], [0.2318, 0.2848], [0.2281, 0.2796], [0.2237, 0.272], [0.2206, 0.2744]]\n",
    "\n",
    "tra = [Napoli[i][0] for i in range(0, len(Napoli))]\n",
    "val = [Napoli[i][1] for i in range(0, len(Napoli))]\n",
    "\n",
    "tra_tot.append(tra)\n",
    "val_tot.append(val)"
   ]
  },
  {
   "cell_type": "code",
   "execution_count": 15,
   "id": "cb3b52b2",
   "metadata": {},
   "outputs": [],
   "source": [
    "Parma = [[0.7303, 0.629], [0.5895, 0.5752], [0.5452, 0.5365], [0.5034, 0.4902], [0.4605, 0.4925], [0.4225, 0.4611], [0.394, 0.4181], [0.3697, 0.4192], [0.3503, 0.3946], [0.3357, 0.3808], [0.32, 0.3753], [0.3102, 0.3462], [0.301, 0.3395], [0.2938, 0.3272], [0.2853, 0.3226], [0.278, 0.321], [0.2711, 0.3168], [0.2647, 0.3109], [0.2603, 0.3047], [0.2558, 0.2944], [0.2519, 0.297], [0.2454, 0.2941], [0.2394, 0.2902], [0.2353, 0.2836], [0.231, 0.2821], [0.2275, 0.2888], [0.2242, 0.277], [0.2209, 0.2745], [0.2176, 0.2679], [0.2151, 0.2794]]\n",
    "\n",
    "tra = [Parma[i][0] for i in range(0, len(Parma))]\n",
    "val = [Parma[i][1] for i in range(0, len(Parma))]\n",
    "\n",
    "tra_tot.append(tra)\n",
    "val_tot.append(val)"
   ]
  },
  {
   "cell_type": "code",
   "execution_count": 16,
   "id": "926c8117",
   "metadata": {},
   "outputs": [],
   "source": [
    "Roma = [[0.73, 0.648], [0.5934, 0.5879], [0.5473, 0.5331], [0.5025, 0.5151], [0.4574, 0.4713], [0.4197, 0.4315], [0.3903, 0.4062], [0.365, 0.378], [0.3446, 0.3619], [0.3295, 0.3551], [0.318, 0.3613], [0.306, 0.3426], [0.2976, 0.3436], [0.2897, 0.3531], [0.2817, 0.3264], [0.2743, 0.3136], [0.2683, 0.309], [0.262, 0.3154], [0.2559, 0.31], [0.2502, 0.2998], [0.2465, 0.2895], [0.242, 0.2851], [0.2387, 0.2806], [0.235, 0.2831], [0.2312, 0.277], [0.2268, 0.2756], [0.2213, 0.2705], [0.2184, 0.2725], [0.2155, 0.2588], [0.212, 0.2596]]\n",
    "\n",
    "tra = [Roma[i][0] for i in range(0, len(Roma))]\n",
    "val = [Roma[i][1] for i in range(0, len(Roma))]\n",
    "\n",
    "tra_tot.append(tra)\n",
    "val_tot.append(val)"
   ]
  },
  {
   "cell_type": "code",
   "execution_count": 17,
   "id": "5e568bec",
   "metadata": {},
   "outputs": [],
   "source": [
    "Sampdoria = [[0.7282, 0.6067], [0.5903, 0.5676], [0.5412, 0.5442], [0.4932, 0.5012], [0.4466, 0.4448], [0.4092, 0.4201], [0.3791, 0.3912], [0.3568, 0.3772], [0.3385, 0.3665], [0.3233, 0.3662], [0.3111, 0.3518], [0.3017, 0.3266], [0.2923, 0.3163], [0.284, 0.3169], [0.2764, 0.3137], [0.271, 0.304], [0.2633, 0.3024], [0.2577, 0.2901], [0.2519, 0.2872], [0.2479, 0.2784], [0.2425, 0.2809], [0.2369, 0.2818], [0.2337, 0.2713], [0.2289, 0.2774], [0.2247, 0.2737], [0.2226, 0.2663], [0.2193, 0.2653], [0.2178, 0.2627], [0.2153, 0.2563], [0.2103, 0.261]]\n",
    "\n",
    "tra = [Sampdoria[i][0] for i in range(0, len(Sampdoria))]\n",
    "val = [Sampdoria[i][1] for i in range(0, len(Sampdoria))]\n",
    "\n",
    "tra_tot.append(tra)\n",
    "val_tot.append(val)"
   ]
  },
  {
   "cell_type": "code",
   "execution_count": 18,
   "id": "5a88804b",
   "metadata": {},
   "outputs": [],
   "source": [
    "Sassuolo = [[0.7357, 0.6074], [0.5955, 0.565], [0.5502, 0.5309], [0.5071, 0.5169], [0.4637, 0.4696], [0.4271, 0.4429], [0.3967, 0.4133], [0.3726, 0.3919], [0.355, 0.3744], [0.3383, 0.3716], [0.3255, 0.3598], [0.314, 0.3583], [0.3066, 0.3606], [0.296, 0.3577], [0.2882, 0.3524], [0.2811, 0.3281], [0.274, 0.3268], [0.2674, 0.3197], [0.2629, 0.3084], [0.2596, 0.3037], [0.2536, 0.2984], [0.2478, 0.3029], [0.2417, 0.2928], [0.2377, 0.2829], [0.2341, 0.2773], [0.2299, 0.2781], [0.2267, 0.2864], [0.2237, 0.2782], [0.2219, 0.2726], [0.2199, 0.2719]]\n",
    "\n",
    "tra = [Sassuolo[i][0] for i in range(0, len(Sassuolo))]\n",
    "val = [Sassuolo[i][1] for i in range(0, len(Sassuolo))]\n",
    "\n",
    "tra_tot.append(tra)\n",
    "val_tot.append(val)"
   ]
  },
  {
   "cell_type": "code",
   "execution_count": 19,
   "id": "91aefb03",
   "metadata": {},
   "outputs": [],
   "source": [
    "Spal = [[0.72, 0.6093], [0.5713, 0.5588], [0.512, 0.5055], [0.4585, 0.4513], [0.4166, 0.4181], [0.383, 0.4034], [0.36, 0.3909], [0.3403, 0.373], [0.3245, 0.3578], [0.3111, 0.338], [0.2995, 0.3327], [0.2916, 0.3283], [0.2837, 0.3238], [0.2757, 0.3091], [0.2685, 0.3009], [0.2613, 0.2922], [0.256, 0.2907], [0.2507, 0.2881], [0.2461, 0.2877], [0.2429, 0.2873], [0.237, 0.2687], [0.2311, 0.2724], [0.2267, 0.2719], [0.2231, 0.2742], [0.219, 0.2639], [0.2157, 0.2562], [0.2126, 0.2532], [0.2119, 0.2496], [0.2082, 0.2498], [0.2042, 0.2468]]\n",
    "\n",
    "tra = [Spal[i][0] for i in range(0, len(Spal))]\n",
    "val = [Spal[i][1] for i in range(0, len(Spal))]\n",
    "\n",
    "tra_tot.append(tra)\n",
    "val_tot.append(val)"
   ]
  },
  {
   "cell_type": "code",
   "execution_count": 20,
   "id": "cb45dccd",
   "metadata": {},
   "outputs": [],
   "source": [
    "Torino = [[0.7238, 0.6379], [0.5676, 0.5556], [0.5034, 0.5048], [0.4451, 0.4591], [0.3987, 0.4171], [0.3658, 0.3939], [0.3427, 0.3719], [0.3258, 0.3624], [0.311, 0.3441], [0.2987, 0.3436], [0.2881, 0.3257], [0.2805, 0.323], [0.2718, 0.3021], [0.2634, 0.2931], [0.2575, 0.2926], [0.2532, 0.2907], [0.2463, 0.279], [0.2412, 0.2716], [0.2372, 0.269], [0.2323, 0.2723], [0.2277, 0.2669], [0.2227, 0.2712], [0.2189, 0.2663], [0.2189, 0.2657], [0.2143, 0.2536], [0.209, 0.251], [0.2038, 0.2476], [0.2004, 0.2466], [0.198, 0.2436], [0.1952, 0.2399]]\n",
    "\n",
    "tra = [Torino[i][0] for i in range(0, len(Torino))]\n",
    "val = [Torino[i][1] for i in range(0, len(Torino))]\n",
    "\n",
    "tra_tot.append(tra)\n",
    "val_tot.append(val)"
   ]
  },
  {
   "cell_type": "code",
   "execution_count": 21,
   "id": "ac0ffcc1",
   "metadata": {},
   "outputs": [],
   "source": [
    "Udinese = [[0.7338, 0.671], [0.5834, 0.5916], [0.526, 0.5134], [0.4726, 0.491], [0.4257, 0.4475], [0.3918, 0.4112], [0.3653, 0.386], [0.3446, 0.3955], [0.3289, 0.3714], [0.3146, 0.3778], [0.3028, 0.347], [0.2932, 0.3192], [0.2857, 0.3221], [0.2776, 0.3137], [0.2689, 0.3036], [0.2626, 0.3039], [0.2556, 0.2976], [0.2505, 0.2912], [0.2467, 0.2909], [0.2439, 0.2876], [0.2388, 0.2848], [0.232, 0.278], [0.2263, 0.2668], [0.2221, 0.2712], [0.2192, 0.2631], [0.2176, 0.269], [0.2151, 0.26], [0.2109, 0.2589], [0.2059, 0.2532], [0.2025, 0.2591]]\n",
    "\n",
    "tra = [Udinese[i][0] for i in range(0, len(Udinese))]\n",
    "val = [Udinese[i][1] for i in range(0, len(Udinese))]\n",
    "\n",
    "tra_tot.append(tra)\n",
    "val_tot.append(val)"
   ]
  },
  {
   "cell_type": "code",
   "execution_count": 22,
   "id": "047853d5",
   "metadata": {},
   "outputs": [],
   "source": [
    "Verona = [[0.7232, 0.6328], [0.5852, 0.5952], [0.5337, 0.5496], [0.4815, 0.5008], [0.4347, 0.4593], [0.3963, 0.4195], [0.3682, 0.3855], [0.3477, 0.3652], [0.3313, 0.3496], [0.3186, 0.3539], [0.3066, 0.3393], [0.2966, 0.3365], [0.2868, 0.3177], [0.2792, 0.3101], [0.2722, 0.304], [0.2655, 0.305], [0.2598, 0.2955], [0.2551, 0.2955], [0.2485, 0.2855], [0.2427, 0.2807], [0.2378, 0.272], [0.2332, 0.2716], [0.2292, 0.2718], [0.2259, 0.2693], [0.2225, 0.2666], [0.2208, 0.2711], [0.2178, 0.2564], [0.2134, 0.2558], [0.2097, 0.2553], [0.206, 0.2506]]\n",
    "\n",
    "tra = [Verona[i][0] for i in range(0, len(Verona))]\n",
    "val = [Verona[i][1] for i in range(0, len(Verona))]\n",
    "\n",
    "tra_tot.append(tra)\n",
    "val_tot.append(val)"
   ]
  },
  {
   "cell_type": "code",
   "execution_count": 30,
   "id": "91ef8e10",
   "metadata": {},
   "outputs": [
    {
     "data": {
      "text/plain": [
       "0.7243"
      ]
     },
     "execution_count": 30,
     "metadata": {},
     "output_type": "execute_result"
    }
   ],
   "source": [
    "tra_tot[0][0]"
   ]
  },
  {
   "cell_type": "code",
   "execution_count": 31,
   "id": "4608deb0",
   "metadata": {},
   "outputs": [
    {
     "data": {
      "text/plain": [
       "array([0., 0., 0., 0., 0., 0., 0., 0., 0., 0., 0., 0., 0., 0., 0., 0., 0.,\n",
       "       0., 0., 0., 0., 0., 0., 0., 0., 0., 0., 0., 0., 0.])"
      ]
     },
     "execution_count": 31,
     "metadata": {},
     "output_type": "execute_result"
    }
   ],
   "source": [
    "all_tra = np.zeros((20, 30))\n",
    "all_tra[j]"
   ]
  },
  {
   "cell_type": "code",
   "execution_count": 33,
   "id": "a347f38d",
   "metadata": {},
   "outputs": [],
   "source": [
    "all_tra = np.zeros((30, 20))\n",
    "\n",
    "for j in range(0, 30):\n",
    "    all_tra[j] = [tra_tot[i][j] for i in range(0, len(tra_tot))]\n",
    "    \n",
    "all_val = np.zeros((30, 20))\n",
    "\n",
    "for j in range(0, 30):\n",
    "    all_val[j] = [val_tot[i][j] for i in range(0, len(val_tot))]"
   ]
  },
  {
   "cell_type": "code",
   "execution_count": 36,
   "id": "32a745a8",
   "metadata": {},
   "outputs": [
    {
     "data": {
      "image/png": "[encoded data removed]",
      "text/plain": [
       "<Figure size 1440x720 with 1 Axes>"
      ]
     },
     "metadata": {
      "needs_background": "light"
     },
     "output_type": "display_data"
    }
   ],
   "source": [
    "from matplotlib import pyplot as plt\n",
    "from matplotlib.pyplot import figure\n",
    "\n",
    "\n",
    "\n",
    "\n",
    "x = epo_tot\n",
    "y_val = np.mean(all_val, axis = 1)\n",
    "y_tra = np.mean(all_tra, axis = 1)\n",
    "\n",
    "\n",
    "ci_tra = np.std(all_tra, axis = 1) \n",
    "ci_val = np.std(all_val, axis = 1)\n",
    "\n",
    "fig, ax = plt.subplots(figsize=(20, 10))\n",
    "\n",
    "ax.set_xticks(x, minor=False)\n",
    "\n",
    "\n",
    "line1 = ax.plot(x,y_tra, label='Training')\n",
    "ax.fill_between(x, (y_tra-ci_tra), (y_tra+ci_tra), color='b', alpha=.1)\n",
    "\n",
    "line2 = ax.plot(x,y_val, label='Validation')\n",
    "ax.fill_between(x, (y_val-ci_val), (y_val+ci_val), color='r', alpha=.1)\n",
    "\n",
    "handles, labels = ax.get_legend_handles_labels()\n",
    "\n",
    "ax.set_ylabel('RMSE', fontsize=18)\n",
    "ax.set_xlabel('Epochs', fontsize=18)\n",
    "ax.legend(fontsize=18)\n",
    "plt.grid()\n",
    "plt.show()"
   ]
  },
  {
   "cell_type": "code",
   "execution_count": 37,
   "id": "1b2ac99b",
   "metadata": {},
   "outputs": [
    {
     "name": "stdout",
     "output_type": "stream",
     "text": [
      "The training result is: 0.2109 +/- 0.0064\n",
      "The validation result is: 0.2624 +/- 0.0101\n"
     ]
    }
   ],
   "source": [
    "print(f'The training result is: {np.round(np.mean(all_tra, axis = 1)[-1], 4)} +/- {np.round(np.std(all_tra, axis = 1)[-1], 4)}')\n",
    "print(f'The validation result is: {np.round(np.mean(all_val, axis = 1)[-1], 4)} +/- {np.round(np.std(all_val, axis = 1)[-1], 4)}')\n"
   ]
  },
  {
   "cell_type": "code",
   "execution_count": 38,
   "id": "cd6bd02c",
   "metadata": {},
   "outputs": [
    {
     "data": {
      "text/plain": [
       "array([0.7303, 0.5881, 0.5379, 0.4894, 0.4448, 0.4082, 0.3798, 0.3575,\n",
       "       0.3398, 0.3255, 0.3131, 0.3028, 0.294 , 0.2857, 0.278 , 0.2713,\n",
       "       0.2651, 0.2594, 0.2539, 0.2494, 0.2447, 0.2397, 0.2349, 0.2312,\n",
       "       0.2276, 0.2243, 0.2207, 0.2171, 0.2138, 0.2109])"
      ]
     },
     "execution_count": 38,
     "metadata": {},
     "output_type": "execute_result"
    }
   ],
   "source": [
    "np.round(np.mean(all_tra, axis = 1), 4)\n"
   ]
  },
  {
   "cell_type": "code",
   "execution_count": 39,
   "id": "62bb3916",
   "metadata": {},
   "outputs": [
    {
     "data": {
      "text/plain": [
       "array([0.0062, 0.0079, 0.0128, 0.017 , 0.0178, 0.0166, 0.0146, 0.0131,\n",
       "       0.0119, 0.0108, 0.01  , 0.0092, 0.0093, 0.009 , 0.0084, 0.0078,\n",
       "       0.0075, 0.0073, 0.0072, 0.0076, 0.0075, 0.0074, 0.0069, 0.0065,\n",
       "       0.0066, 0.0063, 0.0062, 0.0062, 0.0061, 0.0064])"
      ]
     },
     "execution_count": 39,
     "metadata": {},
     "output_type": "execute_result"
    }
   ],
   "source": [
    "np.round(np.std(all_tra, axis = 1), 4)\n"
   ]
  },
  {
   "cell_type": "code",
   "execution_count": 40,
   "id": "01e136eb",
   "metadata": {},
   "outputs": [
    {
     "data": {
      "text/plain": [
       "array([0.6294, 0.581 , 0.543 , 0.5006, 0.4605, 0.4288, 0.406 , 0.3864,\n",
       "       0.3692, 0.3598, 0.3476, 0.3377, 0.3325, 0.3225, 0.3155, 0.3114,\n",
       "       0.3077, 0.3025, 0.2966, 0.2928, 0.287 , 0.2866, 0.2804, 0.2785,\n",
       "       0.2752, 0.2737, 0.27  , 0.268 , 0.2644, 0.2624])"
      ]
     },
     "execution_count": 40,
     "metadata": {},
     "output_type": "execute_result"
    }
   ],
   "source": [
    "np.round(np.mean(all_val, axis = 1), 4)\n"
   ]
  },
  {
   "cell_type": "code",
   "execution_count": 41,
   "id": "43df0598",
   "metadata": {},
   "outputs": [
    {
     "data": {
      "text/plain": [
       "array([0.0219, 0.0156, 0.0211, 0.0188, 0.02  , 0.0165, 0.016 , 0.015 ,\n",
       "       0.0141, 0.013 , 0.0132, 0.0128, 0.016 , 0.0146, 0.0144, 0.0131,\n",
       "       0.0137, 0.0128, 0.0125, 0.0119, 0.011 , 0.0106, 0.011 , 0.0087,\n",
       "       0.009 , 0.0099, 0.0101, 0.0099, 0.0094, 0.0101])"
      ]
     },
     "execution_count": 41,
     "metadata": {},
     "output_type": "execute_result"
    }
   ],
   "source": [
    "np.round(np.std(all_val, axis = 1), 4)"
   ]
  },
  {
   "cell_type": "code",
   "execution_count": null,
   "id": "f9b2cdaf",
   "metadata": {},
   "outputs": [],
   "source": []
  }
 ],
 "metadata": {
  "kernelspec": {
   "display_name": "Python 3 (ipykernel)",
   "language": "python",
   "name": "python3"
  },
  "language_info": {
   "codemirror_mode": {
    "name": "ipython",
    "version": 3
   },
   "file_extension": ".py",
   "mimetype": "text/x-python",
   "name": "python",
   "nbconvert_exporter": "python",
   "pygments_lexer": "ipython3",
   "version": "3.7.4"
  }
 },
 "nbformat": 4,
 "nbformat_minor": 5
}
