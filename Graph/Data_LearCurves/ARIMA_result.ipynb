{
 "cells": [
  {
   "cell_type": "code",
   "execution_count": 1,
   "id": "9e20ffc1",
   "metadata": {},
   "outputs": [],
   "source": [
    "import numpy as np"
   ]
  },
  {
   "cell_type": "code",
   "execution_count": 2,
   "id": "41c5c1c6",
   "metadata": {},
   "outputs": [],
   "source": [
    "res = []"
   ]
  },
  {
   "cell_type": "markdown",
   "id": "06367a94",
   "metadata": {},
   "source": [
    "# Data first tier team"
   ]
  },
  {
   "cell_type": "code",
   "execution_count": 3,
   "id": "fdde4125",
   "metadata": {},
   "outputs": [],
   "source": [
    "Lazio = 1.2992\n",
    "\n",
    "res.append(Lazio)"
   ]
  },
  {
   "cell_type": "code",
   "execution_count": 4,
   "id": "e4991ed7",
   "metadata": {},
   "outputs": [],
   "source": [
    "Inter = 1.2580\n",
    "\n",
    "res.append(Inter)"
   ]
  },
  {
   "cell_type": "markdown",
   "id": "6906f28e",
   "metadata": {},
   "source": [
    "# Data second tier team"
   ]
  },
  {
   "cell_type": "code",
   "execution_count": 5,
   "id": "3f7b743f",
   "metadata": {},
   "outputs": [],
   "source": [
    "Udinese = 1.0354\n",
    "\n",
    "res.append(Udinese)"
   ]
  },
  {
   "cell_type": "code",
   "execution_count": 6,
   "id": "59b748e5",
   "metadata": {},
   "outputs": [],
   "source": [
    "Sampdoria = 1.0047\n",
    "\n",
    "res.append(Sampdoria)"
   ]
  },
  {
   "cell_type": "markdown",
   "id": "03b0a272",
   "metadata": {},
   "source": [
    "# Data third tier team"
   ]
  },
  {
   "cell_type": "code",
   "execution_count": 7,
   "id": "17e0681a",
   "metadata": {},
   "outputs": [],
   "source": [
    "Lecce = 1.1512\n",
    "\n",
    "res.append(Lecce)"
   ]
  },
  {
   "cell_type": "code",
   "execution_count": 8,
   "id": "e70dba1a",
   "metadata": {},
   "outputs": [],
   "source": [
    "Genoa = 1.6232\n",
    "\n",
    "res.append(Genoa)"
   ]
  },
  {
   "cell_type": "code",
   "execution_count": 9,
   "id": "b542e8b1",
   "metadata": {},
   "outputs": [
    {
     "name": "stdout",
     "output_type": "stream",
     "text": [
      "1.2286\n"
     ]
    }
   ],
   "source": [
    "print(np.round(np.mean(res), 4))"
   ]
  },
  {
   "cell_type": "code",
   "execution_count": 10,
   "id": "80ce9d35",
   "metadata": {},
   "outputs": [
    {
     "name": "stdout",
     "output_type": "stream",
     "text": [
      "0.2062\n"
     ]
    }
   ],
   "source": [
    "print(np.round(np.std(res), 4))"
   ]
  }
 ],
 "metadata": {
  "kernelspec": {
   "display_name": "Python 3 (ipykernel)",
   "language": "python",
   "name": "python3"
  },
  "language_info": {
   "codemirror_mode": {
    "name": "ipython",
    "version": 3
   },
   "file_extension": ".py",
   "mimetype": "text/x-python",
   "name": "python",
   "nbconvert_exporter": "python",
   "pygments_lexer": "ipython3",
   "version": "3.7.4"
  }
 },
 "nbformat": 4,
 "nbformat_minor": 5
}
