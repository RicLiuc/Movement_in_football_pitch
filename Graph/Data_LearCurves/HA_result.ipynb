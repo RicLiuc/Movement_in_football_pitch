{
 "cells": [
  {
   "cell_type": "code",
   "execution_count": 1,
   "id": "937b4f85",
   "metadata": {},
   "outputs": [],
   "source": [
    "import numpy as np"
   ]
  },
  {
   "cell_type": "code",
   "execution_count": 2,
   "id": "d0fa0c53",
   "metadata": {},
   "outputs": [],
   "source": [
    "res = []"
   ]
  },
  {
   "cell_type": "code",
   "execution_count": 3,
   "id": "ebe0c79a",
   "metadata": {},
   "outputs": [],
   "source": [
    "Atalanta = 0.7701\n",
    "\n",
    "res.append(Atalanta)"
   ]
  },
  {
   "cell_type": "code",
   "execution_count": 4,
   "id": "089b4109",
   "metadata": {},
   "outputs": [],
   "source": [
    "Bologna = 0.7573\n",
    "\n",
    "res.append(Bologna)"
   ]
  },
  {
   "cell_type": "code",
   "execution_count": 5,
   "id": "f2fc7129",
   "metadata": {},
   "outputs": [],
   "source": [
    "Brescia = 0.7650\n",
    "\n",
    "res.append(Brescia)"
   ]
  },
  {
   "cell_type": "code",
   "execution_count": 6,
   "id": "1b3547d5",
   "metadata": {},
   "outputs": [],
   "source": [
    "Cagliari = 0.7590\n",
    "\n",
    "res.append(Cagliari)"
   ]
  },
  {
   "cell_type": "code",
   "execution_count": 7,
   "id": "a4b83c76",
   "metadata": {},
   "outputs": [],
   "source": [
    "Fiorentina = 0.7650\n",
    "\n",
    "res.append(Fiorentina)"
   ]
  },
  {
   "cell_type": "code",
   "execution_count": 8,
   "id": "1d5bd4a3",
   "metadata": {},
   "outputs": [],
   "source": [
    "Genoa = 0.7604\n",
    "\n",
    "res.append(Genoa)"
   ]
  },
  {
   "cell_type": "code",
   "execution_count": 9,
   "id": "3abfe0e7",
   "metadata": {},
   "outputs": [],
   "source": [
    "Inter = 0.7699\n",
    "\n",
    "res.append(Inter)"
   ]
  },
  {
   "cell_type": "code",
   "execution_count": 10,
   "id": "9d437655",
   "metadata": {},
   "outputs": [],
   "source": [
    "Juventus = 0.7819\n",
    "\n",
    "res.append(Juventus)"
   ]
  },
  {
   "cell_type": "code",
   "execution_count": 11,
   "id": "77e02560",
   "metadata": {},
   "outputs": [],
   "source": [
    "Lazio = 0.7734\n",
    "\n",
    "res.append(Lazio)"
   ]
  },
  {
   "cell_type": "code",
   "execution_count": 12,
   "id": "30292b6b",
   "metadata": {},
   "outputs": [],
   "source": [
    "Lecce = 0.7574\n",
    "\n",
    "res.append(Lecce)"
   ]
  },
  {
   "cell_type": "code",
   "execution_count": 13,
   "id": "45930098",
   "metadata": {},
   "outputs": [],
   "source": [
    "Milan = 0.7587\n",
    "\n",
    "res.append(Milan)"
   ]
  },
  {
   "cell_type": "code",
   "execution_count": 14,
   "id": "71a7e105",
   "metadata": {},
   "outputs": [],
   "source": [
    "Napoli = 0.7536\n",
    "\n",
    "res.append(Napoli)"
   ]
  },
  {
   "cell_type": "code",
   "execution_count": 15,
   "id": "54216af3",
   "metadata": {},
   "outputs": [],
   "source": [
    "Parma = 0.7417\n",
    "\n",
    "res.append(Parma)"
   ]
  },
  {
   "cell_type": "code",
   "execution_count": 16,
   "id": "75bbe581",
   "metadata": {},
   "outputs": [],
   "source": [
    "Roma = 0.7538\n",
    "\n",
    "res.append(Roma)"
   ]
  },
  {
   "cell_type": "code",
   "execution_count": 17,
   "id": "e9459a76",
   "metadata": {},
   "outputs": [],
   "source": [
    "Sampdoria = 0.7553\n",
    "\n",
    "res.append(Sampdoria)"
   ]
  },
  {
   "cell_type": "code",
   "execution_count": 18,
   "id": "94691192",
   "metadata": {},
   "outputs": [],
   "source": [
    "Sassuolo = 0.7541\n",
    "\n",
    "res.append(Sassuolo)"
   ]
  },
  {
   "cell_type": "code",
   "execution_count": 19,
   "id": "2ce46bdd",
   "metadata": {},
   "outputs": [],
   "source": [
    "Spal = 0.7579\n",
    "\n",
    "res.append(Spal)"
   ]
  },
  {
   "cell_type": "code",
   "execution_count": 20,
   "id": "e13248a2",
   "metadata": {},
   "outputs": [],
   "source": [
    "Torino = 0.7530\n",
    "\n",
    "res.append(Torino)"
   ]
  },
  {
   "cell_type": "code",
   "execution_count": 21,
   "id": "fb208204",
   "metadata": {},
   "outputs": [],
   "source": [
    "Udinese = 0.7687\n",
    "\n",
    "res.append(Udinese)"
   ]
  },
  {
   "cell_type": "code",
   "execution_count": 22,
   "id": "466eecfa",
   "metadata": {},
   "outputs": [],
   "source": [
    "Verona = 0.7662\n",
    "\n",
    "res.append(Verona)"
   ]
  },
  {
   "cell_type": "code",
   "execution_count": 25,
   "id": "17bd16b1",
   "metadata": {},
   "outputs": [],
   "source": [
    "mean = np.round(np.mean(res), 4)"
   ]
  },
  {
   "cell_type": "code",
   "execution_count": 26,
   "id": "1c2c5a72",
   "metadata": {},
   "outputs": [],
   "source": [
    "std =  np.round(np.std(res), 4)"
   ]
  },
  {
   "cell_type": "code",
   "execution_count": 27,
   "id": "d8dca54c",
   "metadata": {},
   "outputs": [
    {
     "data": {
      "text/plain": [
       "0.7611"
      ]
     },
     "execution_count": 27,
     "metadata": {},
     "output_type": "execute_result"
    }
   ],
   "source": [
    "mean"
   ]
  },
  {
   "cell_type": "code",
   "execution_count": 28,
   "id": "8c37295c",
   "metadata": {},
   "outputs": [
    {
     "data": {
      "text/plain": [
       "0.0088"
      ]
     },
     "execution_count": 28,
     "metadata": {},
     "output_type": "execute_result"
    }
   ],
   "source": [
    "std"
   ]
  },
  {
   "cell_type": "code",
   "execution_count": null,
   "id": "f8de3754",
   "metadata": {},
   "outputs": [],
   "source": []
  }
 ],
 "metadata": {
  "kernelspec": {
   "display_name": "Python 3 (ipykernel)",
   "language": "python",
   "name": "python3"
  },
  "language_info": {
   "codemirror_mode": {
    "name": "ipython",
    "version": 3
   },
   "file_extension": ".py",
   "mimetype": "text/x-python",
   "name": "python",
   "nbconvert_exporter": "python",
   "pygments_lexer": "ipython3",
   "version": "3.7.4"
  }
 },
 "nbformat": 4,
 "nbformat_minor": 5
}
