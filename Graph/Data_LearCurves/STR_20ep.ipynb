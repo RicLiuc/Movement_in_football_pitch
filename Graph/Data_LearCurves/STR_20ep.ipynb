{
 "cells": [
  {
   "cell_type": "code",
   "execution_count": 1,
   "id": "081d3fa0",
   "metadata": {},
   "outputs": [],
   "source": [
    "import numpy as np\n",
    "import plotly.express as px"
   ]
  },
  {
   "cell_type": "code",
   "execution_count": 2,
   "id": "b40e82cf",
   "metadata": {},
   "outputs": [],
   "source": [
    "epo_tot = [i for i in range(0, 20)]\n",
    "tra_tot = []\n",
    "val_tot = []"
   ]
  },
  {
   "cell_type": "code",
   "execution_count": 3,
   "id": "27860353",
   "metadata": {},
   "outputs": [],
   "source": [
    "Atalanta = [[0.7857, 0.6323], [0.6168, 0.5879], [0.5842, 0.5651], [0.5611, 0.5483], [0.5408, 0.532], [0.522, 0.5192], [0.5039, 0.5043], [0.4867, 0.4919], [0.4703, 0.4755], [0.4554, 0.4634], [0.4412, 0.4498], [0.4281, 0.4377], [0.4162, 0.4291], [0.4055, 0.4211], [0.3948, 0.4152], [0.385, 0.4077], [0.3758, 0.4005], [0.368, 0.3938], [0.3609, 0.3905], [0.3533, 0.39]]\n",
    "\n",
    "tra = [Atalanta[i][0] for i in range(0, len(Atalanta))]\n",
    "val = [Atalanta[i][1] for i in range(0, len(Atalanta))]\n",
    "\n",
    "tra_tot.append(tra)\n",
    "val_tot.append(val)"
   ]
  },
  {
   "cell_type": "code",
   "execution_count": 4,
   "id": "a210cd5a",
   "metadata": {},
   "outputs": [],
   "source": [
    "Bologna = [[0.8165, 0.6402], [0.6202, 0.5929], [0.5868, 0.5698], [0.5638, 0.5492], [0.543, 0.532], [0.5231, 0.5134], [0.5037, 0.4986], [0.485, 0.4829], [0.4679, 0.473], [0.4514, 0.4615], [0.436, 0.4496], [0.4222, 0.4372], [0.4102, 0.431], [0.3989, 0.4231], [0.3885, 0.4174], [0.3788, 0.4086], [0.3699, 0.3999], [0.3622, 0.3879], [0.3556, 0.3821], [0.3487, 0.3786]]\n",
    "\n",
    "tra = [Bologna[i][0] for i in range(0, len(Bologna))]\n",
    "val = [Bologna[i][1] for i in range(0, len(Bologna))]\n",
    "\n",
    "tra_tot.append(tra)\n",
    "val_tot.append(val)"
   ]
  },
  {
   "cell_type": "code",
   "execution_count": 5,
   "id": "cf75f17d",
   "metadata": {},
   "outputs": [],
   "source": [
    "Brescia = [[0.7948, 0.66], [0.6326, 0.6064], [0.5885, 0.5752], [0.5576, 0.5506], [0.5309, 0.5264], [0.5069, 0.5074], [0.4852, 0.4906], [0.4661, 0.4735], [0.4493, 0.46], [0.4338, 0.4469], [0.42, 0.4368], [0.4074, 0.4258], [0.3953, 0.4174], [0.384, 0.4052], [0.3738, 0.3979], [0.3651, 0.3914], [0.3572, 0.386], [0.3503, 0.3831], [0.3431, 0.3813], [0.3357, 0.377]]\n",
    "\n",
    "tra = [Brescia[i][0] for i in range(0, len(Brescia))]\n",
    "val = [Brescia[i][1] for i in range(0, len(Brescia))]\n",
    "\n",
    "tra_tot.append(tra)\n",
    "val_tot.append(val)"
   ]
  },
  {
   "cell_type": "code",
   "execution_count": 6,
   "id": "01d98455",
   "metadata": {},
   "outputs": [],
   "source": [
    "Cagliari = [[0.8553, 0.6438], [0.619, 0.5844], [0.5785, 0.5568], [0.551, 0.5352], [0.5266, 0.5153], [0.504, 0.4987], [0.4826, 0.4816], [0.4633, 0.4665], [0.4454, 0.4522], [0.429, 0.4407], [0.4154, 0.4344], [0.4037, 0.4359], [0.3925, 0.4277], [0.3813, 0.4104], [0.3703, 0.4013], [0.3601, 0.3949], [0.3509, 0.388], [0.3432, 0.3841], [0.336, 0.3816], [0.3295, 0.3738]]\n",
    "\n",
    "tra = [Cagliari[i][0] for i in range(0, len(Cagliari))]\n",
    "val = [Cagliari[i][1] for i in range(0, len(Cagliari))]\n",
    "\n",
    "tra_tot.append(tra)\n",
    "val_tot.append(val)"
   ]
  },
  {
   "cell_type": "code",
   "execution_count": 7,
   "id": "9b1e735d",
   "metadata": {},
   "outputs": [],
   "source": [
    "Fiorentina = [[0.7898, 0.6516], [0.6186, 0.6144], [0.5828, 0.5859], [0.5574, 0.567], [0.5347, 0.5512], [0.5137, 0.5348], [0.4938, 0.5215], [0.4757, 0.5028], [0.459, 0.4867], [0.4439, 0.4692], [0.4297, 0.4579], [0.4167, 0.4433], [0.4049, 0.4367], [0.3944, 0.4305], [0.3852, 0.4234], [0.3775, 0.4146], [0.3694, 0.4096], [0.3605, 0.4047], [0.3527, 0.3969], [0.3449, 0.395]]\n",
    "\n",
    "tra = [Fiorentina[i][0] for i in range(0, len(Fiorentina))]\n",
    "val = [Fiorentina[i][1] for i in range(0, len(Fiorentina))]\n",
    "\n",
    "tra_tot.append(tra)\n",
    "val_tot.append(val)"
   ]
  },
  {
   "cell_type": "code",
   "execution_count": 8,
   "id": "da71fd6c",
   "metadata": {},
   "outputs": [],
   "source": [
    "Genoa = [[0.8399, 0.6638], [0.6304, 0.615], [0.5903, 0.5913], [0.5631, 0.5669], [0.5388, 0.5427], [0.5164, 0.5258], [0.4952, 0.5108], [0.4761, 0.4982], [0.4586, 0.4816], [0.4426, 0.4732], [0.4277, 0.4584], [0.4145, 0.4582], [0.4023, 0.4511], [0.3915, 0.4449], [0.3822, 0.4331], [0.3734, 0.4271], [0.3643, 0.4204], [0.355, 0.4086], [0.3466, 0.4008], [0.3388, 0.3901]]\n",
    "\n",
    "tra = [Genoa[i][0] for i in range(0, len(Genoa))]\n",
    "val = [Genoa[i][1] for i in range(0, len(Genoa))]\n",
    "\n",
    "tra_tot.append(tra)\n",
    "val_tot.append(val)"
   ]
  },
  {
   "cell_type": "code",
   "execution_count": 9,
   "id": "0f0e6044",
   "metadata": {},
   "outputs": [],
   "source": [
    "Inter = [[0.816, 0.6494], [0.6162, 0.5981], [0.5775, 0.5676], [0.5512, 0.5449], [0.5289, 0.5254], [0.5085, 0.5086], [0.4895, 0.4959], [0.4714, 0.4777], [0.4544, 0.4658], [0.4385, 0.4553], [0.4236, 0.4407], [0.4101, 0.4375], [0.3978, 0.4222], [0.3866, 0.4115], [0.3765, 0.4017], [0.3672, 0.3909], [0.3584, 0.3805], [0.35, 0.3745], [0.3418, 0.3681], [0.3341, 0.3672]]\n",
    "\n",
    "tra = [Inter[i][0] for i in range(0, len(Inter))]\n",
    "val = [Inter[i][1] for i in range(0, len(Inter))]\n",
    "\n",
    "tra_tot.append(tra)\n",
    "val_tot.append(val)"
   ]
  },
  {
   "cell_type": "code",
   "execution_count": 10,
   "id": "562ce63c",
   "metadata": {},
   "outputs": [],
   "source": [
    "Juventus = [[0.8926, 0.6969], [0.6468, 0.6343], [0.6019, 0.5992], [0.5735, 0.5749], [0.5502, 0.5586], [0.5294, 0.5414], [0.5102, 0.528], [0.492, 0.5095], [0.4752, 0.4938], [0.4597, 0.4854], [0.4455, 0.4689], [0.4317, 0.4537], [0.4194, 0.4391], [0.4085, 0.4303], [0.3987, 0.4211], [0.39, 0.413], [0.3811, 0.4043], [0.3723, 0.4016], [0.3639, 0.3966], [0.3562, 0.3947]]\n",
    "\n",
    "tra = [Juventus[i][0] for i in range(0, len(Juventus))]\n",
    "val = [Juventus[i][1] for i in range(0, len(Juventus))]\n",
    "\n",
    "tra_tot.append(tra)\n",
    "val_tot.append(val)"
   ]
  },
  {
   "cell_type": "code",
   "execution_count": 11,
   "id": "81cc19fa",
   "metadata": {},
   "outputs": [],
   "source": [
    "Lazio = [[0.8261, 0.6459], [0.6244, 0.5976], [0.5862, 0.579], [0.5611, 0.5622], [0.5396, 0.5456], [0.5195, 0.5352], [0.5009, 0.5204], [0.4836, 0.5083], [0.4676, 0.4976], [0.4529, 0.4779], [0.4392, 0.4616], [0.426, 0.4497], [0.4139, 0.4388], [0.4028, 0.4312], [0.3925, 0.4302], [0.3834, 0.4274], [0.3747, 0.4242], [0.3673, 0.4196], [0.3602, 0.4169], [0.353, 0.4106]]\n",
    "\n",
    "tra = [Lazio[i][0] for i in range(0, len(Lazio))]\n",
    "val = [Lazio[i][1] for i in range(0, len(Lazio))]\n",
    "\n",
    "tra_tot.append(tra)\n",
    "val_tot.append(val)"
   ]
  },
  {
   "cell_type": "code",
   "execution_count": 12,
   "id": "71f90ff5",
   "metadata": {},
   "outputs": [],
   "source": [
    "Lecce = [[0.7962, 0.6492], [0.6153, 0.5955], [0.5787, 0.5669], [0.5544, 0.5472], [0.5335, 0.5316], [0.5137, 0.5171], [0.4947, 0.4997], [0.4767, 0.4833], [0.46, 0.4742], [0.4448, 0.4638], [0.4307, 0.4512], [0.4178, 0.4406], [0.4056, 0.4277], [0.3946, 0.4147], [0.3844, 0.4037], [0.3747, 0.3941], [0.3659, 0.3872], [0.3572, 0.3837], [0.3493, 0.3778], [0.3417, 0.3745]]\n",
    "\n",
    "tra = [Lecce[i][0] for i in range(0, len(Lecce))]\n",
    "val = [Lecce[i][1] for i in range(0, len(Lecce))]\n",
    "\n",
    "tra_tot.append(tra)\n",
    "val_tot.append(val)"
   ]
  },
  {
   "cell_type": "code",
   "execution_count": 13,
   "id": "482a997b",
   "metadata": {},
   "outputs": [],
   "source": [
    "Milan = [[0.8151, 0.6542], [0.6253, 0.5966], [0.5845, 0.5677], [0.5563, 0.5454], [0.5318, 0.524], [0.5089, 0.5052], [0.4875, 0.4888], [0.468, 0.4676], [0.4501, 0.4487], [0.4343, 0.4362], [0.4202, 0.4254], [0.4073, 0.4157], [0.3947, 0.407], [0.3832, 0.3991], [0.3727, 0.3914], [0.3631, 0.3877], [0.3554, 0.3799], [0.3481, 0.3738], [0.3417, 0.3643], [0.335, 0.3589]]\n",
    "\n",
    "tra = [Milan[i][0] for i in range(0, len(Milan))]\n",
    "val = [Milan[i][1] for i in range(0, len(Milan))]\n",
    "\n",
    "tra_tot.append(tra)\n",
    "val_tot.append(val)"
   ]
  },
  {
   "cell_type": "code",
   "execution_count": 14,
   "id": "e17ee6ce",
   "metadata": {},
   "outputs": [],
   "source": [
    "Napoli = [[0.8808, 0.6559], [0.6286, 0.6111], [0.594, 0.5891], [0.5715, 0.5709], [0.5524, 0.5538], [0.5348, 0.5371], [0.518, 0.5262], [0.5025, 0.5147], [0.4875, 0.5038], [0.4737, 0.4923], [0.4606, 0.4797], [0.4482, 0.4703], [0.4368, 0.4573], [0.4261, 0.4529], [0.4168, 0.4476], [0.4078, 0.4401], [0.3994, 0.4278], [0.391, 0.4227], [0.3827, 0.4127], [0.3753, 0.41]]\n",
    "\n",
    "tra = [Napoli[i][0] for i in range(0, len(Napoli))]\n",
    "val = [Napoli[i][1] for i in range(0, len(Napoli))]\n",
    "\n",
    "tra_tot.append(tra)\n",
    "val_tot.append(val)"
   ]
  },
  {
   "cell_type": "code",
   "execution_count": 15,
   "id": "cb3b52b2",
   "metadata": {},
   "outputs": [],
   "source": [
    "Parma = [[0.8729, 0.68], [0.6286, 0.6298], [0.5848, 0.6082], [0.5588, 0.592], [0.537, 0.5731], [0.5176, 0.5543], [0.499, 0.5331], [0.4815, 0.5142], [0.465, 0.4975], [0.4495, 0.48], [0.4352, 0.4654], [0.4219, 0.4535], [0.4095, 0.4418], [0.3981, 0.4289], [0.3887, 0.4238], [0.3796, 0.4194], [0.3708, 0.4173], [0.3616, 0.4104], [0.353, 0.4022], [0.3449, 0.3953]]\n",
    "\n",
    "tra = [Parma[i][0] for i in range(0, len(Parma))]\n",
    "val = [Parma[i][1] for i in range(0, len(Parma))]\n",
    "\n",
    "tra_tot.append(tra)\n",
    "val_tot.append(val)"
   ]
  },
  {
   "cell_type": "code",
   "execution_count": 16,
   "id": "926c8117",
   "metadata": {},
   "outputs": [],
   "source": [
    "Roma = [[0.8292, 0.66], [0.6246, 0.6005], [0.5853, 0.5687], [0.5585, 0.5468], [0.5355, 0.5254], [0.5142, 0.5092], [0.4942, 0.4921], [0.4758, 0.4758], [0.4591, 0.4632], [0.4439, 0.4578], [0.43, 0.451], [0.417, 0.4459], [0.4046, 0.4404], [0.3933, 0.4283], [0.3834, 0.4161], [0.3746, 0.4052], [0.3655, 0.3925], [0.3567, 0.3917], [0.3481, 0.3831], [0.341, 0.3798]]\n",
    "\n",
    "tra = [Roma[i][0] for i in range(0, len(Roma))]\n",
    "val = [Roma[i][1] for i in range(0, len(Roma))]\n",
    "\n",
    "tra_tot.append(tra)\n",
    "val_tot.append(val)"
   ]
  },
  {
   "cell_type": "code",
   "execution_count": 17,
   "id": "5e568bec",
   "metadata": {},
   "outputs": [],
   "source": [
    "Sampdoria = [[0.8887, 0.6926], [0.6449, 0.6264], [0.5937, 0.5928], [0.5642, 0.5674], [0.5397, 0.5462], [0.5178, 0.5318], [0.4975, 0.5188], [0.4789, 0.505], [0.4618, 0.4893], [0.4463, 0.4735], [0.4321, 0.4548], [0.4188, 0.4423], [0.4067, 0.4318], [0.3951, 0.4218], [0.3843, 0.4111], [0.3743, 0.4035], [0.3655, 0.3934], [0.3572, 0.384], [0.35, 0.3756], [0.3448, 0.3698]]\n",
    "\n",
    "tra = [Sampdoria[i][0] for i in range(0, len(Sampdoria))]\n",
    "val = [Sampdoria[i][1] for i in range(0, len(Sampdoria))]\n",
    "\n",
    "tra_tot.append(tra)\n",
    "val_tot.append(val)"
   ]
  },
  {
   "cell_type": "code",
   "execution_count": 18,
   "id": "5a88804b",
   "metadata": {},
   "outputs": [],
   "source": [
    "Sassuolo = [[0.9467, 0.7044], [0.6449, 0.6183], [0.5881, 0.5798], [0.5573, 0.5543], [0.5329, 0.5365], [0.5115, 0.5163], [0.4919, 0.4956], [0.4738, 0.4799], [0.4571, 0.4633], [0.442, 0.4502], [0.4283, 0.4434], [0.4157, 0.4415], [0.405, 0.4274], [0.3951, 0.4124], [0.3852, 0.4039], [0.3758, 0.4006], [0.3677, 0.3993], [0.3601, 0.3961], [0.3538, 0.3955], [0.3477, 0.3912]]\n",
    "\n",
    "tra = [Sassuolo[i][0] for i in range(0, len(Sassuolo))]\n",
    "val = [Sassuolo[i][1] for i in range(0, len(Sassuolo))]\n",
    "\n",
    "tra_tot.append(tra)\n",
    "val_tot.append(val)"
   ]
  },
  {
   "cell_type": "code",
   "execution_count": 19,
   "id": "91aefb03",
   "metadata": {},
   "outputs": [],
   "source": [
    "Spal = [[0.7787, 0.6336], [0.6033, 0.5829], [0.5623, 0.5542], [0.5338, 0.533], [0.509, 0.5119], [0.4865, 0.4931], [0.4656, 0.4773], [0.4464, 0.4623], [0.429, 0.4493], [0.4126, 0.4356], [0.3984, 0.4216], [0.3855, 0.4087], [0.3736, 0.4004], [0.3625, 0.3922], [0.3522, 0.3842], [0.3424, 0.3778], [0.3338, 0.3668], [0.3257, 0.3631], [0.3189, 0.3539], [0.3124, 0.3478]]\n",
    "\n",
    "tra = [Spal[i][0] for i in range(0, len(Spal))]\n",
    "val = [Spal[i][1] for i in range(0, len(Spal))]\n",
    "\n",
    "tra_tot.append(tra)\n",
    "val_tot.append(val)"
   ]
  },
  {
   "cell_type": "code",
   "execution_count": 20,
   "id": "cb45dccd",
   "metadata": {},
   "outputs": [],
   "source": [
    "Torino = [[0.7989, 0.6308], [0.6008, 0.5782], [0.559, 0.5452], [0.5284, 0.515], [0.5018, 0.4918], [0.4778, 0.4732], [0.456, 0.4569], [0.4363, 0.4432], [0.4189, 0.4301], [0.4036, 0.418], [0.39, 0.4078], [0.3786, 0.4038], [0.3684, 0.4037], [0.3578, 0.394], [0.3478, 0.3913], [0.339, 0.3836], [0.3308, 0.3774], [0.3233, 0.3692], [0.3158, 0.36], [0.3093, 0.3592]]\n",
    "\n",
    "tra = [Torino[i][0] for i in range(0, len(Torino))]\n",
    "val = [Torino[i][1] for i in range(0, len(Torino))]\n",
    "\n",
    "tra_tot.append(tra)\n",
    "val_tot.append(val)"
   ]
  },
  {
   "cell_type": "code",
   "execution_count": 21,
   "id": "ac0ffcc1",
   "metadata": {},
   "outputs": [],
   "source": [
    "Udinese = [[0.8179, 0.6466], [0.6204, 0.5941], [0.5793, 0.5679], [0.5515, 0.553], [0.528, 0.534], [0.5069, 0.5172], [0.4875, 0.5004], [0.4696, 0.4831], [0.4532, 0.4699], [0.4377, 0.4551], [0.4236, 0.4397], [0.4109, 0.4363], [0.4001, 0.4265], [0.39, 0.4226], [0.3804, 0.4179], [0.371, 0.4079], [0.3619, 0.3963], [0.3528, 0.3885], [0.3442, 0.3828], [0.3361, 0.3748]]\n",
    "\n",
    "tra = [Udinese[i][0] for i in range(0, len(Udinese))]\n",
    "val = [Udinese[i][1] for i in range(0, len(Udinese))]\n",
    "\n",
    "tra_tot.append(tra)\n",
    "val_tot.append(val)"
   ]
  },
  {
   "cell_type": "code",
   "execution_count": 22,
   "id": "047853d5",
   "metadata": {},
   "outputs": [],
   "source": [
    "Verona = [[0.8079, 0.6843], [0.6275, 0.6379], [0.5879, 0.6038], [0.5598, 0.5778], [0.5355, 0.5561], [0.514, 0.5332], [0.4936, 0.5131], [0.4755, 0.4971], [0.4589, 0.4827], [0.4433, 0.4686], [0.4289, 0.4566], [0.4158, 0.4481], [0.4048, 0.4322], [0.3955, 0.4247], [0.3869, 0.4219], [0.3778, 0.4132], [0.3694, 0.4063], [0.3611, 0.3935], [0.3535, 0.3857], [0.3468, 0.3783]]\n",
    "\n",
    "tra = [Verona[i][0] for i in range(0, len(Verona))]\n",
    "val = [Verona[i][1] for i in range(0, len(Verona))]\n",
    "\n",
    "tra_tot.append(tra)\n",
    "val_tot.append(val)"
   ]
  },
  {
   "cell_type": "code",
   "execution_count": 23,
   "id": "a347f38d",
   "metadata": {},
   "outputs": [],
   "source": [
    "all_tra = np.zeros((20, 20))\n",
    "\n",
    "for j in range(0, 20):\n",
    "    all_tra[j] = [tra_tot[i][j] for i in range(0, len(tra_tot))]\n",
    "    \n",
    "all_val = np.zeros((20, 20))\n",
    "\n",
    "for j in range(0, 20):\n",
    "    all_val[j] = [val_tot[i][j] for i in range(0, len(val_tot))]"
   ]
  },
  {
   "cell_type": "code",
   "execution_count": 30,
   "id": "32a745a8",
   "metadata": {},
   "outputs": [
    {
     "data": {
      "image/png": "[encoded data removed]",
      "text/plain": [
       "<Figure size 1440x720 with 1 Axes>"
      ]
     },
     "metadata": {
      "needs_background": "light"
     },
     "output_type": "display_data"
    }
   ],
   "source": [
    "from matplotlib import pyplot as plt\n",
    "from matplotlib.pyplot import figure\n",
    "\n",
    "\n",
    "\n",
    "\n",
    "x = epo_tot\n",
    "y_val = np.mean(all_val, axis = 1)\n",
    "y_tra = np.mean(all_tra, axis = 1)\n",
    "\n",
    "\n",
    "ci_tra = np.std(all_tra, axis = 1) \n",
    "ci_val = np.std(all_val, axis = 1)\n",
    "\n",
    "fig, ax = plt.subplots(figsize=(20, 10))\n",
    "\n",
    "ax.set_xticks(x, minor=False)\n",
    "\n",
    "\n",
    "line1 = ax.plot(x,y_tra, label='Training')\n",
    "ax.fill_between(x, (y_tra-ci_tra), (y_tra+ci_tra), color='b', alpha=.1)\n",
    "\n",
    "line2 = ax.plot(x,y_val, label='Validation')\n",
    "ax.fill_between(x, (y_val-ci_val), (y_val+ci_val), color='r', alpha=.1)\n",
    "\n",
    "handles, labels = ax.get_legend_handles_labels()\n",
    "\n",
    "ax.set_ylabel('RMSE', fontsize=18)\n",
    "ax.set_xlabel('Epochs', fontsize=18)\n",
    "ax.legend(fontsize=18)\n",
    "plt.grid()\n",
    "plt.show()"
   ]
  },
  {
   "cell_type": "code",
   "execution_count": 25,
   "id": "1b2ac99b",
   "metadata": {},
   "outputs": [
    {
     "name": "stdout",
     "output_type": "stream",
     "text": [
      "The training result is: 0.3415 +/- 0.0141\n",
      "The validation result is: 0.3808 +/- 0.016\n"
     ]
    }
   ],
   "source": [
    "print(f'The training result is: {np.round(np.mean(all_tra, axis = 1)[-1], 4)} +/- {np.round(np.std(all_tra, axis = 1)[-1], 4)}')\n",
    "print(f'The validation result is: {np.round(np.mean(all_val, axis = 1)[-1], 4)} +/- {np.round(np.std(all_val, axis = 1)[-1], 4)}')\n"
   ]
  },
  {
   "cell_type": "code",
   "execution_count": 26,
   "id": "cd6bd02c",
   "metadata": {},
   "outputs": [
    {
     "data": {
      "text/plain": [
       "array([0.8325, 0.6245, 0.5837, 0.5567, 0.5335, 0.5124, 0.4925, 0.4742,\n",
       "       0.4574, 0.4419, 0.4278, 0.4149, 0.4031, 0.3922, 0.3823, 0.373 ,\n",
       "       0.3644, 0.3562, 0.3486, 0.3415])"
      ]
     },
     "execution_count": 26,
     "metadata": {},
     "output_type": "execute_result"
    }
   ],
   "source": [
    "np.round(np.mean(all_tra, axis = 1), 4)\n"
   ]
  },
  {
   "cell_type": "code",
   "execution_count": 27,
   "id": "62bb3916",
   "metadata": {},
   "outputs": [
    {
     "data": {
      "text/plain": [
       "array([0.0429, 0.0118, 0.0096, 0.0103, 0.0114, 0.0126, 0.0135, 0.0142,\n",
       "       0.0146, 0.0149, 0.0149, 0.0146, 0.0144, 0.0145, 0.0146, 0.0147,\n",
       "       0.0147, 0.0145, 0.0143, 0.0141])"
      ]
     },
     "execution_count": 27,
     "metadata": {},
     "output_type": "execute_result"
    }
   ],
   "source": [
    "np.round(np.std(all_tra, axis = 1), 4)\n"
   ]
  },
  {
   "cell_type": "code",
   "execution_count": 28,
   "id": "01e136eb",
   "metadata": {},
   "outputs": [
    {
     "data": {
      "text/plain": [
       "array([0.6588, 0.6051, 0.5767, 0.5551, 0.5357, 0.5186, 0.5027, 0.4869,\n",
       "       0.4729, 0.4602, 0.4477, 0.4393, 0.4295, 0.42  , 0.4127, 0.4054,\n",
       "       0.3979, 0.3917, 0.3854, 0.3808])"
      ]
     },
     "execution_count": 28,
     "metadata": {},
     "output_type": "execute_result"
    }
   ],
   "source": [
    "np.round(np.mean(all_val, axis = 1), 4)\n"
   ]
  },
  {
   "cell_type": "code",
   "execution_count": 29,
   "id": "43df0598",
   "metadata": {},
   "outputs": [
    {
     "data": {
      "text/plain": [
       "array([0.0213, 0.0172, 0.0165, 0.0172, 0.0181, 0.0184, 0.0187, 0.0189,\n",
       "       0.0188, 0.0181, 0.0167, 0.0157, 0.0141, 0.0151, 0.0154, 0.0155,\n",
       "       0.016 , 0.0156, 0.0162, 0.016 ])"
      ]
     },
     "execution_count": 29,
     "metadata": {},
     "output_type": "execute_result"
    }
   ],
   "source": [
    "np.round(np.std(all_val, axis = 1), 4)"
   ]
  }
 ],
 "metadata": {
  "kernelspec": {
   "display_name": "Python 3 (ipykernel)",
   "language": "python",
   "name": "python3"
  },
  "language_info": {
   "codemirror_mode": {
    "name": "ipython",
    "version": 3
   },
   "file_extension": ".py",
   "mimetype": "text/x-python",
   "name": "python",
   "nbconvert_exporter": "python",
   "pygments_lexer": "ipython3",
   "version": "3.7.4"
  }
 },
 "nbformat": 4,
 "nbformat_minor": 5
}
