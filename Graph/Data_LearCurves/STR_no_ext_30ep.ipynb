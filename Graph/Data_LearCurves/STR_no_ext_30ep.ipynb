{
 "cells": [
  {
   "cell_type": "code",
   "execution_count": 1,
   "id": "081d3fa0",
   "metadata": {},
   "outputs": [],
   "source": [
    "import numpy as np\n",
    "import plotly.express as px"
   ]
  },
  {
   "cell_type": "code",
   "execution_count": 2,
   "id": "b40e82cf",
   "metadata": {},
   "outputs": [],
   "source": [
    "epo_tot = [i for i in range(0, 30)]\n",
    "tra_tot = []\n",
    "val_tot = []"
   ]
  },
  {
   "cell_type": "code",
   "execution_count": 3,
   "id": "27860353",
   "metadata": {},
   "outputs": [],
   "source": [
    "Atalanta = [[0.7271, 0.6389], [0.5884, 0.5666], [0.5454, 0.542], [0.5038, 0.4908], [0.4626, 0.495], [0.4273, 0.4566], [0.3998, 0.429], [0.3763, 0.4012], [0.3566, 0.3731], [0.3408, 0.3803], [0.3273, 0.3629], [0.3182, 0.3671], [0.308, 0.3465], [0.2983, 0.3438], [0.2914, 0.3346], [0.2836, 0.3175], [0.2772, 0.3232], [0.2709, 0.3047], [0.2669, 0.3056], [0.2621, 0.3021], [0.2559, 0.2999], [0.2509, 0.3001], [0.2466, 0.2958], [0.242, 0.2883], [0.2383, 0.2853], [0.2336, 0.2902], [0.2322, 0.2874], [0.2318, 0.2868], [0.2265, 0.2784], [0.2227, 0.2794]]\n",
    "\n",
    "tra = [Atalanta[i][0] for i in range(0, len(Atalanta))]\n",
    "val = [Atalanta[i][1] for i in range(0, len(Atalanta))]\n",
    "\n",
    "tra_tot.append(tra)\n",
    "val_tot.append(val)"
   ]
  },
  {
   "cell_type": "code",
   "execution_count": 4,
   "id": "a210cd5a",
   "metadata": {},
   "outputs": [],
   "source": [
    "Bologna = [[0.7383, 0.6317], [0.5993, 0.5734], [0.5547, 0.5456], [0.5082, 0.5128], [0.4623, 0.4921], [0.4225, 0.4491], [0.3911, 0.425], [0.3666, 0.4005], [0.3468, 0.38], [0.331, 0.3781], [0.321, 0.3507], [0.3103, 0.3397], [0.3, 0.3295], [0.2917, 0.3278], [0.2854, 0.3235], [0.2765, 0.3145], [0.2699, 0.3122], [0.2619, 0.2986], [0.2573, 0.3027], [0.2526, 0.3063], [0.2508, 0.3045], [0.2453, 0.2869], [0.239, 0.2847], [0.2331, 0.2823], [0.2287, 0.2761], [0.2254, 0.2787], [0.2224, 0.2661], [0.2185, 0.2693], [0.2159, 0.2666], [0.2154, 0.2656]]\n",
    "\n",
    "tra = [Bologna[i][0] for i in range(0, len(Bologna))]\n",
    "val = [Bologna[i][1] for i in range(0, len(Bologna))]\n",
    "\n",
    "tra_tot.append(tra)\n",
    "val_tot.append(val)"
   ]
  },
  {
   "cell_type": "code",
   "execution_count": 5,
   "id": "cf75f17d",
   "metadata": {},
   "outputs": [],
   "source": [
    "Brescia = [[0.7203, 0.6102], [0.5913, 0.5702], [0.5438, 0.5372], [0.4931, 0.492], [0.447, 0.4495], [0.4078, 0.4173], [0.3793, 0.409], [0.3566, 0.3704], [0.3397, 0.3645], [0.3237, 0.3507], [0.3111, 0.3421], [0.3006, 0.3323], [0.2933, 0.3281], [0.283, 0.3281], [0.2758, 0.3164], [0.2684, 0.3057], [0.2627, 0.2942], [0.2587, 0.2948], [0.2529, 0.3017], [0.2464, 0.2938], [0.2421, 0.292], [0.237, 0.2779], [0.2322, 0.2794], [0.2291, 0.2721], [0.2253, 0.2705], [0.2232, 0.2689], [0.2216, 0.2652], [0.2197, 0.2711], [0.2147, 0.2725], [0.2109, 0.2707]]\n",
    "\n",
    "tra = [Brescia[i][0] for i in range(0, len(Brescia))]\n",
    "val = [Brescia[i][1] for i in range(0, len(Brescia))]\n",
    "\n",
    "tra_tot.append(tra)\n",
    "val_tot.append(val)"
   ]
  },
  {
   "cell_type": "code",
   "execution_count": 6,
   "id": "01d98455",
   "metadata": {},
   "outputs": [],
   "source": [
    "Cagliari = [[0.7323, 0.6289], [0.5864, 0.5789], [0.5297, 0.5342], [0.478, 0.5128], [0.4342, 0.4551], [0.3978, 0.4432], [0.3703, 0.4131], [0.3491, 0.3788], [0.333, 0.3608], [0.319, 0.3585], [0.3078, 0.3346], [0.2949, 0.3345], [0.2882, 0.325], [0.2805, 0.3195], [0.2731, 0.3215], [0.2654, 0.306], [0.2583, 0.3041], [0.2524, 0.292], [0.2474, 0.2904], [0.2427, 0.2916], [0.2393, 0.2756], [0.2357, 0.275], [0.231, 0.2707], [0.2266, 0.2679], [0.2224, 0.2659], [0.2174, 0.2666], [0.2138, 0.2641], [0.211, 0.2631], [0.2078, 0.2652], [0.2044, 0.2601]]\n",
    "\n",
    "tra = [Cagliari[i][0] for i in range(0, len(Cagliari))]\n",
    "val = [Cagliari[i][1] for i in range(0, len(Cagliari))]\n",
    "\n",
    "tra_tot.append(tra)\n",
    "val_tot.append(val)"
   ]
  },
  {
   "cell_type": "code",
   "execution_count": 7,
   "id": "9b1e735d",
   "metadata": {},
   "outputs": [],
   "source": [
    "Fiorentina = [[0.732, 0.6342], [0.5896, 0.609], [0.5393, 0.5421], [0.4885, 0.4933], [0.4428, 0.4669], [0.4061, 0.4292], [0.3778, 0.4172], [0.3537, 0.3866], [0.3377, 0.3724], [0.3226, 0.3421], [0.3118, 0.3407], [0.3001, 0.3412], [0.2916, 0.3311], [0.2835, 0.3265], [0.2764, 0.3012], [0.2688, 0.3048], [0.2633, 0.3093], [0.2576, 0.2931], [0.2539, 0.2913], [0.247, 0.2821], [0.2419, 0.2894], [0.2381, 0.3006], [0.2343, 0.2793], [0.2307, 0.2744], [0.2248, 0.274], [0.2206, 0.2791], [0.2175, 0.2602], [0.2137, 0.2686], [0.2112, 0.2583], [0.2091, 0.2623]]\n",
    "\n",
    "tra = [Fiorentina[i][0] for i in range(0, len(Fiorentina))]\n",
    "val = [Fiorentina[i][1] for i in range(0, len(Fiorentina))]\n",
    "\n",
    "tra_tot.append(tra)\n",
    "val_tot.append(val)"
   ]
  },
  {
   "cell_type": "code",
   "execution_count": 8,
   "id": "da71fd6c",
   "metadata": {},
   "outputs": [],
   "source": [
    "Genoa = [[0.7413, 0.64], [0.6026, 0.5925], [0.5525, 0.5494], [0.5035, 0.5213], [0.4589, 0.4574], [0.4198, 0.4302], [0.3903, 0.4187], [0.3646, 0.3955], [0.3467, 0.3962], [0.3326, 0.3822], [0.3192, 0.3614], [0.3093, 0.3572], [0.2998, 0.3403], [0.2904, 0.3322], [0.2842, 0.339], [0.2756, 0.3244], [0.2703, 0.3204], [0.2638, 0.3098], [0.2581, 0.3031], [0.2545, 0.3037], [0.2496, 0.2938], [0.2447, 0.2932], [0.2395, 0.2857], [0.2341, 0.2814], [0.2293, 0.2801], [0.2263, 0.2764], [0.2236, 0.2807], [0.2206, 0.275], [0.2193, 0.2788], [0.2167, 0.2657]]\n",
    "\n",
    "tra = [Genoa[i][0] for i in range(0, len(Genoa))]\n",
    "val = [Genoa[i][1] for i in range(0, len(Genoa))]\n",
    "\n",
    "tra_tot.append(tra)\n",
    "val_tot.append(val)"
   ]
  },
  {
   "cell_type": "code",
   "execution_count": 9,
   "id": "0f0e6044",
   "metadata": {},
   "outputs": [],
   "source": [
    "Inter = [[0.7234, 0.6165], [0.5883, 0.5788], [0.5338, 0.5186], [0.484, 0.4947], [0.4394, 0.443], [0.4018, 0.4076], [0.372, 0.3877], [0.3527, 0.3864], [0.3339, 0.3698], [0.3195, 0.3539], [0.3079, 0.3383], [0.2987, 0.3222], [0.2897, 0.3217], [0.2808, 0.3244], [0.2736, 0.3116], [0.2689, 0.3145], [0.2628, 0.2999], [0.2561, 0.2961], [0.2518, 0.2916], [0.2453, 0.2842], [0.2398, 0.2844], [0.2363, 0.2794], [0.2315, 0.279], [0.2281, 0.2682], [0.2251, 0.2652], [0.2232, 0.2668], [0.22, 0.2572], [0.2183, 0.2597], [0.2137, 0.2645], [0.2099, 0.2542]]\n",
    "\n",
    "tra = [Inter[i][0] for i in range(0, len(Inter))]\n",
    "val = [Inter[i][1] for i in range(0, len(Inter))]\n",
    "\n",
    "tra_tot.append(tra)\n",
    "val_tot.append(val)"
   ]
  },
  {
   "cell_type": "code",
   "execution_count": 10,
   "id": "562ce63c",
   "metadata": {},
   "outputs": [],
   "source": [
    "Juventus = [[0.7425, 0.6381], [0.6011, 0.6044], [0.5515, 0.5414], [0.5015, 0.5069], [0.4563, 0.4683], [0.418, 0.4309], [0.3864, 0.4168], [0.3639, 0.3892], [0.3462, 0.3757], [0.3304, 0.3517], [0.318, 0.3454], [0.3071, 0.3392], [0.2973, 0.3388], [0.2892, 0.3233], [0.2818, 0.3194], [0.2749, 0.3102], [0.2695, 0.3045], [0.2632, 0.3008], [0.2571, 0.3003], [0.2517, 0.2921], [0.2474, 0.2862], [0.2435, 0.285], [0.2411, 0.2826], [0.2362, 0.2811], [0.2323, 0.272], [0.2264, 0.2705], [0.222, 0.2667], [0.2189, 0.2698], [0.2167, 0.2668], [0.2142, 0.265]]\n",
    "\n",
    "tra = [Juventus[i][0] for i in range(0, len(Juventus))]\n",
    "val = [Juventus[i][1] for i in range(0, len(Juventus))]\n",
    "\n",
    "tra_tot.append(tra)\n",
    "val_tot.append(val)"
   ]
  },
  {
   "cell_type": "code",
   "execution_count": 11,
   "id": "81cc19fa",
   "metadata": {},
   "outputs": [],
   "source": [
    "Lazio = [[0.7353, 0.626], [0.6017, 0.5858], [0.5582, 0.5639], [0.5176, 0.5399], [0.4766, 0.4786], [0.438, 0.4743], [0.4058, 0.4355], [0.3811, 0.4137], [0.3601, 0.4052], [0.3443, 0.4027], [0.3312, 0.3674], [0.3192, 0.3683], [0.3086, 0.3472], [0.3006, 0.344], [0.2923, 0.3243], [0.285, 0.3272], [0.2784, 0.3195], [0.2725, 0.3238], [0.2667, 0.3199], [0.2607, 0.309], [0.2561, 0.3043], [0.2529, 0.2987], [0.2481, 0.3067], [0.2434, 0.2918], [0.2382, 0.2913], [0.234, 0.2814], [0.2297, 0.282], [0.2264, 0.2788], [0.2246, 0.2893], [0.2218, 0.2831]]\n",
    "\n",
    "tra = [Lazio[i][0] for i in range(0, len(Lazio))]\n",
    "val = [Lazio[i][1] for i in range(0, len(Lazio))]\n",
    "\n",
    "tra_tot.append(tra)\n",
    "val_tot.append(val)"
   ]
  },
  {
   "cell_type": "code",
   "execution_count": 12,
   "id": "71f90ff5",
   "metadata": {},
   "outputs": [],
   "source": [
    "Lecce = [[0.7235, 0.6727], [0.5864, 0.6069], [0.5407, 0.5494], [0.4967, 0.5084], [0.4546, 0.4728], [0.4151, 0.4446], [0.3859, 0.4055], [0.3628, 0.4093], [0.3439, 0.378], [0.3293, 0.3571], [0.317, 0.3493], [0.3062, 0.3287], [0.297, 0.319], [0.2883, 0.3124], [0.2825, 0.3181], [0.2751, 0.3221], [0.2689, 0.3158], [0.2622, 0.2985], [0.2561, 0.3035], [0.2504, 0.294], [0.2462, 0.2927], [0.2412, 0.2888], [0.2368, 0.285], [0.2326, 0.2813], [0.2298, 0.2764], [0.2288, 0.2702], [0.2254, 0.2761], [0.2211, 0.2749], [0.2167, 0.2703], [0.212, 0.2626]]\n",
    "\n",
    "tra = [Lecce[i][0] for i in range(0, len(Lecce))]\n",
    "val = [Lecce[i][1] for i in range(0, len(Lecce))]\n",
    "\n",
    "tra_tot.append(tra)\n",
    "val_tot.append(val)"
   ]
  },
  {
   "cell_type": "code",
   "execution_count": 13,
   "id": "2a097d21",
   "metadata": {},
   "outputs": [],
   "source": [
    "Milan = [[0.7354, 0.6071], [0.5912, 0.5764], [0.5377, 0.5351], [0.4856, 0.4977], [0.4398, 0.4564], [0.4032, 0.4203], [0.376, 0.4024], [0.3532, 0.3914], [0.3377, 0.372], [0.3231, 0.3512], [0.3091, 0.3427], [0.2998, 0.3439], [0.2908, 0.3212], [0.2825, 0.3181], [0.2759, 0.3185], [0.2696, 0.3048], [0.2635, 0.306], [0.2567, 0.299], [0.2505, 0.2941], [0.2456, 0.2844], [0.2414, 0.293], [0.238, 0.2802], [0.2364, 0.2788], [0.2312, 0.2701], [0.226, 0.2705], [0.2215, 0.272], [0.2183, 0.2711], [0.2149, 0.2657], [0.2114, 0.2661], [0.209, 0.263]]\n",
    "\n",
    "tra = [Milan[i][0] for i in range(0, len(Milan))]\n",
    "val = [Milan[i][1] for i in range(0, len(Milan))]\n",
    "\n",
    "tra_tot.append(tra)\n",
    "val_tot.append(val)"
   ]
  },
  {
   "cell_type": "code",
   "execution_count": 14,
   "id": "e17ee6ce",
   "metadata": {},
   "outputs": [],
   "source": [
    "Napoli = [[0.7261, 0.6427], [0.5958, 0.6081], [0.5591, 0.5567], [0.5217, 0.5287], [0.4838, 0.4858], [0.4435, 0.4502], [0.4118, 0.4363], [0.3851, 0.4134], [0.3649, 0.3958], [0.348, 0.369], [0.3322, 0.3642], [0.3221, 0.3744], [0.3101, 0.3637], [0.3005, 0.3538], [0.2934, 0.3458], [0.2859, 0.3304], [0.2784, 0.3222], [0.2748, 0.3204], [0.2687, 0.3061], [0.262, 0.2997], [0.2553, 0.3006], [0.2511, 0.2973], [0.2469, 0.2955], [0.2425, 0.2919], [0.2405, 0.2867], [0.2375, 0.2826], [0.2357, 0.2883], [0.2316, 0.2749], [0.228, 0.271], [0.2249, 0.2778]]\n",
    "\n",
    "tra = [Napoli[i][0] for i in range(0, len(Napoli))]\n",
    "val = [Napoli[i][1] for i in range(0, len(Napoli))]\n",
    "\n",
    "tra_tot.append(tra)\n",
    "val_tot.append(val)"
   ]
  },
  {
   "cell_type": "code",
   "execution_count": 15,
   "id": "cb3b52b2",
   "metadata": {},
   "outputs": [],
   "source": [
    "Parma = [[0.7254, 0.6384], [0.5919, 0.5832], [0.5492, 0.5538], [0.5084, 0.5194], [0.4675, 0.473], [0.4303, 0.4346], [0.3991, 0.4325], [0.3747, 0.4052], [0.3554, 0.3941], [0.3385, 0.3688], [0.3259, 0.3554], [0.3137, 0.3422], [0.305, 0.3405], [0.2947, 0.3349], [0.286, 0.3277], [0.2788, 0.3121], [0.2749, 0.318], [0.2683, 0.3037], [0.2621, 0.3036], [0.2566, 0.3042], [0.2524, 0.2986], [0.2457, 0.2966], [0.2415, 0.2831], [0.2371, 0.2856], [0.2324, 0.2827], [0.2292, 0.2832], [0.227, 0.2821], [0.2238, 0.2724], [0.2228, 0.2653], [0.2177, 0.2659]]\n",
    "\n",
    "\n",
    "tra = [Parma[i][0] for i in range(0, len(Parma))]\n",
    "val = [Parma[i][1] for i in range(0, len(Parma))]\n",
    "\n",
    "tra_tot.append(tra)\n",
    "val_tot.append(val)"
   ]
  },
  {
   "cell_type": "code",
   "execution_count": 16,
   "id": "b803e55f",
   "metadata": {},
   "outputs": [],
   "source": [
    "Roma = [[0.7277, 0.6402], [0.5925, 0.5952], [0.5476, 0.547], [0.502, 0.5037], [0.4588, 0.4691], [0.422, 0.4332], [0.3899, 0.4148], [0.3664, 0.3898], [0.3463, 0.3674], [0.3308, 0.3562], [0.317, 0.3407], [0.3085, 0.3371], [0.2987, 0.3444], [0.2895, 0.3202], [0.2827, 0.3144], [0.274, 0.3094], [0.2666, 0.3009], [0.2613, 0.3073], [0.2577, 0.3006], [0.2537, 0.3026], [0.2471, 0.2895], [0.2421, 0.2855], [0.2385, 0.2847], [0.2347, 0.2814], [0.2323, 0.2777], [0.2266, 0.28], [0.2224, 0.2808], [0.2188, 0.2712], [0.2148, 0.2615], [0.2123, 0.2653]]\n",
    "\n",
    "tra = [Roma[i][0] for i in range(0, len(Roma))]\n",
    "val = [Roma[i][1] for i in range(0, len(Roma))]\n",
    "\n",
    "tra_tot.append(tra)\n",
    "val_tot.append(val)"
   ]
  },
  {
   "cell_type": "code",
   "execution_count": 17,
   "id": "297fc47e",
   "metadata": {},
   "outputs": [],
   "source": [
    "Sampdoria = [[0.7229, 0.6204], [0.5907, 0.5699], [0.5451, 0.5344], [0.497, 0.4858], [0.4495, 0.4613], [0.4126, 0.4167], [0.3828, 0.3959], [0.3589, 0.3791], [0.3404, 0.3573], [0.3259, 0.346], [0.3139, 0.3376], [0.3018, 0.3354], [0.2918, 0.3213], [0.2851, 0.3133], [0.2774, 0.3029], [0.2689, 0.3002], [0.263, 0.2913], [0.2596, 0.2947], [0.2537, 0.2904], [0.2472, 0.2892], [0.242, 0.2855], [0.2374, 0.2768], [0.2313, 0.2686], [0.2278, 0.2698], [0.2247, 0.2659], [0.222, 0.2678], [0.2218, 0.2644], [0.2169, 0.2639], [0.2113, 0.2609], [0.2071, 0.2587]]\n",
    "\n",
    "tra = [Sampdoria[i][0] for i in range(0, len(Sampdoria))]\n",
    "val = [Sampdoria[i][1] for i in range(0, len(Sampdoria))]\n",
    "\n",
    "tra_tot.append(tra)\n",
    "val_tot.append(val)"
   ]
  },
  {
   "cell_type": "code",
   "execution_count": 18,
   "id": "6dd86a01",
   "metadata": {},
   "outputs": [],
   "source": [
    "Sassuolo = [[0.737, 0.6212], [0.5977, 0.5765], [0.5531, 0.5503], [0.5068, 0.4937], [0.4625, 0.4597], [0.4242, 0.4342], [0.3932, 0.4181], [0.3725, 0.4092], [0.3521, 0.3889], [0.3371, 0.3769], [0.3238, 0.3518], [0.313, 0.3509], [0.3041, 0.3362], [0.2955, 0.3236], [0.2871, 0.3265], [0.2815, 0.3133], [0.273, 0.3156], [0.2687, 0.3058], [0.2628, 0.296], [0.2583, 0.2944], [0.2528, 0.2907], [0.2483, 0.2904], [0.2437, 0.2883], [0.2395, 0.2902], [0.2346, 0.2818], [0.2305, 0.2763], [0.2278, 0.2803], [0.2247, 0.2765], [0.223, 0.2674], [0.2212, 0.2729]]\n",
    "\n",
    "tra = [Sassuolo[i][0] for i in range(0, len(Sassuolo))]\n",
    "val = [Sassuolo[i][1] for i in range(0, len(Sassuolo))]\n",
    "\n",
    "tra_tot.append(tra)\n",
    "val_tot.append(val)"
   ]
  },
  {
   "cell_type": "code",
   "execution_count": 19,
   "id": "7efd033f",
   "metadata": {},
   "outputs": [],
   "source": [
    "Spal = [[0.7255, 0.6343], [0.5799, 0.5664], [0.5237, 0.5102], [0.4739, 0.4594], [0.429, 0.4225], [0.393, 0.3895], [0.3665, 0.3938], [0.3443, 0.3785], [0.3284, 0.3509], [0.3136, 0.3447], [0.3024, 0.3339], [0.2931, 0.3172], [0.2871, 0.3157], [0.2779, 0.3045], [0.2695, 0.2947], [0.2615, 0.2921], [0.2558, 0.2869], [0.2524, 0.2795], [0.2478, 0.2839], [0.2413, 0.2779], [0.236, 0.2713], [0.2313, 0.2738], [0.2284, 0.2708], [0.226, 0.2583], [0.2208, 0.2632], [0.2159, 0.2639], [0.2125, 0.2563], [0.2094, 0.2535], [0.2068, 0.2534], [0.2045, 0.2516]]\n",
    "\n",
    "tra = [Spal[i][0] for i in range(0, len(Spal))]\n",
    "val = [Spal[i][1] for i in range(0, len(Spal))]\n",
    "\n",
    "tra_tot.append(tra)\n",
    "val_tot.append(val)"
   ]
  },
  {
   "cell_type": "code",
   "execution_count": 20,
   "id": "a0764ba7",
   "metadata": {},
   "outputs": [],
   "source": [
    "Torino = [[0.717, 0.6218], [0.57, 0.5822], [0.5069, 0.5005], [0.4477, 0.4598], [0.4029, 0.4243], [0.3683, 0.3964], [0.3439, 0.3709], [0.3256, 0.3617], [0.3105, 0.3434], [0.2971, 0.3552], [0.2876, 0.33], [0.2814, 0.3196], [0.2716, 0.3113], [0.2639, 0.3011], [0.2587, 0.2881], [0.2513, 0.2875], [0.2457, 0.2733], [0.2424, 0.2687], [0.2368, 0.2679], [0.2308, 0.2697], [0.2266, 0.2617], [0.2227, 0.2695], [0.2188, 0.2584], [0.2154, 0.2572], [0.216, 0.2531], [0.2108, 0.248], [0.2062, 0.247], [0.2015, 0.2405], [0.1989, 0.2399], [0.1962, 0.2441]]\n",
    "\n",
    "tra = [Torino[i][0] for i in range(0, len(Torino))]\n",
    "val = [Torino[i][1] for i in range(0, len(Torino))]\n",
    "\n",
    "tra_tot.append(tra)\n",
    "val_tot.append(val)"
   ]
  },
  {
   "cell_type": "code",
   "execution_count": 21,
   "id": "90d60119",
   "metadata": {},
   "outputs": [],
   "source": [
    "Udinese = [[0.7315, 0.6412], [0.5884, 0.6424], [0.5311, 0.5977], [0.4787, 0.4958], [0.4293, 0.4688], [0.3936, 0.42], [0.3679, 0.4123], [0.3466, 0.3878], [0.3295, 0.3651], [0.3147, 0.35], [0.3037, 0.3262], [0.2936, 0.3324], [0.2851, 0.3233], [0.2767, 0.3031], [0.2719, 0.3063], [0.265, 0.3043], [0.2572, 0.2978], [0.2516, 0.2902], [0.2457, 0.2861], [0.2436, 0.279], [0.2395, 0.2738], [0.2334, 0.2739], [0.229, 0.2735], [0.2242, 0.2634], [0.2193, 0.2683], [0.2156, 0.2625], [0.2117, 0.2555], [0.2096, 0.2529], [0.2063, 0.2565], [0.2039, 0.2516]]\n",
    "\n",
    "tra = [Udinese[i][0] for i in range(0, len(Udinese))]\n",
    "val = [Udinese[i][1] for i in range(0, len(Udinese))]\n",
    "\n",
    "tra_tot.append(tra)\n",
    "val_tot.append(val)"
   ]
  },
  {
   "cell_type": "code",
   "execution_count": 22,
   "id": "183e19f7",
   "metadata": {},
   "outputs": [],
   "source": [
    "Verona = [[0.7257, 0.6153], [0.5866, 0.5659], [0.5344, 0.5285], [0.4835, 0.4894], [0.4374, 0.4421], [0.3984, 0.4325], [0.3693, 0.4072], [0.3508, 0.3756], [0.3314, 0.3491], [0.3178, 0.351], [0.3069, 0.3393], [0.296, 0.3237], [0.2885, 0.3227], [0.2811, 0.3089], [0.2731, 0.3038], [0.2654, 0.3033], [0.259, 0.3047], [0.2538, 0.2904], [0.2485, 0.2878], [0.2447, 0.2787], [0.242, 0.288], [0.2382, 0.2932], [0.2343, 0.2758], [0.2285, 0.2684], [0.2241, 0.2706], [0.219, 0.27], [0.2163, 0.2651], [0.2135, 0.2643], [0.2109, 0.2557], [0.2081, 0.2565]]\n",
    "\n",
    "tra = [Verona[i][0] for i in range(0, len(Verona))]\n",
    "val = [Verona[i][1] for i in range(0, len(Verona))]\n",
    "\n",
    "tra_tot.append(tra)\n",
    "val_tot.append(val)"
   ]
  },
  {
   "cell_type": "code",
   "execution_count": 23,
   "id": "a347f38d",
   "metadata": {},
   "outputs": [],
   "source": [
    "all_tra = np.zeros((30, 20))\n",
    "\n",
    "for j in range(0, 30):\n",
    "    all_tra[j] = [tra_tot[i][j] for i in range(0, len(tra_tot))]\n",
    "    \n",
    "all_val = np.zeros((30, 20))\n",
    "\n",
    "for j in range(0, 30):\n",
    "    all_val[j] = [val_tot[i][j] for i in range(0, len(val_tot))]"
   ]
  },
  {
   "cell_type": "code",
   "execution_count": 30,
   "id": "32a745a8",
   "metadata": {},
   "outputs": [
    {
     "data": {
      "image/png": "[encoded data removed]",
      "text/plain": [
       "<Figure size 1440x720 with 1 Axes>"
      ]
     },
     "metadata": {
      "needs_background": "light"
     },
     "output_type": "display_data"
    }
   ],
   "source": [
    "from matplotlib import pyplot as plt\n",
    "from matplotlib.pyplot import figure\n",
    "\n",
    "\n",
    "\n",
    "\n",
    "x = epo_tot\n",
    "y_val = np.mean(all_val, axis = 1)\n",
    "y_tra = np.mean(all_tra, axis = 1)\n",
    "\n",
    "\n",
    "ci_tra = np.std(all_tra, axis = 1) \n",
    "ci_val = np.std(all_val, axis = 1)\n",
    "\n",
    "fig, ax = plt.subplots(figsize=(20, 10))\n",
    "\n",
    "ax.set_xticks(x, minor=False)\n",
    "\n",
    "\n",
    "line1 = ax.plot(x,y_tra, label='Training')\n",
    "ax.fill_between(x, (y_tra-ci_tra), (y_tra+ci_tra), color='b', alpha=.1)\n",
    "\n",
    "line2 = ax.plot(x,y_val, label='Validation')\n",
    "ax.fill_between(x, (y_val-ci_val), (y_val+ci_val), color='r', alpha=.1)\n",
    "\n",
    "handles, labels = ax.get_legend_handles_labels()\n",
    "\n",
    "ax.set_ylabel('RMSE', fontsize=18)\n",
    "ax.set_xlabel('Epochs', fontsize=18)\n",
    "ax.legend(fontsize=18)\n",
    "plt.grid()\n",
    "plt.show()"
   ]
  },
  {
   "cell_type": "code",
   "execution_count": 25,
   "id": "1b2ac99b",
   "metadata": {},
   "outputs": [
    {
     "name": "stdout",
     "output_type": "stream",
     "text": [
      "The training result is: 0.2121 +/- 0.0072\n",
      "The validation result is: 0.2638 +/- 0.0096\n"
     ]
    }
   ],
   "source": [
    "print(f'The training result is: {np.round(np.mean(all_tra, axis = 1)[-1], 4)} +/- {np.round(np.std(all_tra, axis = 1)[-1], 4)}')\n",
    "print(f'The validation result is: {np.round(np.mean(all_val, axis = 1)[-1], 4)} +/- {np.round(np.std(all_val, axis = 1)[-1], 4)}')\n"
   ]
  },
  {
   "cell_type": "code",
   "execution_count": 26,
   "id": "49f90f10",
   "metadata": {},
   "outputs": [
    {
     "data": {
      "text/plain": [
       "array([0.7295, 0.591 , 0.5419, 0.494 , 0.4498, 0.4122, 0.383 , 0.3603,\n",
       "       0.3421, 0.327 , 0.3147, 0.3044, 0.2953, 0.2867, 0.2796, 0.2722,\n",
       "       0.2659, 0.2604, 0.2551, 0.2499, 0.2452, 0.2407, 0.2364, 0.2321,\n",
       "       0.2282, 0.2244, 0.2214, 0.2182, 0.2151, 0.2121])"
      ]
     },
     "execution_count": 26,
     "metadata": {},
     "output_type": "execute_result"
    }
   ],
   "source": [
    "np.round(np.mean(all_tra, axis = 1), 4)"
   ]
  },
  {
   "cell_type": "code",
   "execution_count": 27,
   "id": "945bc16f",
   "metadata": {},
   "outputs": [
    {
     "data": {
      "text/plain": [
       "array([0.0069, 0.0075, 0.0125, 0.0167, 0.0182, 0.0172, 0.0154, 0.0138,\n",
       "       0.0124, 0.0117, 0.0106, 0.01  , 0.0092, 0.0088, 0.0084, 0.0084,\n",
       "       0.0083, 0.0079, 0.0078, 0.0077, 0.0074, 0.0072, 0.0071, 0.0067,\n",
       "       0.0064, 0.0067, 0.0071, 0.0073, 0.0073, 0.0072])"
      ]
     },
     "execution_count": 27,
     "metadata": {},
     "output_type": "execute_result"
    }
   ],
   "source": [
    "np.round(np.std(all_tra, axis = 1), 4)"
   ]
  },
  {
   "cell_type": "code",
   "execution_count": 28,
   "id": "8a7ee60e",
   "metadata": {},
   "outputs": [
    {
     "data": {
      "text/plain": [
       "array([0.631 , 0.5866, 0.5419, 0.5003, 0.4621, 0.4305, 0.4121, 0.3912,\n",
       "       0.373 , 0.3613, 0.3457, 0.3404, 0.3314, 0.3232, 0.3169, 0.3102,\n",
       "       0.306 , 0.2986, 0.2963, 0.2919, 0.2888, 0.2861, 0.2813, 0.2763,\n",
       "       0.2739, 0.2728, 0.2698, 0.2676, 0.2654, 0.2638])"
      ]
     },
     "execution_count": 28,
     "metadata": {},
     "output_type": "execute_result"
    }
   ],
   "source": [
    "np.round(np.mean(all_val, axis = 1), 4)"
   ]
  },
  {
   "cell_type": "code",
   "execution_count": 29,
   "id": "8680fd3d",
   "metadata": {},
   "outputs": [
    {
     "data": {
      "text/plain": [
       "array([0.0143, 0.019 , 0.0198, 0.0194, 0.019 , 0.0196, 0.0161, 0.0144,\n",
       "       0.0164, 0.0154, 0.0115, 0.0158, 0.0127, 0.0137, 0.0142, 0.0106,\n",
       "       0.0128, 0.0121, 0.0106, 0.0108, 0.0109, 0.0096, 0.0105, 0.0105,\n",
       "       0.009 , 0.0091, 0.0115, 0.0101, 0.0102, 0.0096])"
      ]
     },
     "execution_count": 29,
     "metadata": {},
     "output_type": "execute_result"
    }
   ],
   "source": [
    "np.round(np.std(all_val, axis = 1), 4)"
   ]
  },
  {
   "cell_type": "code",
   "execution_count": null,
   "id": "9b1428e4",
   "metadata": {},
   "outputs": [],
   "source": []
  }
 ],
 "metadata": {
  "kernelspec": {
   "display_name": "Python 3 (ipykernel)",
   "language": "python",
   "name": "python3"
  },
  "language_info": {
   "codemirror_mode": {
    "name": "ipython",
    "version": 3
   },
   "file_extension": ".py",
   "mimetype": "text/x-python",
   "name": "python",
   "nbconvert_exporter": "python",
   "pygments_lexer": "ipython3",
   "version": "3.7.4"
  }
 },
 "nbformat": 4,
 "nbformat_minor": 5
}
